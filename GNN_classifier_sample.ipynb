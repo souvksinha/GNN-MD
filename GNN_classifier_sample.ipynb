{
 "cells": [
  {
   "cell_type": "code",
   "execution_count": 1,
   "metadata": {
    "id": "ECFP__dbDUtz"
   },
   "outputs": [],
   "source": [
    "import torch\n",
    "import numpy as np\n",
    "import matplotlib.pyplot as plt\n",
    "import os\n",
    "import glob\n",
    "from tqdm import tqdm\n",
    "import pathlib\n",
    "import math\n",
    "import sklearn\n",
    "import torch_optimizer as optim\n",
    "from torch.optim.lr_scheduler import MultiStepLR, ReduceLROnPlateau\n",
    "from metrics import *\n",
    "from torch_geometric.nn import GCNConv, GATConv, global_max_pool as gmp, global_add_pool as gap,global_mean_pool as gep,global_sort_pool\n",
    "from torch_geometric.utils import dropout_adj\n",
    "import networkx as nx\n",
    "\n",
    "import biographs as bg\n",
    "from Bio import SeqIO\n",
    "from Bio.PDB.PDBParser import PDBParser"
   ]
  },
  {
   "cell_type": "code",
   "execution_count": 2,
   "metadata": {
    "colab": {
     "base_uri": "https://localhost:8080/"
    },
    "id": "87z8OLa0FGSj",
    "outputId": "0407afd2-9911-487a-b1a1-a2b3b3f6e19d"
   },
   "outputs": [
    {
     "name": "stdout",
     "output_type": "stream",
     "text": [
      "cpu\n"
     ]
    }
   ],
   "source": [
    "\n",
    "# Check if CUDA (GPU) is available and set the device accordingly\n",
    "device = torch.device(\"cuda:0\" if torch.cuda.is_available() else \"cpu\")\n",
    "print(device)\n"
   ]
  },
  {
   "cell_type": "code",
   "execution_count": 3,
   "metadata": {
    "colab": {
     "base_uri": "https://localhost:8080/"
    },
    "id": "Wmn2Nxc5JNkZ",
    "outputId": "f63bad0c-5ee7-4cca-8ea4-9c530f32be0d"
   },
   "outputs": [
    {
     "name": "stdout",
     "output_type": "stream",
     "text": [
      "(1159, 1024)\n"
     ]
    }
   ],
   "source": [
    "ftrs = np.load(\"cas13a_embedding.npy\", allow_pickle=True)\n",
    "print(ftrs.shape)"
   ]
  },
  {
   "cell_type": "code",
   "execution_count": 3,
   "metadata": {},
   "outputs": [],
   "source": [
    "import MDAnalysis as mda\n",
    "\n",
    "workdir = '/Users/souviksinha/Desktop/Palermo_Lab/LabWork/GNN_classifier/PPI_GNN/test'"
   ]
  },
  {
   "cell_type": "code",
   "execution_count": 80,
   "metadata": {
    "colab": {
     "base_uri": "https://localhost:8080/"
    },
    "id": "p2ZlDteXKTxh",
    "outputId": "19632796-a694-4084-a93d-f4610876e540"
   },
   "outputs": [
    {
     "name": "stderr",
     "output_type": "stream",
     "text": [
      "/Users/souviksinha/miniconda3/envs/py39_2/lib/python3.9/site-packages/MDAnalysis/coordinates/DCD.py:165: DeprecationWarning: DCDReader currently makes independent timesteps by copying self.ts while other readers update self.ts inplace. This behavior will be changed in 3.0 to be the same as other readers. Read more at https://github.com/MDAnalysis/mdanalysis/issues/3889 to learn if this change in behavior might affect you.\n",
      "  warnings.warn(\"DCDReader currently makes independent timesteps\"\n",
      "/Users/souviksinha/miniconda3/envs/py39_2/lib/python3.9/site-packages/MDAnalysis/coordinates/PDB.py:753: UserWarning: Unit cell dimensions not found. CRYST1 record set to unitary values.\n",
      "  warnings.warn(\"Unit cell dimensions not found. \"\n",
      "/Users/souviksinha/miniconda3/envs/py39_2/lib/python3.9/site-packages/MDAnalysis/coordinates/PDB.py:1129: UserWarning: Found no information for attr: 'formalcharges' Using default value of '0'\n",
      "  warnings.warn(\"Found no information for attr: '{}'\"\n"
     ]
    },
    {
     "name": "stdout",
     "output_type": "stream",
     "text": [
      "Saved PDB file: /Users/souviksinha/Desktop/Palermo_Lab/LabWork/GNN_classifier/PPI_GNN/test/tgRNA_frames/frame_0.pdb\n",
      "Saved PDB file: /Users/souviksinha/Desktop/Palermo_Lab/LabWork/GNN_classifier/PPI_GNN/test/tgRNA_frames/frame_1.pdb\n",
      "Saved PDB file: /Users/souviksinha/Desktop/Palermo_Lab/LabWork/GNN_classifier/PPI_GNN/test/tgRNA_frames/frame_2.pdb\n",
      "Saved PDB file: /Users/souviksinha/Desktop/Palermo_Lab/LabWork/GNN_classifier/PPI_GNN/test/tgRNA_frames/frame_3.pdb\n",
      "Saved PDB file: /Users/souviksinha/Desktop/Palermo_Lab/LabWork/GNN_classifier/PPI_GNN/test/tgRNA_frames/frame_4.pdb\n",
      "Saved PDB file: /Users/souviksinha/Desktop/Palermo_Lab/LabWork/GNN_classifier/PPI_GNN/test/tgRNA_frames/frame_5.pdb\n",
      "Saved PDB file: /Users/souviksinha/Desktop/Palermo_Lab/LabWork/GNN_classifier/PPI_GNN/test/tgRNA_frames/frame_6.pdb\n",
      "Saved PDB file: /Users/souviksinha/Desktop/Palermo_Lab/LabWork/GNN_classifier/PPI_GNN/test/tgRNA_frames/frame_7.pdb\n",
      "Saved PDB file: /Users/souviksinha/Desktop/Palermo_Lab/LabWork/GNN_classifier/PPI_GNN/test/tgRNA_frames/frame_8.pdb\n",
      "Saved PDB file: /Users/souviksinha/Desktop/Palermo_Lab/LabWork/GNN_classifier/PPI_GNN/test/tgRNA_frames/frame_9.pdb\n",
      "Saved PDB file: /Users/souviksinha/Desktop/Palermo_Lab/LabWork/GNN_classifier/PPI_GNN/test/tgRNA_frames/frame_10.pdb\n",
      "Saved PDB file: /Users/souviksinha/Desktop/Palermo_Lab/LabWork/GNN_classifier/PPI_GNN/test/tgRNA_frames/frame_11.pdb\n",
      "Saved PDB file: /Users/souviksinha/Desktop/Palermo_Lab/LabWork/GNN_classifier/PPI_GNN/test/tgRNA_frames/frame_12.pdb\n",
      "Saved PDB file: /Users/souviksinha/Desktop/Palermo_Lab/LabWork/GNN_classifier/PPI_GNN/test/tgRNA_frames/frame_13.pdb\n",
      "Saved PDB file: /Users/souviksinha/Desktop/Palermo_Lab/LabWork/GNN_classifier/PPI_GNN/test/tgRNA_frames/frame_14.pdb\n",
      "Saved PDB file: /Users/souviksinha/Desktop/Palermo_Lab/LabWork/GNN_classifier/PPI_GNN/test/tgRNA_frames/frame_15.pdb\n",
      "Saved PDB file: /Users/souviksinha/Desktop/Palermo_Lab/LabWork/GNN_classifier/PPI_GNN/test/tgRNA_frames/frame_16.pdb\n",
      "Saved PDB file: /Users/souviksinha/Desktop/Palermo_Lab/LabWork/GNN_classifier/PPI_GNN/test/tgRNA_frames/frame_17.pdb\n",
      "Saved PDB file: /Users/souviksinha/Desktop/Palermo_Lab/LabWork/GNN_classifier/PPI_GNN/test/tgRNA_frames/frame_18.pdb\n",
      "Saved PDB file: /Users/souviksinha/Desktop/Palermo_Lab/LabWork/GNN_classifier/PPI_GNN/test/tgRNA_frames/frame_19.pdb\n",
      "Saved PDB file: /Users/souviksinha/Desktop/Palermo_Lab/LabWork/GNN_classifier/PPI_GNN/test/tgRNA_frames/frame_20.pdb\n",
      "Saved PDB file: /Users/souviksinha/Desktop/Palermo_Lab/LabWork/GNN_classifier/PPI_GNN/test/tgRNA_frames/frame_21.pdb\n",
      "Saved PDB file: /Users/souviksinha/Desktop/Palermo_Lab/LabWork/GNN_classifier/PPI_GNN/test/tgRNA_frames/frame_22.pdb\n",
      "Saved PDB file: /Users/souviksinha/Desktop/Palermo_Lab/LabWork/GNN_classifier/PPI_GNN/test/tgRNA_frames/frame_23.pdb\n",
      "Saved PDB file: /Users/souviksinha/Desktop/Palermo_Lab/LabWork/GNN_classifier/PPI_GNN/test/tgRNA_frames/frame_24.pdb\n",
      "Saved PDB file: /Users/souviksinha/Desktop/Palermo_Lab/LabWork/GNN_classifier/PPI_GNN/test/tgRNA_frames/frame_25.pdb\n",
      "Saved PDB file: /Users/souviksinha/Desktop/Palermo_Lab/LabWork/GNN_classifier/PPI_GNN/test/tgRNA_frames/frame_26.pdb\n",
      "Saved PDB file: /Users/souviksinha/Desktop/Palermo_Lab/LabWork/GNN_classifier/PPI_GNN/test/tgRNA_frames/frame_27.pdb\n",
      "Saved PDB file: /Users/souviksinha/Desktop/Palermo_Lab/LabWork/GNN_classifier/PPI_GNN/test/tgRNA_frames/frame_28.pdb\n",
      "Saved PDB file: /Users/souviksinha/Desktop/Palermo_Lab/LabWork/GNN_classifier/PPI_GNN/test/tgRNA_frames/frame_29.pdb\n",
      "Saved PDB file: /Users/souviksinha/Desktop/Palermo_Lab/LabWork/GNN_classifier/PPI_GNN/test/tgRNA_frames/frame_30.pdb\n",
      "Saved PDB file: /Users/souviksinha/Desktop/Palermo_Lab/LabWork/GNN_classifier/PPI_GNN/test/tgRNA_frames/frame_31.pdb\n",
      "Saved PDB file: /Users/souviksinha/Desktop/Palermo_Lab/LabWork/GNN_classifier/PPI_GNN/test/tgRNA_frames/frame_32.pdb\n",
      "Saved PDB file: /Users/souviksinha/Desktop/Palermo_Lab/LabWork/GNN_classifier/PPI_GNN/test/tgRNA_frames/frame_33.pdb\n",
      "Saved PDB file: /Users/souviksinha/Desktop/Palermo_Lab/LabWork/GNN_classifier/PPI_GNN/test/tgRNA_frames/frame_34.pdb\n",
      "Saved PDB file: /Users/souviksinha/Desktop/Palermo_Lab/LabWork/GNN_classifier/PPI_GNN/test/tgRNA_frames/frame_35.pdb\n",
      "Saved PDB file: /Users/souviksinha/Desktop/Palermo_Lab/LabWork/GNN_classifier/PPI_GNN/test/tgRNA_frames/frame_36.pdb\n",
      "Saved PDB file: /Users/souviksinha/Desktop/Palermo_Lab/LabWork/GNN_classifier/PPI_GNN/test/tgRNA_frames/frame_37.pdb\n",
      "Saved PDB file: /Users/souviksinha/Desktop/Palermo_Lab/LabWork/GNN_classifier/PPI_GNN/test/tgRNA_frames/frame_38.pdb\n",
      "Saved PDB file: /Users/souviksinha/Desktop/Palermo_Lab/LabWork/GNN_classifier/PPI_GNN/test/tgRNA_frames/frame_39.pdb\n",
      "Saved PDB file: /Users/souviksinha/Desktop/Palermo_Lab/LabWork/GNN_classifier/PPI_GNN/test/tgRNA_frames/frame_40.pdb\n",
      "Saved PDB file: /Users/souviksinha/Desktop/Palermo_Lab/LabWork/GNN_classifier/PPI_GNN/test/tgRNA_frames/frame_41.pdb\n",
      "Saved PDB file: /Users/souviksinha/Desktop/Palermo_Lab/LabWork/GNN_classifier/PPI_GNN/test/tgRNA_frames/frame_42.pdb\n",
      "Saved PDB file: /Users/souviksinha/Desktop/Palermo_Lab/LabWork/GNN_classifier/PPI_GNN/test/tgRNA_frames/frame_43.pdb\n",
      "Saved PDB file: /Users/souviksinha/Desktop/Palermo_Lab/LabWork/GNN_classifier/PPI_GNN/test/tgRNA_frames/frame_44.pdb\n",
      "Saved PDB file: /Users/souviksinha/Desktop/Palermo_Lab/LabWork/GNN_classifier/PPI_GNN/test/tgRNA_frames/frame_45.pdb\n",
      "Saved PDB file: /Users/souviksinha/Desktop/Palermo_Lab/LabWork/GNN_classifier/PPI_GNN/test/tgRNA_frames/frame_46.pdb\n",
      "Saved PDB file: /Users/souviksinha/Desktop/Palermo_Lab/LabWork/GNN_classifier/PPI_GNN/test/tgRNA_frames/frame_47.pdb\n",
      "Saved PDB file: /Users/souviksinha/Desktop/Palermo_Lab/LabWork/GNN_classifier/PPI_GNN/test/tgRNA_frames/frame_48.pdb\n",
      "Saved PDB file: /Users/souviksinha/Desktop/Palermo_Lab/LabWork/GNN_classifier/PPI_GNN/test/tgRNA_frames/frame_49.pdb\n",
      "Saved PDB file: /Users/souviksinha/Desktop/Palermo_Lab/LabWork/GNN_classifier/PPI_GNN/test/tgRNA_frames/frame_50.pdb\n",
      "Saved PDB file: /Users/souviksinha/Desktop/Palermo_Lab/LabWork/GNN_classifier/PPI_GNN/test/tgRNA_frames/frame_51.pdb\n",
      "Saved PDB file: /Users/souviksinha/Desktop/Palermo_Lab/LabWork/GNN_classifier/PPI_GNN/test/tgRNA_frames/frame_52.pdb\n",
      "Saved PDB file: /Users/souviksinha/Desktop/Palermo_Lab/LabWork/GNN_classifier/PPI_GNN/test/tgRNA_frames/frame_53.pdb\n",
      "Saved PDB file: /Users/souviksinha/Desktop/Palermo_Lab/LabWork/GNN_classifier/PPI_GNN/test/tgRNA_frames/frame_54.pdb\n",
      "Saved PDB file: /Users/souviksinha/Desktop/Palermo_Lab/LabWork/GNN_classifier/PPI_GNN/test/tgRNA_frames/frame_55.pdb\n",
      "Saved PDB file: /Users/souviksinha/Desktop/Palermo_Lab/LabWork/GNN_classifier/PPI_GNN/test/tgRNA_frames/frame_56.pdb\n",
      "Saved PDB file: /Users/souviksinha/Desktop/Palermo_Lab/LabWork/GNN_classifier/PPI_GNN/test/tgRNA_frames/frame_57.pdb\n",
      "Saved PDB file: /Users/souviksinha/Desktop/Palermo_Lab/LabWork/GNN_classifier/PPI_GNN/test/tgRNA_frames/frame_58.pdb\n",
      "Saved PDB file: /Users/souviksinha/Desktop/Palermo_Lab/LabWork/GNN_classifier/PPI_GNN/test/tgRNA_frames/frame_59.pdb\n",
      "Saved PDB file: /Users/souviksinha/Desktop/Palermo_Lab/LabWork/GNN_classifier/PPI_GNN/test/tgRNA_frames/frame_60.pdb\n",
      "Saved PDB file: /Users/souviksinha/Desktop/Palermo_Lab/LabWork/GNN_classifier/PPI_GNN/test/tgRNA_frames/frame_61.pdb\n",
      "Saved PDB file: /Users/souviksinha/Desktop/Palermo_Lab/LabWork/GNN_classifier/PPI_GNN/test/tgRNA_frames/frame_62.pdb\n",
      "Saved PDB file: /Users/souviksinha/Desktop/Palermo_Lab/LabWork/GNN_classifier/PPI_GNN/test/tgRNA_frames/frame_63.pdb\n",
      "Saved PDB file: /Users/souviksinha/Desktop/Palermo_Lab/LabWork/GNN_classifier/PPI_GNN/test/tgRNA_frames/frame_64.pdb\n",
      "Saved PDB file: /Users/souviksinha/Desktop/Palermo_Lab/LabWork/GNN_classifier/PPI_GNN/test/tgRNA_frames/frame_65.pdb\n",
      "Saved PDB file: /Users/souviksinha/Desktop/Palermo_Lab/LabWork/GNN_classifier/PPI_GNN/test/tgRNA_frames/frame_66.pdb\n",
      "Saved PDB file: /Users/souviksinha/Desktop/Palermo_Lab/LabWork/GNN_classifier/PPI_GNN/test/tgRNA_frames/frame_67.pdb\n",
      "Saved PDB file: /Users/souviksinha/Desktop/Palermo_Lab/LabWork/GNN_classifier/PPI_GNN/test/tgRNA_frames/frame_68.pdb\n",
      "Saved PDB file: /Users/souviksinha/Desktop/Palermo_Lab/LabWork/GNN_classifier/PPI_GNN/test/tgRNA_frames/frame_69.pdb\n",
      "Saved PDB file: /Users/souviksinha/Desktop/Palermo_Lab/LabWork/GNN_classifier/PPI_GNN/test/tgRNA_frames/frame_70.pdb\n"
     ]
    },
    {
     "name": "stdout",
     "output_type": "stream",
     "text": [
      "Saved PDB file: /Users/souviksinha/Desktop/Palermo_Lab/LabWork/GNN_classifier/PPI_GNN/test/tgRNA_frames/frame_71.pdb\n",
      "Saved PDB file: /Users/souviksinha/Desktop/Palermo_Lab/LabWork/GNN_classifier/PPI_GNN/test/tgRNA_frames/frame_72.pdb\n",
      "Saved PDB file: /Users/souviksinha/Desktop/Palermo_Lab/LabWork/GNN_classifier/PPI_GNN/test/tgRNA_frames/frame_73.pdb\n",
      "Saved PDB file: /Users/souviksinha/Desktop/Palermo_Lab/LabWork/GNN_classifier/PPI_GNN/test/tgRNA_frames/frame_74.pdb\n",
      "Saved PDB file: /Users/souviksinha/Desktop/Palermo_Lab/LabWork/GNN_classifier/PPI_GNN/test/tgRNA_frames/frame_75.pdb\n",
      "Saved PDB file: /Users/souviksinha/Desktop/Palermo_Lab/LabWork/GNN_classifier/PPI_GNN/test/tgRNA_frames/frame_76.pdb\n",
      "Saved PDB file: /Users/souviksinha/Desktop/Palermo_Lab/LabWork/GNN_classifier/PPI_GNN/test/tgRNA_frames/frame_77.pdb\n",
      "Saved PDB file: /Users/souviksinha/Desktop/Palermo_Lab/LabWork/GNN_classifier/PPI_GNN/test/tgRNA_frames/frame_78.pdb\n",
      "Saved PDB file: /Users/souviksinha/Desktop/Palermo_Lab/LabWork/GNN_classifier/PPI_GNN/test/tgRNA_frames/frame_79.pdb\n",
      "Saved PDB file: /Users/souviksinha/Desktop/Palermo_Lab/LabWork/GNN_classifier/PPI_GNN/test/tgRNA_frames/frame_80.pdb\n",
      "Saved PDB file: /Users/souviksinha/Desktop/Palermo_Lab/LabWork/GNN_classifier/PPI_GNN/test/tgRNA_frames/frame_81.pdb\n",
      "Saved PDB file: /Users/souviksinha/Desktop/Palermo_Lab/LabWork/GNN_classifier/PPI_GNN/test/tgRNA_frames/frame_82.pdb\n",
      "Saved PDB file: /Users/souviksinha/Desktop/Palermo_Lab/LabWork/GNN_classifier/PPI_GNN/test/tgRNA_frames/frame_83.pdb\n",
      "Saved PDB file: /Users/souviksinha/Desktop/Palermo_Lab/LabWork/GNN_classifier/PPI_GNN/test/tgRNA_frames/frame_84.pdb\n",
      "Saved PDB file: /Users/souviksinha/Desktop/Palermo_Lab/LabWork/GNN_classifier/PPI_GNN/test/tgRNA_frames/frame_85.pdb\n",
      "Saved PDB file: /Users/souviksinha/Desktop/Palermo_Lab/LabWork/GNN_classifier/PPI_GNN/test/tgRNA_frames/frame_86.pdb\n",
      "Saved PDB file: /Users/souviksinha/Desktop/Palermo_Lab/LabWork/GNN_classifier/PPI_GNN/test/tgRNA_frames/frame_87.pdb\n",
      "Saved PDB file: /Users/souviksinha/Desktop/Palermo_Lab/LabWork/GNN_classifier/PPI_GNN/test/tgRNA_frames/frame_88.pdb\n",
      "Saved PDB file: /Users/souviksinha/Desktop/Palermo_Lab/LabWork/GNN_classifier/PPI_GNN/test/tgRNA_frames/frame_89.pdb\n",
      "Saved PDB file: /Users/souviksinha/Desktop/Palermo_Lab/LabWork/GNN_classifier/PPI_GNN/test/tgRNA_frames/frame_90.pdb\n",
      "Saved PDB file: /Users/souviksinha/Desktop/Palermo_Lab/LabWork/GNN_classifier/PPI_GNN/test/tgRNA_frames/frame_91.pdb\n",
      "Saved PDB file: /Users/souviksinha/Desktop/Palermo_Lab/LabWork/GNN_classifier/PPI_GNN/test/tgRNA_frames/frame_92.pdb\n",
      "Saved PDB file: /Users/souviksinha/Desktop/Palermo_Lab/LabWork/GNN_classifier/PPI_GNN/test/tgRNA_frames/frame_93.pdb\n",
      "Saved PDB file: /Users/souviksinha/Desktop/Palermo_Lab/LabWork/GNN_classifier/PPI_GNN/test/tgRNA_frames/frame_94.pdb\n",
      "Saved PDB file: /Users/souviksinha/Desktop/Palermo_Lab/LabWork/GNN_classifier/PPI_GNN/test/tgRNA_frames/frame_95.pdb\n",
      "Saved PDB file: /Users/souviksinha/Desktop/Palermo_Lab/LabWork/GNN_classifier/PPI_GNN/test/tgRNA_frames/frame_96.pdb\n",
      "Saved PDB file: /Users/souviksinha/Desktop/Palermo_Lab/LabWork/GNN_classifier/PPI_GNN/test/tgRNA_frames/frame_97.pdb\n",
      "Saved PDB file: /Users/souviksinha/Desktop/Palermo_Lab/LabWork/GNN_classifier/PPI_GNN/test/tgRNA_frames/frame_98.pdb\n",
      "Saved PDB file: /Users/souviksinha/Desktop/Palermo_Lab/LabWork/GNN_classifier/PPI_GNN/test/tgRNA_frames/frame_99.pdb\n",
      "Saved PDB file: /Users/souviksinha/Desktop/Palermo_Lab/LabWork/GNN_classifier/PPI_GNN/test/tgRNA_frames/frame_100.pdb\n",
      "Saved PDB file: /Users/souviksinha/Desktop/Palermo_Lab/LabWork/GNN_classifier/PPI_GNN/test/tgRNA_frames/frame_101.pdb\n",
      "Saved PDB file: /Users/souviksinha/Desktop/Palermo_Lab/LabWork/GNN_classifier/PPI_GNN/test/tgRNA_frames/frame_102.pdb\n",
      "Saved PDB file: /Users/souviksinha/Desktop/Palermo_Lab/LabWork/GNN_classifier/PPI_GNN/test/tgRNA_frames/frame_103.pdb\n",
      "Saved PDB file: /Users/souviksinha/Desktop/Palermo_Lab/LabWork/GNN_classifier/PPI_GNN/test/tgRNA_frames/frame_104.pdb\n",
      "Saved PDB file: /Users/souviksinha/Desktop/Palermo_Lab/LabWork/GNN_classifier/PPI_GNN/test/tgRNA_frames/frame_105.pdb\n",
      "Saved PDB file: /Users/souviksinha/Desktop/Palermo_Lab/LabWork/GNN_classifier/PPI_GNN/test/tgRNA_frames/frame_106.pdb\n",
      "Saved PDB file: /Users/souviksinha/Desktop/Palermo_Lab/LabWork/GNN_classifier/PPI_GNN/test/tgRNA_frames/frame_107.pdb\n",
      "Saved PDB file: /Users/souviksinha/Desktop/Palermo_Lab/LabWork/GNN_classifier/PPI_GNN/test/tgRNA_frames/frame_108.pdb\n",
      "Saved PDB file: /Users/souviksinha/Desktop/Palermo_Lab/LabWork/GNN_classifier/PPI_GNN/test/tgRNA_frames/frame_109.pdb\n",
      "Saved PDB file: /Users/souviksinha/Desktop/Palermo_Lab/LabWork/GNN_classifier/PPI_GNN/test/tgRNA_frames/frame_110.pdb\n",
      "Saved PDB file: /Users/souviksinha/Desktop/Palermo_Lab/LabWork/GNN_classifier/PPI_GNN/test/tgRNA_frames/frame_111.pdb\n",
      "Saved PDB file: /Users/souviksinha/Desktop/Palermo_Lab/LabWork/GNN_classifier/PPI_GNN/test/tgRNA_frames/frame_112.pdb\n",
      "Saved PDB file: /Users/souviksinha/Desktop/Palermo_Lab/LabWork/GNN_classifier/PPI_GNN/test/tgRNA_frames/frame_113.pdb\n",
      "Saved PDB file: /Users/souviksinha/Desktop/Palermo_Lab/LabWork/GNN_classifier/PPI_GNN/test/tgRNA_frames/frame_114.pdb\n",
      "Saved PDB file: /Users/souviksinha/Desktop/Palermo_Lab/LabWork/GNN_classifier/PPI_GNN/test/tgRNA_frames/frame_115.pdb\n",
      "Saved PDB file: /Users/souviksinha/Desktop/Palermo_Lab/LabWork/GNN_classifier/PPI_GNN/test/tgRNA_frames/frame_116.pdb\n",
      "Saved PDB file: /Users/souviksinha/Desktop/Palermo_Lab/LabWork/GNN_classifier/PPI_GNN/test/tgRNA_frames/frame_117.pdb\n",
      "Saved PDB file: /Users/souviksinha/Desktop/Palermo_Lab/LabWork/GNN_classifier/PPI_GNN/test/tgRNA_frames/frame_118.pdb\n",
      "Saved PDB file: /Users/souviksinha/Desktop/Palermo_Lab/LabWork/GNN_classifier/PPI_GNN/test/tgRNA_frames/frame_119.pdb\n",
      "Saved PDB file: /Users/souviksinha/Desktop/Palermo_Lab/LabWork/GNN_classifier/PPI_GNN/test/tgRNA_frames/frame_120.pdb\n",
      "Saved PDB file: /Users/souviksinha/Desktop/Palermo_Lab/LabWork/GNN_classifier/PPI_GNN/test/tgRNA_frames/frame_121.pdb\n",
      "Saved PDB file: /Users/souviksinha/Desktop/Palermo_Lab/LabWork/GNN_classifier/PPI_GNN/test/tgRNA_frames/frame_122.pdb\n",
      "Saved PDB file: /Users/souviksinha/Desktop/Palermo_Lab/LabWork/GNN_classifier/PPI_GNN/test/tgRNA_frames/frame_123.pdb\n",
      "Saved PDB file: /Users/souviksinha/Desktop/Palermo_Lab/LabWork/GNN_classifier/PPI_GNN/test/tgRNA_frames/frame_124.pdb\n",
      "Saved PDB file: /Users/souviksinha/Desktop/Palermo_Lab/LabWork/GNN_classifier/PPI_GNN/test/tgRNA_frames/frame_125.pdb\n",
      "Saved PDB file: /Users/souviksinha/Desktop/Palermo_Lab/LabWork/GNN_classifier/PPI_GNN/test/tgRNA_frames/frame_126.pdb\n",
      "Saved PDB file: /Users/souviksinha/Desktop/Palermo_Lab/LabWork/GNN_classifier/PPI_GNN/test/tgRNA_frames/frame_127.pdb\n",
      "Saved PDB file: /Users/souviksinha/Desktop/Palermo_Lab/LabWork/GNN_classifier/PPI_GNN/test/tgRNA_frames/frame_128.pdb\n",
      "Saved PDB file: /Users/souviksinha/Desktop/Palermo_Lab/LabWork/GNN_classifier/PPI_GNN/test/tgRNA_frames/frame_129.pdb\n",
      "Saved PDB file: /Users/souviksinha/Desktop/Palermo_Lab/LabWork/GNN_classifier/PPI_GNN/test/tgRNA_frames/frame_130.pdb\n",
      "Saved PDB file: /Users/souviksinha/Desktop/Palermo_Lab/LabWork/GNN_classifier/PPI_GNN/test/tgRNA_frames/frame_131.pdb\n",
      "Saved PDB file: /Users/souviksinha/Desktop/Palermo_Lab/LabWork/GNN_classifier/PPI_GNN/test/tgRNA_frames/frame_132.pdb\n",
      "Saved PDB file: /Users/souviksinha/Desktop/Palermo_Lab/LabWork/GNN_classifier/PPI_GNN/test/tgRNA_frames/frame_133.pdb\n",
      "Saved PDB file: /Users/souviksinha/Desktop/Palermo_Lab/LabWork/GNN_classifier/PPI_GNN/test/tgRNA_frames/frame_134.pdb\n",
      "Saved PDB file: /Users/souviksinha/Desktop/Palermo_Lab/LabWork/GNN_classifier/PPI_GNN/test/tgRNA_frames/frame_135.pdb\n",
      "Saved PDB file: /Users/souviksinha/Desktop/Palermo_Lab/LabWork/GNN_classifier/PPI_GNN/test/tgRNA_frames/frame_136.pdb\n",
      "Saved PDB file: /Users/souviksinha/Desktop/Palermo_Lab/LabWork/GNN_classifier/PPI_GNN/test/tgRNA_frames/frame_137.pdb\n",
      "Saved PDB file: /Users/souviksinha/Desktop/Palermo_Lab/LabWork/GNN_classifier/PPI_GNN/test/tgRNA_frames/frame_138.pdb\n",
      "Saved PDB file: /Users/souviksinha/Desktop/Palermo_Lab/LabWork/GNN_classifier/PPI_GNN/test/tgRNA_frames/frame_139.pdb\n",
      "Saved PDB file: /Users/souviksinha/Desktop/Palermo_Lab/LabWork/GNN_classifier/PPI_GNN/test/tgRNA_frames/frame_140.pdb\n"
     ]
    },
    {
     "name": "stdout",
     "output_type": "stream",
     "text": [
      "Saved PDB file: /Users/souviksinha/Desktop/Palermo_Lab/LabWork/GNN_classifier/PPI_GNN/test/tgRNA_frames/frame_141.pdb\n",
      "Saved PDB file: /Users/souviksinha/Desktop/Palermo_Lab/LabWork/GNN_classifier/PPI_GNN/test/tgRNA_frames/frame_142.pdb\n",
      "Saved PDB file: /Users/souviksinha/Desktop/Palermo_Lab/LabWork/GNN_classifier/PPI_GNN/test/tgRNA_frames/frame_143.pdb\n",
      "Saved PDB file: /Users/souviksinha/Desktop/Palermo_Lab/LabWork/GNN_classifier/PPI_GNN/test/tgRNA_frames/frame_144.pdb\n",
      "Saved PDB file: /Users/souviksinha/Desktop/Palermo_Lab/LabWork/GNN_classifier/PPI_GNN/test/tgRNA_frames/frame_145.pdb\n",
      "Saved PDB file: /Users/souviksinha/Desktop/Palermo_Lab/LabWork/GNN_classifier/PPI_GNN/test/tgRNA_frames/frame_146.pdb\n",
      "Saved PDB file: /Users/souviksinha/Desktop/Palermo_Lab/LabWork/GNN_classifier/PPI_GNN/test/tgRNA_frames/frame_147.pdb\n",
      "Saved PDB file: /Users/souviksinha/Desktop/Palermo_Lab/LabWork/GNN_classifier/PPI_GNN/test/tgRNA_frames/frame_148.pdb\n",
      "Saved PDB file: /Users/souviksinha/Desktop/Palermo_Lab/LabWork/GNN_classifier/PPI_GNN/test/tgRNA_frames/frame_149.pdb\n"
     ]
    }
   ],
   "source": [
    "import MDAnalysis as mda\n",
    "\n",
    "workdir = '/Users/souviksinha/Desktop/Palermo_Lab/LabWork/GNN_classifier/PPI_GNN/test'\n",
    "# Load the DCD trajectory file and associated topology (PSF or PDB file)\n",
    "# dcd_file = os.path.join(workdir, \"crRNA_R1-3_network_reducedTraj.dcd\")\n",
    "# topology_file = os.path.join(workdir, \"crRNA_R1-3_network_reducedTraj.pdb\")  # or \"your_topology_file.pdb\"\n",
    "\n",
    "dcd_file = os.path.join(workdir, \"tgRNA_network_reducedTraj_frame150.dcd\")\n",
    "topology_file = os.path.join(workdir, \"tgRNA_network_reducedTraj.pdb\")  # or \"your_topology_file.pdb\"\n",
    "\n",
    "os.makedirs(os.path.join(workdir, \"tgRNA_frames\"), exist_ok = True)\n",
    "# Create a Universe object to represent the system\n",
    "u = mda.Universe(topology_file, dcd_file)\n",
    "\n",
    "# Iterate over each frame in the trajectory\n",
    "for ts in u.trajectory:\n",
    "    # Create a PDB filename for the current frame (you can modify the naming as needed)\n",
    "    pdb_filename = os.path.join(workdir,f\"tgRNA_frames/frame_{ts.frame}.pdb\")\n",
    "    ag = u.select_atoms(\"protein\")\n",
    "\n",
    "    # Write the coordinates of the current frame to the PDB file\n",
    "    with mda.Writer(pdb_filename, bonds=None, n_atoms=ag.atoms.n_atoms) as pdb:\n",
    "        pdb.write(ag.atoms)\n",
    "\n",
    "    print(f\"Saved PDB file: {pdb_filename}\")\n"
   ]
  },
  {
   "cell_type": "code",
   "execution_count": 4,
   "metadata": {
    "colab": {
     "base_uri": "https://localhost:8080/",
     "height": 393
    },
    "id": "e7IiEEQ-Q6Ca",
    "outputId": "0498a93a-d42c-4bf5-863d-e4a2a7de624d"
   },
   "outputs": [
    {
     "name": "stdout",
     "output_type": "stream",
     "text": [
      "(1153, 1024)\n"
     ]
    }
   ],
   "source": [
    "from bio_embeddings.embed import SeqVecEmbedder\n",
    "\n",
    "# Dictionary for getting Residue symbols\n",
    "ressymbl = {'ALA': 'A', 'CYS': 'C', 'ASP': 'D', 'GLU':'E', 'PHE': 'F', 'GLY': 'G', 'HIE': 'H', 'ILE': 'I', 'LYS': 'K', 'LEU': 'L', 'MET': 'M', 'ASN': 'N', 'PRO': 'P', 'GLN':'Q', 'ARG':'R', 'SER': 'S','THR': 'T', 'VAL': 'V', 'TRP':'W', 'TYR': 'Y'}\n",
    "# get structure from a pdb file\n",
    "# Uses biopython\n",
    "def get_structure(file):\n",
    "    parser = PDBParser()\n",
    "    structure = parser.get_structure(id, file) # return a Structure object.\n",
    "    return structure\n",
    "\n",
    "# Function to get sequence from pdb structure\n",
    "# Uses structure made using biopython\n",
    "# Those residues for which symbols are U / X are converted into A\n",
    "def get_sequence(structure):\n",
    "    sequence =\"\"\n",
    "    for model in structure:\n",
    "      for chain in model:\n",
    "        for residue in chain:\n",
    "          if residue.get_resname() in ressymbl.keys():\n",
    "              sequence = sequence+ ressymbl[residue.get_resname()]\n",
    "    return sequence\n",
    "\n",
    "# Define the protein sequence\n",
    "# seq = 'MKVTKVGGISHKKYTSEGRLVKSESEENRTDERLSALLNMRLDMYIKNPSSTETKENQKRIGKLKKFFSNKMVYLKDNTLSLKNGKKENIDREYSETDILESDVRDKKNFAVLKKIYLNENVNSEELEVFRNDIKKKLNKINSLKYSFEKNKANYQKINENNIEKVEGKSKRNIIYDYYRESAKRDAYVSNVKEAFDKLYKEEDIAKLVLEIENLTKLEKYKIREFYHEIIGRKNDKENFAKIIYEEIQNVNNMKELIEKVPDMSELKKSQVFYKYYLDKEELNDKNIKYAFCHFVEIEMSQLLKNYVYKRLSNISNDKIKRIFEYQNLKKLIENKLLNKLDTYVRNCGKYNYYLQDGEIATSDFIARNRQNEAFLRNIIGVSSVAYFSLRNILETENENDITGRMRGKTVKNNKGEEKYVSGEVDKIYNENKKNEVKENLKMFYSYDFNMDNKNEIEDFFANIDEAISSIRHGIVHFNLELEGKDIFAFKNIAPSEISKKMFQNEINEKKLKLKIFRQLNSANVFRYLEKYKILNYLKRTRFEFVNKNIPFVPSFTKLYSRIDDLKNSLGIYWKTPKTNDDNKTKEIIDAQIYLLKNIYYGEFLNYFMSNNGNFFEISKEIIELNKNDKRNLKTGFYKLQKFEDIQEKIPKEYLANIQSLYMINAGNQDEEEKDTYIDFIQKIFLKGFMTYLANNGRLSLIYIGSDEETNTSLAEKKQEFDKFLKKYEQNNNIKIPYEINEFLREIKLGNILKYTERLNMFYLILKLLNHKELTNLKGSLEKYQSANKEEAFSDQLELINLLNLDNNRVTEDFELEADEIGKFLDFNGNKVKDNKELKKFDTNKIYFDGENIIKHRAFYNIKKYGMLNLLEKIADKAGYKISIEELKKYSNKKNEIEKNHKMQENLHRKYARPRKDEKFTDEDYESYKQAIENIEEYTHLKNKVEFNELNLLQGLLLRILHRLVGYTSIWERDLRFRLKGEFPENQYIEEIFNFENKKNVKYKGGQIVEKYIKFYKELHQNDEVKINKYSSANIKVLKQEKKDLYIANYIAAFNYIPHAEISLLEVLENLRKLLSYDRKLKNAVMKSVVDILKEYGFVATFKIGADKKIGIQTLESEKIVHLKNLKKKKLMTDRNSEELCKLVKIMFEYKMEEKKSEN'\n",
    "# seq = get_sequence(get_structure(os.path.join(workdir, \"crRNA_R1-3_network_reducedTraj.pdb\")))\n",
    "seq = get_sequence(get_structure(os.path.join(workdir, \"tgRNA_network_reducedTraj.pdb\")))\n",
    "# Create an instance of the SeqVecEmbedder\n",
    "embedder = SeqVecEmbedder()\n",
    "\n",
    "# Obtain the embedding of the protein sequence\n",
    "embedding = embedder.embed(seq)\n",
    "\n",
    "# Convert the embedding to a PyTorch tensor on CPU\n",
    "protein_embd = torch.tensor(embedding).sum(dim=0).cpu().numpy()\n",
    "print(protein_embd.shape)"
   ]
  },
  {
   "cell_type": "code",
   "execution_count": 77,
   "metadata": {
    "id": "hdbgbf3wYzZx"
   },
   "outputs": [],
   "source": [
    "from torch_geometric.data import Dataset, Dataset, download_url, Data,  Batch\n",
    "\n",
    "# list of 20 proteins\n",
    "pro_res_table = ['A', 'C', 'D', 'E', 'F', 'G', 'H', 'I', 'K', 'L', 'M', 'N', 'P', 'Q', 'R', 'S', 'T', 'V', 'W', 'Y']\n",
    "\n",
    "# Dictionary for getting Residue symbols\n",
    "ressymbl = {'ALA': 'A', 'CYS': 'C', 'ASP': 'D', 'GLU':'E', 'PHE': 'F', 'GLY': 'G', 'HIE': 'H', 'ILE': 'I', 'LYS': 'K', 'LEU': 'L', 'MET': 'M', 'ASN': 'N', 'PRO': 'P', 'GLN':'Q', 'ARG':'R', 'SER': 'S','THR': 'T', 'VAL': 'V', 'TRP':'W', 'TYR': 'Y'}\n",
    "\n",
    "\n",
    "class ProteinDataset(Dataset):\n",
    "    def __init__(self, root, transform=None, pre_transform=None):\n",
    "        super(ProteinDataset, self).__init__(root, transform=None,\n",
    "                 pre_transform=None)\n",
    "        self.data = self.processed_paths\n",
    "        #self.processed_dir = \"../human_features/processed/\"\n",
    "        # self.data = torch.load(self.processed_paths)\n",
    "        # print(\"Daata si {}\". format(self.data))\n",
    "\n",
    "    @property\n",
    "    def raw_file_names(self):\n",
    "\n",
    "#         return [filename for filename in os.scandir(self.root)] # A list of files in the raw directory which needs to be found in order to skip the download. (this file path is also raw_path)\n",
    "        files = [filename for filename in os.scandir(self.root+\"/raw\")]\n",
    "#         print(files)\n",
    "#         print(self.raw_paths)\n",
    "        return files\n",
    "\n",
    "\n",
    "    \n",
    "    @property\n",
    "    def processed_file_names(self):\n",
    "#         print(self.raw_paths)\n",
    "        file_names = [file.split('/')[0]+\"/\"+file.split('/')[1]+\"/\"+file.split('/')[4] for file in self.raw_paths]\n",
    "#         file = self.raw_paths[0]\n",
    "#         print(file_names)\n",
    "#         return [os.path.splitext(os.path.basename(file))[0]+'.pt' for file in self.raw_paths] # A list of files in the processed_dir which needs to be found in order to skip the processing. If *.pt not found, data will be processed\n",
    "        return [os.path.splitext(os.path.basename(file))[0]+'.pt' for file in file_names]\n",
    "    def download(self):\n",
    "        # Download to `self.raw_dir`.\n",
    "        pass\n",
    "\n",
    "    def process(self):\n",
    "        # Read data into huge `Data` list.\n",
    "        self.data = self.processed_paths\n",
    "\n",
    "\n",
    "        data_list =[]\n",
    "        count = 0\n",
    "        file_names = [file.split('/')[0]+\"/\"+file.split('/')[1]+\"/\"+file.split('/')[4] for file in self.raw_paths]\n",
    "#         for file in tqdm(self.raw_paths): # tqdm is a progress bar library that can be used to visualize progress when iterating through a sequence (in this case, file paths).\n",
    "        for file in tqdm(file_names): # tqdm is a progress bar library that can be used to visualize progress when iterating through a sequence (in this case, file paths).\n",
    "           if(pathlib.Path(file).suffix ==\".pdb\"): # checks if the current file has a \".pdb\" extension. This is done using pathlib.Path(file).suffix, which returns the file extension.\n",
    "\n",
    "               try:\n",
    "                struct = self._get_structure(file) # extract structural information from the PDB file (file)\n",
    "               except:\n",
    "                print('except', file)\n",
    "                continue\n",
    "               seq = self._get_sequence(struct) # extract the sequence information from the structural information (struct)\n",
    "\n",
    "          # node features extracted\n",
    "              #  node_feats = self._get_one_hot_symbftrs(seq) # extract node features (one-hot encoded symbol features) from the sequence (seq)\n",
    "               node_feats = torch.tensor(protein_embd) # extract node features (one-hot encoded symbol features) from the sequence (seq)\n",
    "\n",
    "          #edge-index extracted\n",
    "\n",
    "\n",
    "               mat = self._get_adjacency(file) # extract the adjacency matrix (mat) from the PDB file (file\n",
    "\n",
    "           # if sequence size > matrix dimensions\n",
    "               if(mat.shape[0] < torch.Tensor.size(node_feats)[0]) :\n",
    "                 #node_feats = torch.tensor(ftrs.item()[os.path.splitext(os.path.basename(file))[0]])\n",
    "                 edge_index = self._get_edgeindex(file, mat)\n",
    "\n",
    "                 print(f'Node features size :{torch.Tensor.size(node_feats)}')\n",
    "                 print(f'mat size :{mat.shape}')\n",
    "          # create data object\n",
    "\n",
    "                 data = Data(x = node_feats, edge_index = edge_index )\n",
    "                 count += 1\n",
    "                 data_list.append(data)\n",
    "                 torch.save(data, self.processed_dir + \"/\"+ os.path.splitext(os.path.basename(file))[0]+'.pt')\n",
    "\n",
    "\n",
    "               elif mat.shape[0] == torch.Tensor.size(node_feats)[0] :\n",
    "                 #node_feats = torch.tensor(ftrs.item()[os.path.splitext(os.path.basename(file))[0]])\n",
    "                 edge_index = self._get_edgeindex(file, mat)\n",
    "\n",
    "\n",
    "                 print(f'Node features size :{torch.Tensor.size(node_feats)}')\n",
    "                 print(f'mat size :{mat.shape}')\n",
    "\n",
    "          # create data object\n",
    "\n",
    "                 data = Data(x = node_feats, edge_index = edge_index )\n",
    "                 count += 1\n",
    "\n",
    "                 data_list.append(data)\n",
    "                 torch.save(data, self.processed_dir + \"/\"+ os.path.splitext(os.path.basename(file))[0]+'.pt')\n",
    "\n",
    "        self.data_prot = data_list\n",
    "        print(count)\n",
    "\n",
    "\n",
    "        # data, slices = self.collate(data_list)\n",
    "        # torch.save((data, slices), self.processed_paths[0])\n",
    "\n",
    "    def __len__(self):\n",
    "        return len(self.processed_file_names)\n",
    "\n",
    "\n",
    "    # file stands for file path\n",
    "    def __getitem__(self, idx):\n",
    "\n",
    "        return self.data_prot[idx]\n",
    "\n",
    "    # Biographs returns the network as a networkx.Graph object\n",
    "    def _get_adjacency(self, file):\n",
    "        edge_ind =[]\n",
    "        molecule = bg.Pmolecule(file)\n",
    "        network = molecule.network() # network.nodes[:10] can be used for output residue nodes; network = molecule.network(cutoff=8) to increase distance cut-off from 5A (default to 8A)\n",
    "        mat = nx.adjacency_matrix(network) # calculates the adjacency matrix of a NetworkX graph ()\n",
    "        m = mat.todense() # convert to dense matrix (probably internally using scipy library)\n",
    "        return m\n",
    "\n",
    "\n",
    "    # get adjacency matrix in coo format to pass in GCNN model\n",
    "    def _get_edgeindex(self, file, adjacency_mat):\n",
    "        edge_ind = []\n",
    "        m = self._get_adjacency(file) #\n",
    "        #check_symmetric(m, rtol=1e-05, atol=1e-08)\n",
    "\n",
    "        a = np.nonzero(m > 0)[0] # find the indices of nonzero elements in the matrix m. [row]\n",
    "        b = np.nonzero(m > 0)[1] # find the indices of nonzero elements in the matrix m. [column]\n",
    "        edge_ind.append(a) # These arrays represent the edge indices of the nonzero elements in the adjacency matrix.\n",
    "        edge_ind.append(b)\n",
    "        return torch.tensor(np.array(edge_ind), dtype= torch.long) # creates a PyTorch tensor from the concatenated arrays in edge_ind, converting it to a long data type tensor\n",
    "\n",
    "\n",
    "    # get structure from a pdb file\n",
    "    # Uses biopython\n",
    "    def _get_structure(self, file):\n",
    "        parser = PDBParser()\n",
    "        structure = parser.get_structure(id, file) # return a Structure object.\n",
    "        return structure\n",
    "\n",
    "    # Function to get sequence from pdb structure\n",
    "    # Uses structure made using biopython\n",
    "    # Those residues for which symbols are U / X are converted into A\n",
    "    def _get_sequence(self, structure):\n",
    "        sequence =\"\"\n",
    "        for model in structure:\n",
    "          for chain in model:\n",
    "            for residue in chain:\n",
    "              if residue.get_resname() in ressymbl.keys():\n",
    "                  sequence = sequence+ ressymbl[residue.get_resname()]\n",
    "        return sequence\n",
    "\n",
    "\n",
    "    # One hot encoding for symbols\n",
    "    def _get_one_hot_symbftrs(self, sequence):\n",
    "        one_hot_symb = np.zeros((len(sequence),len(pro_res_table)))\n",
    "        row= 0\n",
    "        for res in sequence:\n",
    "          col = pro_res_table.index(res)\n",
    "          one_hot_symb[row][col]=1\n",
    "          row +=1\n",
    "        return torch.tensor(one_hot_symb, dtype= torch.float)\n",
    "\n",
    "\n",
    "    # Residue features calculated from pcp_dict\n",
    "    def _get_res_ftrs(self, sequence):\n",
    "        res_ftrs_out = []\n",
    "        for res in sequence:\n",
    "          res_ftrs_out.append(pcp_dict[res])\n",
    "        res_ftrs_out= np.array(res_ftrs_out)\n",
    "        #print(res_ftrs_out.shape)\n",
    "        return torch.tensor(res_ftrs_out, dtype = torch.float)\n",
    "\n",
    "\n",
    "    # total features after concatenating one_hot_symbftrs and res_ftrs\n",
    "    def _get_node_ftrs(self, sequence):\n",
    "        one_hot_symb = one_hot_symbftrs(sequence)\n",
    "        res_ftrs_out = res_ftrs(sequence)\n",
    "        return torch.tensor(np.hstack((one_hot_symb, res_ftrs_out)), dtype = torch.float)\n",
    "\n",
    "\n",
    "# prot_graphs = ProteinDataset(\"../human_features/\")"
   ]
  },
  {
   "cell_type": "code",
   "execution_count": 82,
   "metadata": {
    "id": "HabVZ86yLert"
   },
   "outputs": [
    {
     "name": "stdout",
     "output_type": "stream",
     "text": [
      "['tgRNA_frames/raw/tgRNA_frames/raw/frame_122.pdb', 'tgRNA_frames/raw/tgRNA_frames/raw/frame_136.pdb', 'tgRNA_frames/raw/tgRNA_frames/raw/frame_30.pdb', 'tgRNA_frames/raw/tgRNA_frames/raw/frame_24.pdb', 'tgRNA_frames/raw/tgRNA_frames/raw/frame_18.pdb', 'tgRNA_frames/raw/tgRNA_frames/raw/frame_19.pdb', 'tgRNA_frames/raw/tgRNA_frames/raw/frame_25.pdb', 'tgRNA_frames/raw/tgRNA_frames/raw/frame_31.pdb', 'tgRNA_frames/raw/tgRNA_frames/raw/frame_137.pdb', 'tgRNA_frames/raw/tgRNA_frames/raw/frame_123.pdb', 'tgRNA_frames/raw/tgRNA_frames/raw/frame_109.pdb', 'tgRNA_frames/raw/tgRNA_frames/raw/frame_135.pdb', 'tgRNA_frames/raw/tgRNA_frames/raw/frame_121.pdb', 'tgRNA_frames/raw/tgRNA_frames/raw/frame_27.pdb', 'tgRNA_frames/raw/tgRNA_frames/raw/frame_33.pdb', 'tgRNA_frames/raw/tgRNA_frames/raw/frame_32.pdb', 'tgRNA_frames/raw/tgRNA_frames/raw/frame_26.pdb', 'tgRNA_frames/raw/tgRNA_frames/raw/frame_120.pdb', 'tgRNA_frames/raw/tgRNA_frames/raw/frame_134.pdb', 'tgRNA_frames/raw/tgRNA_frames/raw/frame_108.pdb', 'tgRNA_frames/raw/tgRNA_frames/raw/frame_130.pdb', 'tgRNA_frames/raw/tgRNA_frames/raw/frame_124.pdb', 'tgRNA_frames/raw/tgRNA_frames/raw/frame_118.pdb', 'tgRNA_frames/raw/tgRNA_frames/raw/frame_22.pdb', 'tgRNA_frames/raw/tgRNA_frames/raw/frame_36.pdb', 'tgRNA_frames/raw/tgRNA_frames/raw/frame_37.pdb', 'tgRNA_frames/raw/tgRNA_frames/raw/frame_23.pdb', 'tgRNA_frames/raw/tgRNA_frames/raw/frame_119.pdb', 'tgRNA_frames/raw/tgRNA_frames/raw/frame_125.pdb', 'tgRNA_frames/raw/tgRNA_frames/raw/frame_131.pdb', 'tgRNA_frames/raw/tgRNA_frames/raw/frame_9.pdb', 'tgRNA_frames/raw/tgRNA_frames/raw/frame_127.pdb', 'tgRNA_frames/raw/tgRNA_frames/raw/frame_133.pdb', 'tgRNA_frames/raw/tgRNA_frames/raw/frame_35.pdb', 'tgRNA_frames/raw/tgRNA_frames/raw/frame_21.pdb', 'tgRNA_frames/raw/tgRNA_frames/raw/frame_20.pdb', 'tgRNA_frames/raw/tgRNA_frames/raw/frame_34.pdb', 'tgRNA_frames/raw/tgRNA_frames/raw/frame_132.pdb', 'tgRNA_frames/raw/tgRNA_frames/raw/frame_126.pdb', 'tgRNA_frames/raw/tgRNA_frames/raw/frame_8.pdb', 'tgRNA_frames/raw/tgRNA_frames/raw/frame_141.pdb', 'tgRNA_frames/raw/tgRNA_frames/raw/frame_90.pdb', 'tgRNA_frames/raw/tgRNA_frames/raw/frame_84.pdb', 'tgRNA_frames/raw/tgRNA_frames/raw/frame_53.pdb', 'tgRNA_frames/raw/tgRNA_frames/raw/frame_47.pdb', 'tgRNA_frames/raw/tgRNA_frames/raw/frame_46.pdb', 'tgRNA_frames/raw/tgRNA_frames/raw/frame_52.pdb', 'tgRNA_frames/raw/tgRNA_frames/raw/frame_85.pdb', 'tgRNA_frames/raw/tgRNA_frames/raw/frame_91.pdb', 'tgRNA_frames/raw/tgRNA_frames/raw/frame_140.pdb', 'tgRNA_frames/raw/tgRNA_frames/raw/frame_142.pdb', 'tgRNA_frames/raw/tgRNA_frames/raw/frame_87.pdb', 'tgRNA_frames/raw/tgRNA_frames/raw/frame_93.pdb', 'tgRNA_frames/raw/tgRNA_frames/raw/frame_44.pdb', 'tgRNA_frames/raw/tgRNA_frames/raw/frame_50.pdb', 'tgRNA_frames/raw/tgRNA_frames/raw/frame_78.pdb', 'tgRNA_frames/raw/tgRNA_frames/raw/frame_79.pdb', 'tgRNA_frames/raw/tgRNA_frames/raw/frame_51.pdb', 'tgRNA_frames/raw/tgRNA_frames/raw/frame_45.pdb', 'tgRNA_frames/raw/tgRNA_frames/raw/frame_92.pdb', 'tgRNA_frames/raw/tgRNA_frames/raw/frame_86.pdb', 'tgRNA_frames/raw/tgRNA_frames/raw/frame_143.pdb', 'tgRNA_frames/raw/tgRNA_frames/raw/frame_147.pdb', 'tgRNA_frames/raw/tgRNA_frames/raw/frame_82.pdb', 'tgRNA_frames/raw/tgRNA_frames/raw/frame_96.pdb', 'tgRNA_frames/raw/tgRNA_frames/raw/frame_69.pdb', 'tgRNA_frames/raw/tgRNA_frames/raw/frame_41.pdb', 'tgRNA_frames/raw/tgRNA_frames/raw/frame_55.pdb', 'tgRNA_frames/raw/tgRNA_frames/raw/frame_54.pdb', 'tgRNA_frames/raw/tgRNA_frames/raw/frame_40.pdb', 'tgRNA_frames/raw/tgRNA_frames/raw/frame_68.pdb', 'tgRNA_frames/raw/tgRNA_frames/raw/frame_97.pdb', 'tgRNA_frames/raw/tgRNA_frames/raw/frame_83.pdb', 'tgRNA_frames/raw/tgRNA_frames/raw/frame_146.pdb', 'tgRNA_frames/raw/tgRNA_frames/raw/frame_144.pdb', 'tgRNA_frames/raw/tgRNA_frames/raw/frame_95.pdb', 'tgRNA_frames/raw/tgRNA_frames/raw/frame_81.pdb', 'tgRNA_frames/raw/tgRNA_frames/raw/frame_56.pdb', 'tgRNA_frames/raw/tgRNA_frames/raw/frame_42.pdb', 'tgRNA_frames/raw/tgRNA_frames/raw/frame_43.pdb', 'tgRNA_frames/raw/tgRNA_frames/raw/frame_57.pdb', 'tgRNA_frames/raw/tgRNA_frames/raw/frame_80.pdb', 'tgRNA_frames/raw/tgRNA_frames/raw/frame_94.pdb', 'tgRNA_frames/raw/tgRNA_frames/raw/frame_145.pdb', 'tgRNA_frames/raw/tgRNA_frames/raw/frame_148.pdb', 'tgRNA_frames/raw/tgRNA_frames/raw/frame_99.pdb', 'tgRNA_frames/raw/tgRNA_frames/raw/frame_72.pdb', 'tgRNA_frames/raw/tgRNA_frames/raw/frame_66.pdb', 'tgRNA_frames/raw/tgRNA_frames/raw/frame_67.pdb', 'tgRNA_frames/raw/tgRNA_frames/raw/frame_73.pdb', 'tgRNA_frames/raw/tgRNA_frames/raw/frame_98.pdb', 'tgRNA_frames/raw/tgRNA_frames/raw/frame_149.pdb', 'tgRNA_frames/raw/tgRNA_frames/raw/frame_65.pdb', 'tgRNA_frames/raw/tgRNA_frames/raw/frame_71.pdb', 'tgRNA_frames/raw/tgRNA_frames/raw/frame_59.pdb', 'tgRNA_frames/raw/tgRNA_frames/raw/frame_58.pdb', 'tgRNA_frames/raw/tgRNA_frames/raw/frame_70.pdb', 'tgRNA_frames/raw/tgRNA_frames/raw/frame_64.pdb', 'tgRNA_frames/raw/tgRNA_frames/raw/frame_48.pdb', 'tgRNA_frames/raw/tgRNA_frames/raw/frame_60.pdb', 'tgRNA_frames/raw/tgRNA_frames/raw/frame_74.pdb', 'tgRNA_frames/raw/tgRNA_frames/raw/frame_75.pdb', 'tgRNA_frames/raw/tgRNA_frames/raw/frame_61.pdb', 'tgRNA_frames/raw/tgRNA_frames/raw/frame_49.pdb', 'tgRNA_frames/raw/tgRNA_frames/raw/frame_88.pdb', 'tgRNA_frames/raw/tgRNA_frames/raw/frame_77.pdb', 'tgRNA_frames/raw/tgRNA_frames/raw/frame_63.pdb', 'tgRNA_frames/raw/tgRNA_frames/raw/frame_62.pdb', 'tgRNA_frames/raw/tgRNA_frames/raw/frame_76.pdb', 'tgRNA_frames/raw/tgRNA_frames/raw/frame_89.pdb', 'tgRNA_frames/raw/tgRNA_frames/raw/frame_5.pdb', 'tgRNA_frames/raw/tgRNA_frames/raw/frame_103.pdb', 'tgRNA_frames/raw/tgRNA_frames/raw/frame_117.pdb', 'tgRNA_frames/raw/tgRNA_frames/raw/frame_11.pdb', 'tgRNA_frames/raw/tgRNA_frames/raw/frame_39.pdb', 'tgRNA_frames/raw/tgRNA_frames/raw/frame_38.pdb', 'tgRNA_frames/raw/tgRNA_frames/raw/frame_10.pdb', 'tgRNA_frames/raw/tgRNA_frames/raw/frame_116.pdb', 'tgRNA_frames/raw/tgRNA_frames/raw/frame_102.pdb', 'tgRNA_frames/raw/tgRNA_frames/raw/frame_4.pdb', 'tgRNA_frames/raw/tgRNA_frames/raw/frame_6.pdb', 'tgRNA_frames/raw/tgRNA_frames/raw/frame_128.pdb', 'tgRNA_frames/raw/tgRNA_frames/raw/frame_114.pdb', 'tgRNA_frames/raw/tgRNA_frames/raw/frame_100.pdb', 'tgRNA_frames/raw/tgRNA_frames/raw/frame_12.pdb', 'tgRNA_frames/raw/tgRNA_frames/raw/frame_13.pdb', 'tgRNA_frames/raw/tgRNA_frames/raw/frame_101.pdb', 'tgRNA_frames/raw/tgRNA_frames/raw/frame_115.pdb', 'tgRNA_frames/raw/tgRNA_frames/raw/frame_129.pdb', 'tgRNA_frames/raw/tgRNA_frames/raw/frame_7.pdb', 'tgRNA_frames/raw/tgRNA_frames/raw/frame_3.pdb', 'tgRNA_frames/raw/tgRNA_frames/raw/frame_111.pdb', 'tgRNA_frames/raw/tgRNA_frames/raw/frame_105.pdb', 'tgRNA_frames/raw/tgRNA_frames/raw/frame_139.pdb', 'tgRNA_frames/raw/tgRNA_frames/raw/frame_17.pdb', 'tgRNA_frames/raw/tgRNA_frames/raw/frame_16.pdb', 'tgRNA_frames/raw/tgRNA_frames/raw/frame_138.pdb', 'tgRNA_frames/raw/tgRNA_frames/raw/frame_104.pdb', 'tgRNA_frames/raw/tgRNA_frames/raw/frame_110.pdb', 'tgRNA_frames/raw/tgRNA_frames/raw/frame_2.pdb', 'tgRNA_frames/raw/tgRNA_frames/raw/frame_0.pdb', 'tgRNA_frames/raw/tgRNA_frames/raw/frame_106.pdb', 'tgRNA_frames/raw/tgRNA_frames/raw/frame_112.pdb', 'tgRNA_frames/raw/tgRNA_frames/raw/frame_28.pdb', 'tgRNA_frames/raw/tgRNA_frames/raw/frame_14.pdb', 'tgRNA_frames/raw/tgRNA_frames/raw/frame_15.pdb', 'tgRNA_frames/raw/tgRNA_frames/raw/frame_29.pdb', 'tgRNA_frames/raw/tgRNA_frames/raw/frame_113.pdb', 'tgRNA_frames/raw/tgRNA_frames/raw/frame_107.pdb', 'tgRNA_frames/raw/tgRNA_frames/raw/frame_1.pdb']\n",
      "['tgRNA_frames/raw/tgRNA_frames/raw/frame_122.pdb', 'tgRNA_frames/raw/tgRNA_frames/raw/frame_136.pdb', 'tgRNA_frames/raw/tgRNA_frames/raw/frame_30.pdb', 'tgRNA_frames/raw/tgRNA_frames/raw/frame_24.pdb', 'tgRNA_frames/raw/tgRNA_frames/raw/frame_18.pdb', 'tgRNA_frames/raw/tgRNA_frames/raw/frame_19.pdb', 'tgRNA_frames/raw/tgRNA_frames/raw/frame_25.pdb', 'tgRNA_frames/raw/tgRNA_frames/raw/frame_31.pdb', 'tgRNA_frames/raw/tgRNA_frames/raw/frame_137.pdb', 'tgRNA_frames/raw/tgRNA_frames/raw/frame_123.pdb', 'tgRNA_frames/raw/tgRNA_frames/raw/frame_109.pdb', 'tgRNA_frames/raw/tgRNA_frames/raw/frame_135.pdb', 'tgRNA_frames/raw/tgRNA_frames/raw/frame_121.pdb', 'tgRNA_frames/raw/tgRNA_frames/raw/frame_27.pdb', 'tgRNA_frames/raw/tgRNA_frames/raw/frame_33.pdb', 'tgRNA_frames/raw/tgRNA_frames/raw/frame_32.pdb', 'tgRNA_frames/raw/tgRNA_frames/raw/frame_26.pdb', 'tgRNA_frames/raw/tgRNA_frames/raw/frame_120.pdb', 'tgRNA_frames/raw/tgRNA_frames/raw/frame_134.pdb', 'tgRNA_frames/raw/tgRNA_frames/raw/frame_108.pdb', 'tgRNA_frames/raw/tgRNA_frames/raw/frame_130.pdb', 'tgRNA_frames/raw/tgRNA_frames/raw/frame_124.pdb', 'tgRNA_frames/raw/tgRNA_frames/raw/frame_118.pdb', 'tgRNA_frames/raw/tgRNA_frames/raw/frame_22.pdb', 'tgRNA_frames/raw/tgRNA_frames/raw/frame_36.pdb', 'tgRNA_frames/raw/tgRNA_frames/raw/frame_37.pdb', 'tgRNA_frames/raw/tgRNA_frames/raw/frame_23.pdb', 'tgRNA_frames/raw/tgRNA_frames/raw/frame_119.pdb', 'tgRNA_frames/raw/tgRNA_frames/raw/frame_125.pdb', 'tgRNA_frames/raw/tgRNA_frames/raw/frame_131.pdb', 'tgRNA_frames/raw/tgRNA_frames/raw/frame_9.pdb', 'tgRNA_frames/raw/tgRNA_frames/raw/frame_127.pdb', 'tgRNA_frames/raw/tgRNA_frames/raw/frame_133.pdb', 'tgRNA_frames/raw/tgRNA_frames/raw/frame_35.pdb', 'tgRNA_frames/raw/tgRNA_frames/raw/frame_21.pdb', 'tgRNA_frames/raw/tgRNA_frames/raw/frame_20.pdb', 'tgRNA_frames/raw/tgRNA_frames/raw/frame_34.pdb', 'tgRNA_frames/raw/tgRNA_frames/raw/frame_132.pdb', 'tgRNA_frames/raw/tgRNA_frames/raw/frame_126.pdb', 'tgRNA_frames/raw/tgRNA_frames/raw/frame_8.pdb', 'tgRNA_frames/raw/tgRNA_frames/raw/frame_141.pdb', 'tgRNA_frames/raw/tgRNA_frames/raw/frame_90.pdb', 'tgRNA_frames/raw/tgRNA_frames/raw/frame_84.pdb', 'tgRNA_frames/raw/tgRNA_frames/raw/frame_53.pdb', 'tgRNA_frames/raw/tgRNA_frames/raw/frame_47.pdb', 'tgRNA_frames/raw/tgRNA_frames/raw/frame_46.pdb', 'tgRNA_frames/raw/tgRNA_frames/raw/frame_52.pdb', 'tgRNA_frames/raw/tgRNA_frames/raw/frame_85.pdb', 'tgRNA_frames/raw/tgRNA_frames/raw/frame_91.pdb', 'tgRNA_frames/raw/tgRNA_frames/raw/frame_140.pdb', 'tgRNA_frames/raw/tgRNA_frames/raw/frame_142.pdb', 'tgRNA_frames/raw/tgRNA_frames/raw/frame_87.pdb', 'tgRNA_frames/raw/tgRNA_frames/raw/frame_93.pdb', 'tgRNA_frames/raw/tgRNA_frames/raw/frame_44.pdb', 'tgRNA_frames/raw/tgRNA_frames/raw/frame_50.pdb', 'tgRNA_frames/raw/tgRNA_frames/raw/frame_78.pdb', 'tgRNA_frames/raw/tgRNA_frames/raw/frame_79.pdb', 'tgRNA_frames/raw/tgRNA_frames/raw/frame_51.pdb', 'tgRNA_frames/raw/tgRNA_frames/raw/frame_45.pdb', 'tgRNA_frames/raw/tgRNA_frames/raw/frame_92.pdb', 'tgRNA_frames/raw/tgRNA_frames/raw/frame_86.pdb', 'tgRNA_frames/raw/tgRNA_frames/raw/frame_143.pdb', 'tgRNA_frames/raw/tgRNA_frames/raw/frame_147.pdb', 'tgRNA_frames/raw/tgRNA_frames/raw/frame_82.pdb', 'tgRNA_frames/raw/tgRNA_frames/raw/frame_96.pdb', 'tgRNA_frames/raw/tgRNA_frames/raw/frame_69.pdb', 'tgRNA_frames/raw/tgRNA_frames/raw/frame_41.pdb', 'tgRNA_frames/raw/tgRNA_frames/raw/frame_55.pdb', 'tgRNA_frames/raw/tgRNA_frames/raw/frame_54.pdb', 'tgRNA_frames/raw/tgRNA_frames/raw/frame_40.pdb', 'tgRNA_frames/raw/tgRNA_frames/raw/frame_68.pdb', 'tgRNA_frames/raw/tgRNA_frames/raw/frame_97.pdb', 'tgRNA_frames/raw/tgRNA_frames/raw/frame_83.pdb', 'tgRNA_frames/raw/tgRNA_frames/raw/frame_146.pdb', 'tgRNA_frames/raw/tgRNA_frames/raw/frame_144.pdb', 'tgRNA_frames/raw/tgRNA_frames/raw/frame_95.pdb', 'tgRNA_frames/raw/tgRNA_frames/raw/frame_81.pdb', 'tgRNA_frames/raw/tgRNA_frames/raw/frame_56.pdb', 'tgRNA_frames/raw/tgRNA_frames/raw/frame_42.pdb', 'tgRNA_frames/raw/tgRNA_frames/raw/frame_43.pdb', 'tgRNA_frames/raw/tgRNA_frames/raw/frame_57.pdb', 'tgRNA_frames/raw/tgRNA_frames/raw/frame_80.pdb', 'tgRNA_frames/raw/tgRNA_frames/raw/frame_94.pdb', 'tgRNA_frames/raw/tgRNA_frames/raw/frame_145.pdb', 'tgRNA_frames/raw/tgRNA_frames/raw/frame_148.pdb', 'tgRNA_frames/raw/tgRNA_frames/raw/frame_99.pdb', 'tgRNA_frames/raw/tgRNA_frames/raw/frame_72.pdb', 'tgRNA_frames/raw/tgRNA_frames/raw/frame_66.pdb', 'tgRNA_frames/raw/tgRNA_frames/raw/frame_67.pdb', 'tgRNA_frames/raw/tgRNA_frames/raw/frame_73.pdb', 'tgRNA_frames/raw/tgRNA_frames/raw/frame_98.pdb', 'tgRNA_frames/raw/tgRNA_frames/raw/frame_149.pdb', 'tgRNA_frames/raw/tgRNA_frames/raw/frame_65.pdb', 'tgRNA_frames/raw/tgRNA_frames/raw/frame_71.pdb', 'tgRNA_frames/raw/tgRNA_frames/raw/frame_59.pdb', 'tgRNA_frames/raw/tgRNA_frames/raw/frame_58.pdb', 'tgRNA_frames/raw/tgRNA_frames/raw/frame_70.pdb', 'tgRNA_frames/raw/tgRNA_frames/raw/frame_64.pdb', 'tgRNA_frames/raw/tgRNA_frames/raw/frame_48.pdb', 'tgRNA_frames/raw/tgRNA_frames/raw/frame_60.pdb', 'tgRNA_frames/raw/tgRNA_frames/raw/frame_74.pdb', 'tgRNA_frames/raw/tgRNA_frames/raw/frame_75.pdb', 'tgRNA_frames/raw/tgRNA_frames/raw/frame_61.pdb', 'tgRNA_frames/raw/tgRNA_frames/raw/frame_49.pdb', 'tgRNA_frames/raw/tgRNA_frames/raw/frame_88.pdb', 'tgRNA_frames/raw/tgRNA_frames/raw/frame_77.pdb', 'tgRNA_frames/raw/tgRNA_frames/raw/frame_63.pdb', 'tgRNA_frames/raw/tgRNA_frames/raw/frame_62.pdb', 'tgRNA_frames/raw/tgRNA_frames/raw/frame_76.pdb', 'tgRNA_frames/raw/tgRNA_frames/raw/frame_89.pdb', 'tgRNA_frames/raw/tgRNA_frames/raw/frame_5.pdb', 'tgRNA_frames/raw/tgRNA_frames/raw/frame_103.pdb', 'tgRNA_frames/raw/tgRNA_frames/raw/frame_117.pdb', 'tgRNA_frames/raw/tgRNA_frames/raw/frame_11.pdb', 'tgRNA_frames/raw/tgRNA_frames/raw/frame_39.pdb', 'tgRNA_frames/raw/tgRNA_frames/raw/frame_38.pdb', 'tgRNA_frames/raw/tgRNA_frames/raw/frame_10.pdb', 'tgRNA_frames/raw/tgRNA_frames/raw/frame_116.pdb', 'tgRNA_frames/raw/tgRNA_frames/raw/frame_102.pdb', 'tgRNA_frames/raw/tgRNA_frames/raw/frame_4.pdb', 'tgRNA_frames/raw/tgRNA_frames/raw/frame_6.pdb', 'tgRNA_frames/raw/tgRNA_frames/raw/frame_128.pdb', 'tgRNA_frames/raw/tgRNA_frames/raw/frame_114.pdb', 'tgRNA_frames/raw/tgRNA_frames/raw/frame_100.pdb', 'tgRNA_frames/raw/tgRNA_frames/raw/frame_12.pdb', 'tgRNA_frames/raw/tgRNA_frames/raw/frame_13.pdb', 'tgRNA_frames/raw/tgRNA_frames/raw/frame_101.pdb', 'tgRNA_frames/raw/tgRNA_frames/raw/frame_115.pdb', 'tgRNA_frames/raw/tgRNA_frames/raw/frame_129.pdb', 'tgRNA_frames/raw/tgRNA_frames/raw/frame_7.pdb', 'tgRNA_frames/raw/tgRNA_frames/raw/frame_3.pdb', 'tgRNA_frames/raw/tgRNA_frames/raw/frame_111.pdb', 'tgRNA_frames/raw/tgRNA_frames/raw/frame_105.pdb', 'tgRNA_frames/raw/tgRNA_frames/raw/frame_139.pdb', 'tgRNA_frames/raw/tgRNA_frames/raw/frame_17.pdb', 'tgRNA_frames/raw/tgRNA_frames/raw/frame_16.pdb', 'tgRNA_frames/raw/tgRNA_frames/raw/frame_138.pdb', 'tgRNA_frames/raw/tgRNA_frames/raw/frame_104.pdb', 'tgRNA_frames/raw/tgRNA_frames/raw/frame_110.pdb', 'tgRNA_frames/raw/tgRNA_frames/raw/frame_2.pdb', 'tgRNA_frames/raw/tgRNA_frames/raw/frame_0.pdb', 'tgRNA_frames/raw/tgRNA_frames/raw/frame_106.pdb', 'tgRNA_frames/raw/tgRNA_frames/raw/frame_112.pdb', 'tgRNA_frames/raw/tgRNA_frames/raw/frame_28.pdb', 'tgRNA_frames/raw/tgRNA_frames/raw/frame_14.pdb', 'tgRNA_frames/raw/tgRNA_frames/raw/frame_15.pdb', 'tgRNA_frames/raw/tgRNA_frames/raw/frame_29.pdb', 'tgRNA_frames/raw/tgRNA_frames/raw/frame_113.pdb', 'tgRNA_frames/raw/tgRNA_frames/raw/frame_107.pdb', 'tgRNA_frames/raw/tgRNA_frames/raw/frame_1.pdb']\n"
     ]
    },
    {
     "name": "stderr",
     "output_type": "stream",
     "text": [
      "  0%|                                                                                                                                                     | 0/150 [00:00<?, ?it/s]/Users/souviksinha/miniconda3/envs/py39_2/lib/python3.9/site-packages/Bio/PDB/PDBParser.py:395: PDBConstructionWarning: Ignoring unrecognized record 'END' at line 19604\n",
      "  warnings.warn(\n",
      "  1%|▉                                                                                                                                            | 1/150 [00:11<28:33, 11.50s/it]"
     ]
    },
    {
     "name": "stdout",
     "output_type": "stream",
     "text": [
      "Node features size :torch.Size([1153, 1024])\n",
      "mat size :(1153, 1153)\n"
     ]
    },
    {
     "name": "stderr",
     "output_type": "stream",
     "text": [
      "/Users/souviksinha/miniconda3/envs/py39_2/lib/python3.9/site-packages/Bio/PDB/PDBParser.py:395: PDBConstructionWarning: Ignoring unrecognized record 'END' at line 19604\n",
      "  warnings.warn(\n",
      "  1%|█▉                                                                                                                                           | 2/150 [00:16<18:44,  7.60s/it]"
     ]
    },
    {
     "name": "stdout",
     "output_type": "stream",
     "text": [
      "Node features size :torch.Size([1153, 1024])\n",
      "mat size :(1153, 1153)\n"
     ]
    },
    {
     "name": "stderr",
     "output_type": "stream",
     "text": [
      "/Users/souviksinha/miniconda3/envs/py39_2/lib/python3.9/site-packages/Bio/PDB/PDBParser.py:395: PDBConstructionWarning: Ignoring unrecognized record 'END' at line 19604\n",
      "  warnings.warn(\n",
      "  2%|██▊                                                                                                                                          | 3/150 [00:21<15:25,  6.30s/it]"
     ]
    },
    {
     "name": "stdout",
     "output_type": "stream",
     "text": [
      "Node features size :torch.Size([1153, 1024])\n",
      "mat size :(1153, 1153)\n"
     ]
    },
    {
     "name": "stderr",
     "output_type": "stream",
     "text": [
      "/Users/souviksinha/miniconda3/envs/py39_2/lib/python3.9/site-packages/Bio/PDB/PDBParser.py:395: PDBConstructionWarning: Ignoring unrecognized record 'END' at line 19604\n",
      "  warnings.warn(\n",
      "  3%|███▊                                                                                                                                         | 4/150 [00:25<13:44,  5.65s/it]"
     ]
    },
    {
     "name": "stdout",
     "output_type": "stream",
     "text": [
      "Node features size :torch.Size([1153, 1024])\n",
      "mat size :(1153, 1153)\n"
     ]
    },
    {
     "name": "stderr",
     "output_type": "stream",
     "text": [
      "/Users/souviksinha/miniconda3/envs/py39_2/lib/python3.9/site-packages/Bio/PDB/PDBParser.py:395: PDBConstructionWarning: Ignoring unrecognized record 'END' at line 19604\n",
      "  warnings.warn(\n",
      "  3%|████▋                                                                                                                                        | 5/150 [00:30<12:41,  5.25s/it]"
     ]
    },
    {
     "name": "stdout",
     "output_type": "stream",
     "text": [
      "Node features size :torch.Size([1153, 1024])\n",
      "mat size :(1153, 1153)\n"
     ]
    },
    {
     "name": "stderr",
     "output_type": "stream",
     "text": [
      "/Users/souviksinha/miniconda3/envs/py39_2/lib/python3.9/site-packages/Bio/PDB/PDBParser.py:395: PDBConstructionWarning: Ignoring unrecognized record 'END' at line 19604\n",
      "  warnings.warn(\n",
      "  4%|█████▋                                                                                                                                       | 6/150 [00:34<12:04,  5.03s/it]"
     ]
    },
    {
     "name": "stdout",
     "output_type": "stream",
     "text": [
      "Node features size :torch.Size([1153, 1024])\n",
      "mat size :(1153, 1153)\n"
     ]
    },
    {
     "name": "stderr",
     "output_type": "stream",
     "text": [
      "/Users/souviksinha/miniconda3/envs/py39_2/lib/python3.9/site-packages/Bio/PDB/PDBParser.py:395: PDBConstructionWarning: Ignoring unrecognized record 'END' at line 19604\n",
      "  warnings.warn(\n",
      "  5%|██████▌                                                                                                                                      | 7/150 [00:39<11:31,  4.84s/it]"
     ]
    },
    {
     "name": "stdout",
     "output_type": "stream",
     "text": [
      "Node features size :torch.Size([1153, 1024])\n",
      "mat size :(1153, 1153)\n"
     ]
    },
    {
     "name": "stderr",
     "output_type": "stream",
     "text": [
      "/Users/souviksinha/miniconda3/envs/py39_2/lib/python3.9/site-packages/Bio/PDB/PDBParser.py:395: PDBConstructionWarning: Ignoring unrecognized record 'END' at line 19604\n",
      "  warnings.warn(\n",
      "  5%|███████▌                                                                                                                                     | 8/150 [00:43<11:10,  4.72s/it]"
     ]
    },
    {
     "name": "stdout",
     "output_type": "stream",
     "text": [
      "Node features size :torch.Size([1153, 1024])\n",
      "mat size :(1153, 1153)\n"
     ]
    },
    {
     "name": "stderr",
     "output_type": "stream",
     "text": [
      "/Users/souviksinha/miniconda3/envs/py39_2/lib/python3.9/site-packages/Bio/PDB/PDBParser.py:395: PDBConstructionWarning: Ignoring unrecognized record 'END' at line 19604\n",
      "  warnings.warn(\n",
      "  6%|████████▍                                                                                                                                    | 9/150 [00:48<10:50,  4.62s/it]"
     ]
    },
    {
     "name": "stdout",
     "output_type": "stream",
     "text": [
      "Node features size :torch.Size([1153, 1024])\n",
      "mat size :(1153, 1153)\n"
     ]
    },
    {
     "name": "stderr",
     "output_type": "stream",
     "text": [
      "/Users/souviksinha/miniconda3/envs/py39_2/lib/python3.9/site-packages/Bio/PDB/PDBParser.py:395: PDBConstructionWarning: Ignoring unrecognized record 'END' at line 19604\n",
      "  warnings.warn(\n",
      "  7%|█████████▎                                                                                                                                  | 10/150 [00:52<10:22,  4.45s/it]"
     ]
    },
    {
     "name": "stdout",
     "output_type": "stream",
     "text": [
      "Node features size :torch.Size([1153, 1024])\n",
      "mat size :(1153, 1153)\n"
     ]
    },
    {
     "name": "stderr",
     "output_type": "stream",
     "text": [
      "/Users/souviksinha/miniconda3/envs/py39_2/lib/python3.9/site-packages/Bio/PDB/PDBParser.py:395: PDBConstructionWarning: Ignoring unrecognized record 'END' at line 19604\n",
      "  warnings.warn(\n",
      "  7%|██████████▎                                                                                                                                 | 11/150 [00:56<10:17,  4.44s/it]"
     ]
    },
    {
     "name": "stdout",
     "output_type": "stream",
     "text": [
      "Node features size :torch.Size([1153, 1024])\n",
      "mat size :(1153, 1153)\n"
     ]
    },
    {
     "name": "stderr",
     "output_type": "stream",
     "text": [
      "/Users/souviksinha/miniconda3/envs/py39_2/lib/python3.9/site-packages/Bio/PDB/PDBParser.py:395: PDBConstructionWarning: Ignoring unrecognized record 'END' at line 19604\n",
      "  warnings.warn(\n",
      "  8%|███████████▏                                                                                                                                | 12/150 [01:01<10:29,  4.56s/it]"
     ]
    },
    {
     "name": "stdout",
     "output_type": "stream",
     "text": [
      "Node features size :torch.Size([1153, 1024])\n",
      "mat size :(1153, 1153)\n"
     ]
    },
    {
     "name": "stderr",
     "output_type": "stream",
     "text": [
      "/Users/souviksinha/miniconda3/envs/py39_2/lib/python3.9/site-packages/Bio/PDB/PDBParser.py:395: PDBConstructionWarning: Ignoring unrecognized record 'END' at line 19604\n",
      "  warnings.warn(\n",
      "  9%|████████████▏                                                                                                                               | 13/150 [01:05<10:18,  4.51s/it]"
     ]
    },
    {
     "name": "stdout",
     "output_type": "stream",
     "text": [
      "Node features size :torch.Size([1153, 1024])\n",
      "mat size :(1153, 1153)\n"
     ]
    },
    {
     "name": "stderr",
     "output_type": "stream",
     "text": [
      "/Users/souviksinha/miniconda3/envs/py39_2/lib/python3.9/site-packages/Bio/PDB/PDBParser.py:395: PDBConstructionWarning: Ignoring unrecognized record 'END' at line 19604\n",
      "  warnings.warn(\n",
      "  9%|█████████████                                                                                                                               | 14/150 [01:10<10:10,  4.49s/it]"
     ]
    },
    {
     "name": "stdout",
     "output_type": "stream",
     "text": [
      "Node features size :torch.Size([1153, 1024])\n",
      "mat size :(1153, 1153)\n"
     ]
    },
    {
     "name": "stderr",
     "output_type": "stream",
     "text": [
      "/Users/souviksinha/miniconda3/envs/py39_2/lib/python3.9/site-packages/Bio/PDB/PDBParser.py:395: PDBConstructionWarning: Ignoring unrecognized record 'END' at line 19604\n",
      "  warnings.warn(\n",
      " 10%|██████████████                                                                                                                              | 15/150 [01:14<10:04,  4.47s/it]"
     ]
    },
    {
     "name": "stdout",
     "output_type": "stream",
     "text": [
      "Node features size :torch.Size([1153, 1024])\n",
      "mat size :(1153, 1153)\n"
     ]
    },
    {
     "name": "stderr",
     "output_type": "stream",
     "text": [
      "/Users/souviksinha/miniconda3/envs/py39_2/lib/python3.9/site-packages/Bio/PDB/PDBParser.py:395: PDBConstructionWarning: Ignoring unrecognized record 'END' at line 19604\n",
      "  warnings.warn(\n",
      " 11%|██████████████▉                                                                                                                             | 16/150 [01:19<09:57,  4.46s/it]"
     ]
    },
    {
     "name": "stdout",
     "output_type": "stream",
     "text": [
      "Node features size :torch.Size([1153, 1024])\n",
      "mat size :(1153, 1153)\n"
     ]
    },
    {
     "name": "stderr",
     "output_type": "stream",
     "text": [
      "/Users/souviksinha/miniconda3/envs/py39_2/lib/python3.9/site-packages/Bio/PDB/PDBParser.py:395: PDBConstructionWarning: Ignoring unrecognized record 'END' at line 19604\n",
      "  warnings.warn(\n",
      " 11%|███████████████▊                                                                                                                            | 17/150 [01:23<09:52,  4.45s/it]"
     ]
    },
    {
     "name": "stdout",
     "output_type": "stream",
     "text": [
      "Node features size :torch.Size([1153, 1024])\n",
      "mat size :(1153, 1153)\n"
     ]
    },
    {
     "name": "stderr",
     "output_type": "stream",
     "text": [
      "/Users/souviksinha/miniconda3/envs/py39_2/lib/python3.9/site-packages/Bio/PDB/PDBParser.py:395: PDBConstructionWarning: Ignoring unrecognized record 'END' at line 19604\n",
      "  warnings.warn(\n",
      " 12%|████████████████▊                                                                                                                           | 18/150 [01:27<09:30,  4.32s/it]"
     ]
    },
    {
     "name": "stdout",
     "output_type": "stream",
     "text": [
      "Node features size :torch.Size([1153, 1024])\n",
      "mat size :(1153, 1153)\n"
     ]
    },
    {
     "name": "stderr",
     "output_type": "stream",
     "text": [
      "/Users/souviksinha/miniconda3/envs/py39_2/lib/python3.9/site-packages/Bio/PDB/PDBParser.py:395: PDBConstructionWarning: Ignoring unrecognized record 'END' at line 19604\n",
      "  warnings.warn(\n",
      " 13%|█████████████████▋                                                                                                                          | 19/150 [01:32<09:31,  4.36s/it]"
     ]
    },
    {
     "name": "stdout",
     "output_type": "stream",
     "text": [
      "Node features size :torch.Size([1153, 1024])\n",
      "mat size :(1153, 1153)\n"
     ]
    },
    {
     "name": "stderr",
     "output_type": "stream",
     "text": [
      "/Users/souviksinha/miniconda3/envs/py39_2/lib/python3.9/site-packages/Bio/PDB/PDBParser.py:395: PDBConstructionWarning: Ignoring unrecognized record 'END' at line 19604\n",
      "  warnings.warn(\n",
      " 13%|██████████████████▋                                                                                                                         | 20/150 [01:36<09:35,  4.42s/it]"
     ]
    },
    {
     "name": "stdout",
     "output_type": "stream",
     "text": [
      "Node features size :torch.Size([1153, 1024])\n",
      "mat size :(1153, 1153)\n"
     ]
    },
    {
     "name": "stderr",
     "output_type": "stream",
     "text": [
      "/Users/souviksinha/miniconda3/envs/py39_2/lib/python3.9/site-packages/Bio/PDB/PDBParser.py:395: PDBConstructionWarning: Ignoring unrecognized record 'END' at line 19604\n",
      "  warnings.warn(\n",
      " 14%|███████████████████▌                                                                                                                        | 21/150 [01:41<09:32,  4.44s/it]"
     ]
    },
    {
     "name": "stdout",
     "output_type": "stream",
     "text": [
      "Node features size :torch.Size([1153, 1024])\n",
      "mat size :(1153, 1153)\n"
     ]
    },
    {
     "name": "stderr",
     "output_type": "stream",
     "text": [
      "/Users/souviksinha/miniconda3/envs/py39_2/lib/python3.9/site-packages/Bio/PDB/PDBParser.py:395: PDBConstructionWarning: Ignoring unrecognized record 'END' at line 19604\n",
      "  warnings.warn(\n",
      " 15%|████████████████████▌                                                                                                                       | 22/150 [01:45<09:28,  4.44s/it]"
     ]
    },
    {
     "name": "stdout",
     "output_type": "stream",
     "text": [
      "Node features size :torch.Size([1153, 1024])\n",
      "mat size :(1153, 1153)\n"
     ]
    },
    {
     "name": "stderr",
     "output_type": "stream",
     "text": [
      "/Users/souviksinha/miniconda3/envs/py39_2/lib/python3.9/site-packages/Bio/PDB/PDBParser.py:395: PDBConstructionWarning: Ignoring unrecognized record 'END' at line 19604\n",
      "  warnings.warn(\n",
      " 15%|█████████████████████▍                                                                                                                      | 23/150 [01:50<09:24,  4.44s/it]"
     ]
    },
    {
     "name": "stdout",
     "output_type": "stream",
     "text": [
      "Node features size :torch.Size([1153, 1024])\n",
      "mat size :(1153, 1153)\n"
     ]
    },
    {
     "name": "stderr",
     "output_type": "stream",
     "text": [
      "/Users/souviksinha/miniconda3/envs/py39_2/lib/python3.9/site-packages/Bio/PDB/PDBParser.py:395: PDBConstructionWarning: Ignoring unrecognized record 'END' at line 19604\n",
      "  warnings.warn(\n",
      " 16%|██████████████████████▍                                                                                                                     | 24/150 [01:54<09:20,  4.45s/it]"
     ]
    },
    {
     "name": "stdout",
     "output_type": "stream",
     "text": [
      "Node features size :torch.Size([1153, 1024])\n",
      "mat size :(1153, 1153)\n"
     ]
    },
    {
     "name": "stderr",
     "output_type": "stream",
     "text": [
      "/Users/souviksinha/miniconda3/envs/py39_2/lib/python3.9/site-packages/Bio/PDB/PDBParser.py:395: PDBConstructionWarning: Ignoring unrecognized record 'END' at line 19604\n",
      "  warnings.warn(\n",
      " 17%|███████████████████████▎                                                                                                                    | 25/150 [01:59<09:22,  4.50s/it]"
     ]
    },
    {
     "name": "stdout",
     "output_type": "stream",
     "text": [
      "Node features size :torch.Size([1153, 1024])\n",
      "mat size :(1153, 1153)\n"
     ]
    },
    {
     "name": "stderr",
     "output_type": "stream",
     "text": [
      "/Users/souviksinha/miniconda3/envs/py39_2/lib/python3.9/site-packages/Bio/PDB/PDBParser.py:395: PDBConstructionWarning: Ignoring unrecognized record 'END' at line 19604\n",
      "  warnings.warn(\n",
      " 17%|████████████████████████▎                                                                                                                   | 26/150 [02:02<08:48,  4.26s/it]"
     ]
    },
    {
     "name": "stdout",
     "output_type": "stream",
     "text": [
      "Node features size :torch.Size([1153, 1024])\n",
      "mat size :(1153, 1153)\n"
     ]
    },
    {
     "name": "stderr",
     "output_type": "stream",
     "text": [
      "/Users/souviksinha/miniconda3/envs/py39_2/lib/python3.9/site-packages/Bio/PDB/PDBParser.py:395: PDBConstructionWarning: Ignoring unrecognized record 'END' at line 19604\n",
      "  warnings.warn(\n",
      " 18%|█████████████████████████▏                                                                                                                  | 27/150 [02:06<08:26,  4.12s/it]"
     ]
    },
    {
     "name": "stdout",
     "output_type": "stream",
     "text": [
      "Node features size :torch.Size([1153, 1024])\n",
      "mat size :(1153, 1153)\n"
     ]
    },
    {
     "name": "stderr",
     "output_type": "stream",
     "text": [
      "/Users/souviksinha/miniconda3/envs/py39_2/lib/python3.9/site-packages/Bio/PDB/PDBParser.py:395: PDBConstructionWarning: Ignoring unrecognized record 'END' at line 19604\n",
      "  warnings.warn(\n",
      " 19%|██████████████████████████▏                                                                                                                 | 28/150 [02:10<08:11,  4.03s/it]"
     ]
    },
    {
     "name": "stdout",
     "output_type": "stream",
     "text": [
      "Node features size :torch.Size([1153, 1024])\n",
      "mat size :(1153, 1153)\n"
     ]
    },
    {
     "name": "stderr",
     "output_type": "stream",
     "text": [
      "/Users/souviksinha/miniconda3/envs/py39_2/lib/python3.9/site-packages/Bio/PDB/PDBParser.py:395: PDBConstructionWarning: Ignoring unrecognized record 'END' at line 19604\n",
      "  warnings.warn(\n",
      " 19%|███████████████████████████                                                                                                                 | 29/150 [02:14<08:00,  3.97s/it]"
     ]
    },
    {
     "name": "stdout",
     "output_type": "stream",
     "text": [
      "Node features size :torch.Size([1153, 1024])\n",
      "mat size :(1153, 1153)\n"
     ]
    },
    {
     "name": "stderr",
     "output_type": "stream",
     "text": [
      "/Users/souviksinha/miniconda3/envs/py39_2/lib/python3.9/site-packages/Bio/PDB/PDBParser.py:395: PDBConstructionWarning: Ignoring unrecognized record 'END' at line 19604\n",
      "  warnings.warn(\n",
      " 20%|████████████████████████████                                                                                                                | 30/150 [02:18<07:49,  3.91s/it]"
     ]
    },
    {
     "name": "stdout",
     "output_type": "stream",
     "text": [
      "Node features size :torch.Size([1153, 1024])\n",
      "mat size :(1153, 1153)\n"
     ]
    },
    {
     "name": "stderr",
     "output_type": "stream",
     "text": [
      "/Users/souviksinha/miniconda3/envs/py39_2/lib/python3.9/site-packages/Bio/PDB/PDBParser.py:395: PDBConstructionWarning: Ignoring unrecognized record 'END' at line 19604\n",
      "  warnings.warn(\n",
      " 21%|████████████████████████████▉                                                                                                               | 31/150 [02:21<07:35,  3.83s/it]"
     ]
    },
    {
     "name": "stdout",
     "output_type": "stream",
     "text": [
      "Node features size :torch.Size([1153, 1024])\n",
      "mat size :(1153, 1153)\n"
     ]
    },
    {
     "name": "stderr",
     "output_type": "stream",
     "text": [
      "/Users/souviksinha/miniconda3/envs/py39_2/lib/python3.9/site-packages/Bio/PDB/PDBParser.py:395: PDBConstructionWarning: Ignoring unrecognized record 'END' at line 19604\n",
      "  warnings.warn(\n",
      " 21%|█████████████████████████████▊                                                                                                              | 32/150 [02:25<07:21,  3.74s/it]"
     ]
    },
    {
     "name": "stdout",
     "output_type": "stream",
     "text": [
      "Node features size :torch.Size([1153, 1024])\n",
      "mat size :(1153, 1153)\n"
     ]
    },
    {
     "name": "stderr",
     "output_type": "stream",
     "text": [
      "/Users/souviksinha/miniconda3/envs/py39_2/lib/python3.9/site-packages/Bio/PDB/PDBParser.py:395: PDBConstructionWarning: Ignoring unrecognized record 'END' at line 19604\n",
      "  warnings.warn(\n",
      " 22%|██████████████████████████████▊                                                                                                             | 33/150 [02:29<07:31,  3.86s/it]"
     ]
    },
    {
     "name": "stdout",
     "output_type": "stream",
     "text": [
      "Node features size :torch.Size([1153, 1024])\n",
      "mat size :(1153, 1153)\n"
     ]
    },
    {
     "name": "stderr",
     "output_type": "stream",
     "text": [
      "/Users/souviksinha/miniconda3/envs/py39_2/lib/python3.9/site-packages/Bio/PDB/PDBParser.py:395: PDBConstructionWarning: Ignoring unrecognized record 'END' at line 19604\n",
      "  warnings.warn(\n",
      " 23%|███████████████████████████████▋                                                                                                            | 34/150 [02:32<07:15,  3.76s/it]"
     ]
    },
    {
     "name": "stdout",
     "output_type": "stream",
     "text": [
      "Node features size :torch.Size([1153, 1024])\n",
      "mat size :(1153, 1153)\n"
     ]
    },
    {
     "name": "stderr",
     "output_type": "stream",
     "text": [
      "/Users/souviksinha/miniconda3/envs/py39_2/lib/python3.9/site-packages/Bio/PDB/PDBParser.py:395: PDBConstructionWarning: Ignoring unrecognized record 'END' at line 19604\n",
      "  warnings.warn(\n",
      " 23%|████████████████████████████████▋                                                                                                           | 35/150 [02:36<07:03,  3.68s/it]"
     ]
    },
    {
     "name": "stdout",
     "output_type": "stream",
     "text": [
      "Node features size :torch.Size([1153, 1024])\n",
      "mat size :(1153, 1153)\n"
     ]
    },
    {
     "name": "stderr",
     "output_type": "stream",
     "text": [
      "/Users/souviksinha/miniconda3/envs/py39_2/lib/python3.9/site-packages/Bio/PDB/PDBParser.py:395: PDBConstructionWarning: Ignoring unrecognized record 'END' at line 19604\n",
      "  warnings.warn(\n",
      " 24%|█████████████████████████████████▌                                                                                                          | 36/150 [02:39<06:52,  3.62s/it]"
     ]
    },
    {
     "name": "stdout",
     "output_type": "stream",
     "text": [
      "Node features size :torch.Size([1153, 1024])\n",
      "mat size :(1153, 1153)\n"
     ]
    },
    {
     "name": "stderr",
     "output_type": "stream",
     "text": [
      "/Users/souviksinha/miniconda3/envs/py39_2/lib/python3.9/site-packages/Bio/PDB/PDBParser.py:395: PDBConstructionWarning: Ignoring unrecognized record 'END' at line 19604\n",
      "  warnings.warn(\n",
      " 25%|██████████████████████████████████▌                                                                                                         | 37/150 [02:44<07:17,  3.88s/it]"
     ]
    },
    {
     "name": "stdout",
     "output_type": "stream",
     "text": [
      "Node features size :torch.Size([1153, 1024])\n",
      "mat size :(1153, 1153)\n"
     ]
    },
    {
     "name": "stderr",
     "output_type": "stream",
     "text": [
      "/Users/souviksinha/miniconda3/envs/py39_2/lib/python3.9/site-packages/Bio/PDB/PDBParser.py:395: PDBConstructionWarning: Ignoring unrecognized record 'END' at line 19604\n",
      "  warnings.warn(\n",
      " 25%|███████████████████████████████████▍                                                                                                        | 38/150 [02:48<07:08,  3.83s/it]"
     ]
    },
    {
     "name": "stdout",
     "output_type": "stream",
     "text": [
      "Node features size :torch.Size([1153, 1024])\n",
      "mat size :(1153, 1153)\n"
     ]
    },
    {
     "name": "stderr",
     "output_type": "stream",
     "text": [
      "/Users/souviksinha/miniconda3/envs/py39_2/lib/python3.9/site-packages/Bio/PDB/PDBParser.py:395: PDBConstructionWarning: Ignoring unrecognized record 'END' at line 19604\n",
      "  warnings.warn(\n",
      " 26%|████████████████████████████████████▍                                                                                                       | 39/150 [02:52<07:30,  4.06s/it]"
     ]
    },
    {
     "name": "stdout",
     "output_type": "stream",
     "text": [
      "Node features size :torch.Size([1153, 1024])\n",
      "mat size :(1153, 1153)\n"
     ]
    },
    {
     "name": "stderr",
     "output_type": "stream",
     "text": [
      "/Users/souviksinha/miniconda3/envs/py39_2/lib/python3.9/site-packages/Bio/PDB/PDBParser.py:395: PDBConstructionWarning: Ignoring unrecognized record 'END' at line 19604\n",
      "  warnings.warn(\n",
      " 27%|█████████████████████████████████████▎                                                                                                      | 40/150 [02:57<08:00,  4.37s/it]"
     ]
    },
    {
     "name": "stdout",
     "output_type": "stream",
     "text": [
      "Node features size :torch.Size([1153, 1024])\n",
      "mat size :(1153, 1153)\n"
     ]
    },
    {
     "name": "stderr",
     "output_type": "stream",
     "text": [
      "/Users/souviksinha/miniconda3/envs/py39_2/lib/python3.9/site-packages/Bio/PDB/PDBParser.py:395: PDBConstructionWarning: Ignoring unrecognized record 'END' at line 19604\n",
      "  warnings.warn(\n",
      " 27%|██████████████████████████████████████▎                                                                                                     | 41/150 [03:02<08:07,  4.47s/it]"
     ]
    },
    {
     "name": "stdout",
     "output_type": "stream",
     "text": [
      "Node features size :torch.Size([1153, 1024])\n",
      "mat size :(1153, 1153)\n"
     ]
    },
    {
     "name": "stderr",
     "output_type": "stream",
     "text": [
      "/Users/souviksinha/miniconda3/envs/py39_2/lib/python3.9/site-packages/Bio/PDB/PDBParser.py:395: PDBConstructionWarning: Ignoring unrecognized record 'END' at line 19604\n",
      "  warnings.warn(\n",
      " 28%|███████████████████████████████████████▏                                                                                                    | 42/150 [03:06<07:53,  4.38s/it]"
     ]
    },
    {
     "name": "stdout",
     "output_type": "stream",
     "text": [
      "Node features size :torch.Size([1153, 1024])\n",
      "mat size :(1153, 1153)\n"
     ]
    },
    {
     "name": "stderr",
     "output_type": "stream",
     "text": [
      "/Users/souviksinha/miniconda3/envs/py39_2/lib/python3.9/site-packages/Bio/PDB/PDBParser.py:395: PDBConstructionWarning: Ignoring unrecognized record 'END' at line 19604\n",
      "  warnings.warn(\n",
      " 29%|████████████████████████████████████████▏                                                                                                   | 43/150 [03:11<07:56,  4.46s/it]"
     ]
    },
    {
     "name": "stdout",
     "output_type": "stream",
     "text": [
      "Node features size :torch.Size([1153, 1024])\n",
      "mat size :(1153, 1153)\n"
     ]
    },
    {
     "name": "stderr",
     "output_type": "stream",
     "text": [
      "/Users/souviksinha/miniconda3/envs/py39_2/lib/python3.9/site-packages/Bio/PDB/PDBParser.py:395: PDBConstructionWarning: Ignoring unrecognized record 'END' at line 19604\n",
      "  warnings.warn(\n",
      " 29%|█████████████████████████████████████████                                                                                                   | 44/150 [03:15<07:50,  4.44s/it]"
     ]
    },
    {
     "name": "stdout",
     "output_type": "stream",
     "text": [
      "Node features size :torch.Size([1153, 1024])\n",
      "mat size :(1153, 1153)\n"
     ]
    },
    {
     "name": "stderr",
     "output_type": "stream",
     "text": [
      "/Users/souviksinha/miniconda3/envs/py39_2/lib/python3.9/site-packages/Bio/PDB/PDBParser.py:395: PDBConstructionWarning: Ignoring unrecognized record 'END' at line 19604\n",
      "  warnings.warn(\n",
      " 30%|██████████████████████████████████████████                                                                                                  | 45/150 [03:20<07:50,  4.48s/it]"
     ]
    },
    {
     "name": "stdout",
     "output_type": "stream",
     "text": [
      "Node features size :torch.Size([1153, 1024])\n",
      "mat size :(1153, 1153)\n"
     ]
    },
    {
     "name": "stderr",
     "output_type": "stream",
     "text": [
      "/Users/souviksinha/miniconda3/envs/py39_2/lib/python3.9/site-packages/Bio/PDB/PDBParser.py:395: PDBConstructionWarning: Ignoring unrecognized record 'END' at line 19604\n",
      "  warnings.warn(\n",
      " 31%|██████████████████████████████████████████▉                                                                                                 | 46/150 [03:24<07:50,  4.53s/it]"
     ]
    },
    {
     "name": "stdout",
     "output_type": "stream",
     "text": [
      "Node features size :torch.Size([1153, 1024])\n",
      "mat size :(1153, 1153)\n"
     ]
    },
    {
     "name": "stderr",
     "output_type": "stream",
     "text": [
      "/Users/souviksinha/miniconda3/envs/py39_2/lib/python3.9/site-packages/Bio/PDB/PDBParser.py:395: PDBConstructionWarning: Ignoring unrecognized record 'END' at line 19604\n",
      "  warnings.warn(\n",
      " 31%|███████████████████████████████████████████▊                                                                                                | 47/150 [03:29<07:33,  4.41s/it]"
     ]
    },
    {
     "name": "stdout",
     "output_type": "stream",
     "text": [
      "Node features size :torch.Size([1153, 1024])\n",
      "mat size :(1153, 1153)\n"
     ]
    },
    {
     "name": "stderr",
     "output_type": "stream",
     "text": [
      "/Users/souviksinha/miniconda3/envs/py39_2/lib/python3.9/site-packages/Bio/PDB/PDBParser.py:395: PDBConstructionWarning: Ignoring unrecognized record 'END' at line 19604\n",
      "  warnings.warn(\n",
      " 32%|████████████████████████████████████████████▊                                                                                               | 48/150 [03:34<07:59,  4.71s/it]"
     ]
    },
    {
     "name": "stdout",
     "output_type": "stream",
     "text": [
      "Node features size :torch.Size([1153, 1024])\n",
      "mat size :(1153, 1153)\n"
     ]
    },
    {
     "name": "stderr",
     "output_type": "stream",
     "text": [
      "/Users/souviksinha/miniconda3/envs/py39_2/lib/python3.9/site-packages/Bio/PDB/PDBParser.py:395: PDBConstructionWarning: Ignoring unrecognized record 'END' at line 19604\n",
      "  warnings.warn(\n",
      " 33%|█████████████████████████████████████████████▋                                                                                              | 49/150 [03:39<08:07,  4.83s/it]"
     ]
    },
    {
     "name": "stdout",
     "output_type": "stream",
     "text": [
      "Node features size :torch.Size([1153, 1024])\n",
      "mat size :(1153, 1153)\n"
     ]
    },
    {
     "name": "stderr",
     "output_type": "stream",
     "text": [
      "/Users/souviksinha/miniconda3/envs/py39_2/lib/python3.9/site-packages/Bio/PDB/PDBParser.py:395: PDBConstructionWarning: Ignoring unrecognized record 'END' at line 19604\n",
      "  warnings.warn(\n",
      " 33%|██████████████████████████████████████████████▋                                                                                             | 50/150 [03:44<07:58,  4.78s/it]"
     ]
    },
    {
     "name": "stdout",
     "output_type": "stream",
     "text": [
      "Node features size :torch.Size([1153, 1024])\n",
      "mat size :(1153, 1153)\n"
     ]
    },
    {
     "name": "stderr",
     "output_type": "stream",
     "text": [
      "/Users/souviksinha/miniconda3/envs/py39_2/lib/python3.9/site-packages/Bio/PDB/PDBParser.py:395: PDBConstructionWarning: Ignoring unrecognized record 'END' at line 19604\n",
      "  warnings.warn(\n",
      " 34%|███████████████████████████████████████████████▌                                                                                            | 51/150 [03:48<07:52,  4.77s/it]"
     ]
    },
    {
     "name": "stdout",
     "output_type": "stream",
     "text": [
      "Node features size :torch.Size([1153, 1024])\n",
      "mat size :(1153, 1153)\n"
     ]
    },
    {
     "name": "stderr",
     "output_type": "stream",
     "text": [
      "/Users/souviksinha/miniconda3/envs/py39_2/lib/python3.9/site-packages/Bio/PDB/PDBParser.py:395: PDBConstructionWarning: Ignoring unrecognized record 'END' at line 19604\n",
      "  warnings.warn(\n",
      " 35%|████████████████████████████████████████████████▌                                                                                           | 52/150 [03:53<07:39,  4.69s/it]"
     ]
    },
    {
     "name": "stdout",
     "output_type": "stream",
     "text": [
      "Node features size :torch.Size([1153, 1024])\n",
      "mat size :(1153, 1153)\n"
     ]
    },
    {
     "name": "stderr",
     "output_type": "stream",
     "text": [
      "/Users/souviksinha/miniconda3/envs/py39_2/lib/python3.9/site-packages/Bio/PDB/PDBParser.py:395: PDBConstructionWarning: Ignoring unrecognized record 'END' at line 19604\n",
      "  warnings.warn(\n",
      " 35%|█████████████████████████████████████████████████▍                                                                                          | 53/150 [03:58<07:33,  4.68s/it]"
     ]
    },
    {
     "name": "stdout",
     "output_type": "stream",
     "text": [
      "Node features size :torch.Size([1153, 1024])\n",
      "mat size :(1153, 1153)\n"
     ]
    },
    {
     "name": "stderr",
     "output_type": "stream",
     "text": [
      "/Users/souviksinha/miniconda3/envs/py39_2/lib/python3.9/site-packages/Bio/PDB/PDBParser.py:395: PDBConstructionWarning: Ignoring unrecognized record 'END' at line 19604\n",
      "  warnings.warn(\n",
      " 36%|██████████████████████████████████████████████████▍                                                                                         | 54/150 [04:02<07:28,  4.67s/it]"
     ]
    },
    {
     "name": "stdout",
     "output_type": "stream",
     "text": [
      "Node features size :torch.Size([1153, 1024])\n",
      "mat size :(1153, 1153)\n"
     ]
    },
    {
     "name": "stderr",
     "output_type": "stream",
     "text": [
      "/Users/souviksinha/miniconda3/envs/py39_2/lib/python3.9/site-packages/Bio/PDB/PDBParser.py:395: PDBConstructionWarning: Ignoring unrecognized record 'END' at line 19604\n",
      "  warnings.warn(\n",
      " 37%|███████████████████████████████████████████████████▎                                                                                        | 55/150 [04:06<07:08,  4.51s/it]"
     ]
    },
    {
     "name": "stdout",
     "output_type": "stream",
     "text": [
      "Node features size :torch.Size([1153, 1024])\n",
      "mat size :(1153, 1153)\n"
     ]
    },
    {
     "name": "stderr",
     "output_type": "stream",
     "text": [
      "/Users/souviksinha/miniconda3/envs/py39_2/lib/python3.9/site-packages/Bio/PDB/PDBParser.py:395: PDBConstructionWarning: Ignoring unrecognized record 'END' at line 19604\n",
      "  warnings.warn(\n",
      " 37%|████████████████████████████████████████████████████▎                                                                                       | 56/150 [04:11<07:09,  4.57s/it]"
     ]
    },
    {
     "name": "stdout",
     "output_type": "stream",
     "text": [
      "Node features size :torch.Size([1153, 1024])\n",
      "mat size :(1153, 1153)\n"
     ]
    },
    {
     "name": "stderr",
     "output_type": "stream",
     "text": [
      "/Users/souviksinha/miniconda3/envs/py39_2/lib/python3.9/site-packages/Bio/PDB/PDBParser.py:395: PDBConstructionWarning: Ignoring unrecognized record 'END' at line 19604\n",
      "  warnings.warn(\n",
      " 38%|█████████████████████████████████████████████████████▏                                                                                      | 57/150 [04:16<07:02,  4.55s/it]"
     ]
    },
    {
     "name": "stdout",
     "output_type": "stream",
     "text": [
      "Node features size :torch.Size([1153, 1024])\n",
      "mat size :(1153, 1153)\n"
     ]
    },
    {
     "name": "stderr",
     "output_type": "stream",
     "text": [
      "/Users/souviksinha/miniconda3/envs/py39_2/lib/python3.9/site-packages/Bio/PDB/PDBParser.py:395: PDBConstructionWarning: Ignoring unrecognized record 'END' at line 19604\n",
      "  warnings.warn(\n",
      " 39%|██████████████████████████████████████████████████████▏                                                                                     | 58/150 [04:19<06:36,  4.31s/it]"
     ]
    },
    {
     "name": "stdout",
     "output_type": "stream",
     "text": [
      "Node features size :torch.Size([1153, 1024])\n",
      "mat size :(1153, 1153)\n"
     ]
    },
    {
     "name": "stderr",
     "output_type": "stream",
     "text": [
      "/Users/souviksinha/miniconda3/envs/py39_2/lib/python3.9/site-packages/Bio/PDB/PDBParser.py:395: PDBConstructionWarning: Ignoring unrecognized record 'END' at line 19604\n",
      "  warnings.warn(\n",
      " 39%|███████████████████████████████████████████████████████                                                                                     | 59/150 [04:24<06:34,  4.33s/it]"
     ]
    },
    {
     "name": "stdout",
     "output_type": "stream",
     "text": [
      "Node features size :torch.Size([1153, 1024])\n",
      "mat size :(1153, 1153)\n"
     ]
    },
    {
     "name": "stderr",
     "output_type": "stream",
     "text": [
      "/Users/souviksinha/miniconda3/envs/py39_2/lib/python3.9/site-packages/Bio/PDB/PDBParser.py:395: PDBConstructionWarning: Ignoring unrecognized record 'END' at line 19604\n",
      "  warnings.warn(\n",
      " 40%|████████████████████████████████████████████████████████                                                                                    | 60/150 [04:28<06:29,  4.33s/it]"
     ]
    },
    {
     "name": "stdout",
     "output_type": "stream",
     "text": [
      "Node features size :torch.Size([1153, 1024])\n",
      "mat size :(1153, 1153)\n"
     ]
    },
    {
     "name": "stderr",
     "output_type": "stream",
     "text": [
      "/Users/souviksinha/miniconda3/envs/py39_2/lib/python3.9/site-packages/Bio/PDB/PDBParser.py:395: PDBConstructionWarning: Ignoring unrecognized record 'END' at line 19604\n",
      "  warnings.warn(\n",
      " 41%|████████████████████████████████████████████████████████▉                                                                                   | 61/150 [04:32<06:24,  4.32s/it]"
     ]
    },
    {
     "name": "stdout",
     "output_type": "stream",
     "text": [
      "Node features size :torch.Size([1153, 1024])\n",
      "mat size :(1153, 1153)\n"
     ]
    },
    {
     "name": "stderr",
     "output_type": "stream",
     "text": [
      "/Users/souviksinha/miniconda3/envs/py39_2/lib/python3.9/site-packages/Bio/PDB/PDBParser.py:395: PDBConstructionWarning: Ignoring unrecognized record 'END' at line 19604\n",
      "  warnings.warn(\n",
      " 41%|█████████████████████████████████████████████████████████▊                                                                                  | 62/150 [04:37<06:19,  4.32s/it]"
     ]
    },
    {
     "name": "stdout",
     "output_type": "stream",
     "text": [
      "Node features size :torch.Size([1153, 1024])\n",
      "mat size :(1153, 1153)\n"
     ]
    },
    {
     "name": "stderr",
     "output_type": "stream",
     "text": [
      "/Users/souviksinha/miniconda3/envs/py39_2/lib/python3.9/site-packages/Bio/PDB/PDBParser.py:395: PDBConstructionWarning: Ignoring unrecognized record 'END' at line 19604\n",
      "  warnings.warn(\n",
      " 42%|██████████████████████████████████████████████████████████▊                                                                                 | 63/150 [04:41<06:14,  4.30s/it]"
     ]
    },
    {
     "name": "stdout",
     "output_type": "stream",
     "text": [
      "Node features size :torch.Size([1153, 1024])\n",
      "mat size :(1153, 1153)\n"
     ]
    },
    {
     "name": "stderr",
     "output_type": "stream",
     "text": [
      "/Users/souviksinha/miniconda3/envs/py39_2/lib/python3.9/site-packages/Bio/PDB/PDBParser.py:395: PDBConstructionWarning: Ignoring unrecognized record 'END' at line 19604\n",
      "  warnings.warn(\n",
      " 43%|███████████████████████████████████████████████████████████▋                                                                                | 64/150 [04:46<06:18,  4.41s/it]"
     ]
    },
    {
     "name": "stdout",
     "output_type": "stream",
     "text": [
      "Node features size :torch.Size([1153, 1024])\n",
      "mat size :(1153, 1153)\n"
     ]
    },
    {
     "name": "stderr",
     "output_type": "stream",
     "text": [
      "/Users/souviksinha/miniconda3/envs/py39_2/lib/python3.9/site-packages/Bio/PDB/PDBParser.py:395: PDBConstructionWarning: Ignoring unrecognized record 'END' at line 19604\n",
      "  warnings.warn(\n",
      " 43%|████████████████████████████████████████████████████████████▋                                                                               | 65/150 [04:50<06:09,  4.34s/it]"
     ]
    },
    {
     "name": "stdout",
     "output_type": "stream",
     "text": [
      "Node features size :torch.Size([1153, 1024])\n",
      "mat size :(1153, 1153)\n"
     ]
    },
    {
     "name": "stderr",
     "output_type": "stream",
     "text": [
      "/Users/souviksinha/miniconda3/envs/py39_2/lib/python3.9/site-packages/Bio/PDB/PDBParser.py:395: PDBConstructionWarning: Ignoring unrecognized record 'END' at line 19604\n",
      "  warnings.warn(\n",
      " 44%|█████████████████████████████████████████████████████████████▌                                                                              | 66/150 [04:54<05:58,  4.27s/it]"
     ]
    },
    {
     "name": "stdout",
     "output_type": "stream",
     "text": [
      "Node features size :torch.Size([1153, 1024])\n",
      "mat size :(1153, 1153)\n"
     ]
    },
    {
     "name": "stderr",
     "output_type": "stream",
     "text": [
      "/Users/souviksinha/miniconda3/envs/py39_2/lib/python3.9/site-packages/Bio/PDB/PDBParser.py:395: PDBConstructionWarning: Ignoring unrecognized record 'END' at line 19604\n",
      "  warnings.warn(\n",
      " 45%|██████████████████████████████████████████████████████████████▌                                                                             | 67/150 [04:58<05:47,  4.19s/it]"
     ]
    },
    {
     "name": "stdout",
     "output_type": "stream",
     "text": [
      "Node features size :torch.Size([1153, 1024])\n",
      "mat size :(1153, 1153)\n"
     ]
    },
    {
     "name": "stderr",
     "output_type": "stream",
     "text": [
      "/Users/souviksinha/miniconda3/envs/py39_2/lib/python3.9/site-packages/Bio/PDB/PDBParser.py:395: PDBConstructionWarning: Ignoring unrecognized record 'END' at line 19604\n",
      "  warnings.warn(\n",
      " 45%|███████████████████████████████████████████████████████████████▍                                                                            | 68/150 [05:01<05:29,  4.01s/it]"
     ]
    },
    {
     "name": "stdout",
     "output_type": "stream",
     "text": [
      "Node features size :torch.Size([1153, 1024])\n",
      "mat size :(1153, 1153)\n"
     ]
    },
    {
     "name": "stderr",
     "output_type": "stream",
     "text": [
      "/Users/souviksinha/miniconda3/envs/py39_2/lib/python3.9/site-packages/Bio/PDB/PDBParser.py:395: PDBConstructionWarning: Ignoring unrecognized record 'END' at line 19604\n",
      "  warnings.warn(\n",
      " 46%|████████████████████████████████████████████████████████████████▍                                                                           | 69/150 [05:05<05:21,  3.97s/it]"
     ]
    },
    {
     "name": "stdout",
     "output_type": "stream",
     "text": [
      "Node features size :torch.Size([1153, 1024])\n",
      "mat size :(1153, 1153)\n"
     ]
    },
    {
     "name": "stderr",
     "output_type": "stream",
     "text": [
      "/Users/souviksinha/miniconda3/envs/py39_2/lib/python3.9/site-packages/Bio/PDB/PDBParser.py:395: PDBConstructionWarning: Ignoring unrecognized record 'END' at line 19604\n",
      "  warnings.warn(\n",
      " 47%|█████████████████████████████████████████████████████████████████▎                                                                          | 70/150 [05:09<05:17,  3.97s/it]"
     ]
    },
    {
     "name": "stdout",
     "output_type": "stream",
     "text": [
      "Node features size :torch.Size([1153, 1024])\n",
      "mat size :(1153, 1153)\n"
     ]
    },
    {
     "name": "stderr",
     "output_type": "stream",
     "text": [
      "/Users/souviksinha/miniconda3/envs/py39_2/lib/python3.9/site-packages/Bio/PDB/PDBParser.py:395: PDBConstructionWarning: Ignoring unrecognized record 'END' at line 19604\n",
      "  warnings.warn(\n",
      " 47%|██████████████████████████████████████████████████████████████████▎                                                                         | 71/150 [05:13<05:10,  3.93s/it]"
     ]
    },
    {
     "name": "stdout",
     "output_type": "stream",
     "text": [
      "Node features size :torch.Size([1153, 1024])\n",
      "mat size :(1153, 1153)\n"
     ]
    },
    {
     "name": "stderr",
     "output_type": "stream",
     "text": [
      "/Users/souviksinha/miniconda3/envs/py39_2/lib/python3.9/site-packages/Bio/PDB/PDBParser.py:395: PDBConstructionWarning: Ignoring unrecognized record 'END' at line 19604\n",
      "  warnings.warn(\n",
      " 48%|███████████████████████████████████████████████████████████████████▏                                                                        | 72/150 [05:17<05:10,  3.98s/it]"
     ]
    },
    {
     "name": "stdout",
     "output_type": "stream",
     "text": [
      "Node features size :torch.Size([1153, 1024])\n",
      "mat size :(1153, 1153)\n"
     ]
    },
    {
     "name": "stderr",
     "output_type": "stream",
     "text": [
      "/Users/souviksinha/miniconda3/envs/py39_2/lib/python3.9/site-packages/Bio/PDB/PDBParser.py:395: PDBConstructionWarning: Ignoring unrecognized record 'END' at line 19604\n",
      "  warnings.warn(\n",
      " 49%|████████████████████████████████████████████████████████████████████▏                                                                       | 73/150 [05:21<05:01,  3.92s/it]"
     ]
    },
    {
     "name": "stdout",
     "output_type": "stream",
     "text": [
      "Node features size :torch.Size([1153, 1024])\n",
      "mat size :(1153, 1153)\n"
     ]
    },
    {
     "name": "stderr",
     "output_type": "stream",
     "text": [
      "/Users/souviksinha/miniconda3/envs/py39_2/lib/python3.9/site-packages/Bio/PDB/PDBParser.py:395: PDBConstructionWarning: Ignoring unrecognized record 'END' at line 19604\n",
      "  warnings.warn(\n",
      " 49%|█████████████████████████████████████████████████████████████████████                                                                       | 74/150 [05:25<04:58,  3.93s/it]"
     ]
    },
    {
     "name": "stdout",
     "output_type": "stream",
     "text": [
      "Node features size :torch.Size([1153, 1024])\n",
      "mat size :(1153, 1153)\n"
     ]
    },
    {
     "name": "stderr",
     "output_type": "stream",
     "text": [
      "/Users/souviksinha/miniconda3/envs/py39_2/lib/python3.9/site-packages/Bio/PDB/PDBParser.py:395: PDBConstructionWarning: Ignoring unrecognized record 'END' at line 19604\n",
      "  warnings.warn(\n",
      " 50%|██████████████████████████████████████████████████████████████████████                                                                      | 75/150 [05:28<04:42,  3.77s/it]"
     ]
    },
    {
     "name": "stdout",
     "output_type": "stream",
     "text": [
      "Node features size :torch.Size([1153, 1024])\n",
      "mat size :(1153, 1153)\n"
     ]
    },
    {
     "name": "stderr",
     "output_type": "stream",
     "text": [
      "/Users/souviksinha/miniconda3/envs/py39_2/lib/python3.9/site-packages/Bio/PDB/PDBParser.py:395: PDBConstructionWarning: Ignoring unrecognized record 'END' at line 19604\n",
      "  warnings.warn(\n",
      " 51%|██████████████████████████████████████████████████████████████████████▉                                                                     | 76/150 [05:32<04:41,  3.80s/it]"
     ]
    },
    {
     "name": "stdout",
     "output_type": "stream",
     "text": [
      "Node features size :torch.Size([1153, 1024])\n",
      "mat size :(1153, 1153)\n"
     ]
    },
    {
     "name": "stderr",
     "output_type": "stream",
     "text": [
      "/Users/souviksinha/miniconda3/envs/py39_2/lib/python3.9/site-packages/Bio/PDB/PDBParser.py:395: PDBConstructionWarning: Ignoring unrecognized record 'END' at line 19604\n",
      "  warnings.warn(\n",
      " 51%|███████████████████████████████████████████████████████████████████████▊                                                                    | 77/150 [05:36<04:33,  3.74s/it]"
     ]
    },
    {
     "name": "stdout",
     "output_type": "stream",
     "text": [
      "Node features size :torch.Size([1153, 1024])\n",
      "mat size :(1153, 1153)\n"
     ]
    },
    {
     "name": "stderr",
     "output_type": "stream",
     "text": [
      "/Users/souviksinha/miniconda3/envs/py39_2/lib/python3.9/site-packages/Bio/PDB/PDBParser.py:395: PDBConstructionWarning: Ignoring unrecognized record 'END' at line 19604\n",
      "  warnings.warn(\n",
      " 52%|████████████████████████████████████████████████████████████████████████▊                                                                   | 78/150 [05:40<04:27,  3.72s/it]"
     ]
    },
    {
     "name": "stdout",
     "output_type": "stream",
     "text": [
      "Node features size :torch.Size([1153, 1024])\n",
      "mat size :(1153, 1153)\n"
     ]
    },
    {
     "name": "stderr",
     "output_type": "stream",
     "text": [
      "/Users/souviksinha/miniconda3/envs/py39_2/lib/python3.9/site-packages/Bio/PDB/PDBParser.py:395: PDBConstructionWarning: Ignoring unrecognized record 'END' at line 19604\n",
      "  warnings.warn(\n",
      " 53%|█████████████████████████████████████████████████████████████████████████▋                                                                  | 79/150 [05:43<04:24,  3.73s/it]"
     ]
    },
    {
     "name": "stdout",
     "output_type": "stream",
     "text": [
      "Node features size :torch.Size([1153, 1024])\n",
      "mat size :(1153, 1153)\n"
     ]
    },
    {
     "name": "stderr",
     "output_type": "stream",
     "text": [
      "/Users/souviksinha/miniconda3/envs/py39_2/lib/python3.9/site-packages/Bio/PDB/PDBParser.py:395: PDBConstructionWarning: Ignoring unrecognized record 'END' at line 19604\n",
      "  warnings.warn(\n",
      " 53%|██████████████████████████████████████████████████████████████████████████▋                                                                 | 80/150 [05:47<04:18,  3.70s/it]"
     ]
    },
    {
     "name": "stdout",
     "output_type": "stream",
     "text": [
      "Node features size :torch.Size([1153, 1024])\n",
      "mat size :(1153, 1153)\n"
     ]
    },
    {
     "name": "stderr",
     "output_type": "stream",
     "text": [
      "/Users/souviksinha/miniconda3/envs/py39_2/lib/python3.9/site-packages/Bio/PDB/PDBParser.py:395: PDBConstructionWarning: Ignoring unrecognized record 'END' at line 19604\n",
      "  warnings.warn(\n",
      " 54%|███████████████████████████████████████████████████████████████████████████▌                                                                | 81/150 [05:51<04:16,  3.72s/it]"
     ]
    },
    {
     "name": "stdout",
     "output_type": "stream",
     "text": [
      "Node features size :torch.Size([1153, 1024])\n",
      "mat size :(1153, 1153)\n"
     ]
    },
    {
     "name": "stderr",
     "output_type": "stream",
     "text": [
      "/Users/souviksinha/miniconda3/envs/py39_2/lib/python3.9/site-packages/Bio/PDB/PDBParser.py:395: PDBConstructionWarning: Ignoring unrecognized record 'END' at line 19604\n",
      "  warnings.warn(\n",
      " 55%|████████████████████████████████████████████████████████████████████████████▌                                                               | 82/150 [05:55<04:26,  3.92s/it]"
     ]
    },
    {
     "name": "stdout",
     "output_type": "stream",
     "text": [
      "Node features size :torch.Size([1153, 1024])\n",
      "mat size :(1153, 1153)\n"
     ]
    },
    {
     "name": "stderr",
     "output_type": "stream",
     "text": [
      "/Users/souviksinha/miniconda3/envs/py39_2/lib/python3.9/site-packages/Bio/PDB/PDBParser.py:395: PDBConstructionWarning: Ignoring unrecognized record 'END' at line 19604\n",
      "  warnings.warn(\n",
      " 55%|█████████████████████████████████████████████████████████████████████████████▍                                                              | 83/150 [05:59<04:29,  4.02s/it]"
     ]
    },
    {
     "name": "stdout",
     "output_type": "stream",
     "text": [
      "Node features size :torch.Size([1153, 1024])\n",
      "mat size :(1153, 1153)\n"
     ]
    },
    {
     "name": "stderr",
     "output_type": "stream",
     "text": [
      "/Users/souviksinha/miniconda3/envs/py39_2/lib/python3.9/site-packages/Bio/PDB/PDBParser.py:395: PDBConstructionWarning: Ignoring unrecognized record 'END' at line 19604\n",
      "  warnings.warn(\n",
      " 56%|██████████████████████████████████████████████████████████████████████████████▍                                                             | 84/150 [06:03<04:16,  3.89s/it]"
     ]
    },
    {
     "name": "stdout",
     "output_type": "stream",
     "text": [
      "Node features size :torch.Size([1153, 1024])\n",
      "mat size :(1153, 1153)\n"
     ]
    },
    {
     "name": "stderr",
     "output_type": "stream",
     "text": [
      "/Users/souviksinha/miniconda3/envs/py39_2/lib/python3.9/site-packages/Bio/PDB/PDBParser.py:395: PDBConstructionWarning: Ignoring unrecognized record 'END' at line 19604\n",
      "  warnings.warn(\n",
      " 57%|███████████████████████████████████████████████████████████████████████████████▎                                                            | 85/150 [06:08<04:27,  4.12s/it]"
     ]
    },
    {
     "name": "stdout",
     "output_type": "stream",
     "text": [
      "Node features size :torch.Size([1153, 1024])\n",
      "mat size :(1153, 1153)\n"
     ]
    },
    {
     "name": "stderr",
     "output_type": "stream",
     "text": [
      "/Users/souviksinha/miniconda3/envs/py39_2/lib/python3.9/site-packages/Bio/PDB/PDBParser.py:395: PDBConstructionWarning: Ignoring unrecognized record 'END' at line 19604\n",
      "  warnings.warn(\n",
      " 57%|████████████████████████████████████████████████████████████████████████████████▎                                                           | 86/150 [06:12<04:21,  4.09s/it]"
     ]
    },
    {
     "name": "stdout",
     "output_type": "stream",
     "text": [
      "Node features size :torch.Size([1153, 1024])\n",
      "mat size :(1153, 1153)\n"
     ]
    },
    {
     "name": "stderr",
     "output_type": "stream",
     "text": [
      "/Users/souviksinha/miniconda3/envs/py39_2/lib/python3.9/site-packages/Bio/PDB/PDBParser.py:395: PDBConstructionWarning: Ignoring unrecognized record 'END' at line 19604\n",
      "  warnings.warn(\n",
      " 58%|█████████████████████████████████████████████████████████████████████████████████▏                                                          | 87/150 [06:15<04:10,  3.98s/it]"
     ]
    },
    {
     "name": "stdout",
     "output_type": "stream",
     "text": [
      "Node features size :torch.Size([1153, 1024])\n",
      "mat size :(1153, 1153)\n"
     ]
    },
    {
     "name": "stderr",
     "output_type": "stream",
     "text": [
      "/Users/souviksinha/miniconda3/envs/py39_2/lib/python3.9/site-packages/Bio/PDB/PDBParser.py:395: PDBConstructionWarning: Ignoring unrecognized record 'END' at line 19604\n",
      "  warnings.warn(\n",
      " 59%|██████████████████████████████████████████████████████████████████████████████████▏                                                         | 88/150 [06:19<04:02,  3.90s/it]"
     ]
    },
    {
     "name": "stdout",
     "output_type": "stream",
     "text": [
      "Node features size :torch.Size([1153, 1024])\n",
      "mat size :(1153, 1153)\n"
     ]
    },
    {
     "name": "stderr",
     "output_type": "stream",
     "text": [
      "/Users/souviksinha/miniconda3/envs/py39_2/lib/python3.9/site-packages/Bio/PDB/PDBParser.py:395: PDBConstructionWarning: Ignoring unrecognized record 'END' at line 19604\n",
      "  warnings.warn(\n",
      " 59%|███████████████████████████████████████████████████████████████████████████████████                                                         | 89/150 [06:23<03:53,  3.82s/it]"
     ]
    },
    {
     "name": "stdout",
     "output_type": "stream",
     "text": [
      "Node features size :torch.Size([1153, 1024])\n",
      "mat size :(1153, 1153)\n"
     ]
    },
    {
     "name": "stderr",
     "output_type": "stream",
     "text": [
      "/Users/souviksinha/miniconda3/envs/py39_2/lib/python3.9/site-packages/Bio/PDB/PDBParser.py:395: PDBConstructionWarning: Ignoring unrecognized record 'END' at line 19604\n",
      "  warnings.warn(\n",
      " 60%|████████████████████████████████████████████████████████████████████████████████████                                                        | 90/150 [06:26<03:44,  3.74s/it]"
     ]
    },
    {
     "name": "stdout",
     "output_type": "stream",
     "text": [
      "Node features size :torch.Size([1153, 1024])\n",
      "mat size :(1153, 1153)\n"
     ]
    },
    {
     "name": "stderr",
     "output_type": "stream",
     "text": [
      "/Users/souviksinha/miniconda3/envs/py39_2/lib/python3.9/site-packages/Bio/PDB/PDBParser.py:395: PDBConstructionWarning: Ignoring unrecognized record 'END' at line 19604\n",
      "  warnings.warn(\n",
      " 61%|████████████████████████████████████████████████████████████████████████████████████▉                                                       | 91/150 [06:30<03:38,  3.70s/it]"
     ]
    },
    {
     "name": "stdout",
     "output_type": "stream",
     "text": [
      "Node features size :torch.Size([1153, 1024])\n",
      "mat size :(1153, 1153)\n"
     ]
    },
    {
     "name": "stderr",
     "output_type": "stream",
     "text": [
      "/Users/souviksinha/miniconda3/envs/py39_2/lib/python3.9/site-packages/Bio/PDB/PDBParser.py:395: PDBConstructionWarning: Ignoring unrecognized record 'END' at line 19604\n",
      "  warnings.warn(\n",
      " 61%|█████████████████████████████████████████████████████████████████████████████████████▊                                                      | 92/150 [06:33<03:25,  3.54s/it]"
     ]
    },
    {
     "name": "stdout",
     "output_type": "stream",
     "text": [
      "Node features size :torch.Size([1153, 1024])\n",
      "mat size :(1153, 1153)\n"
     ]
    },
    {
     "name": "stderr",
     "output_type": "stream",
     "text": [
      "/Users/souviksinha/miniconda3/envs/py39_2/lib/python3.9/site-packages/Bio/PDB/PDBParser.py:395: PDBConstructionWarning: Ignoring unrecognized record 'END' at line 19604\n",
      "  warnings.warn(\n",
      " 62%|██████████████████████████████████████████████████████████████████████████████████████▊                                                     | 93/150 [06:37<03:22,  3.55s/it]"
     ]
    },
    {
     "name": "stdout",
     "output_type": "stream",
     "text": [
      "Node features size :torch.Size([1153, 1024])\n",
      "mat size :(1153, 1153)\n"
     ]
    },
    {
     "name": "stderr",
     "output_type": "stream",
     "text": [
      "/Users/souviksinha/miniconda3/envs/py39_2/lib/python3.9/site-packages/Bio/PDB/PDBParser.py:395: PDBConstructionWarning: Ignoring unrecognized record 'END' at line 19604\n",
      "  warnings.warn(\n",
      " 63%|███████████████████████████████████████████████████████████████████████████████████████▋                                                    | 94/150 [06:40<03:20,  3.57s/it]"
     ]
    },
    {
     "name": "stdout",
     "output_type": "stream",
     "text": [
      "Node features size :torch.Size([1153, 1024])\n",
      "mat size :(1153, 1153)\n"
     ]
    },
    {
     "name": "stderr",
     "output_type": "stream",
     "text": [
      "/Users/souviksinha/miniconda3/envs/py39_2/lib/python3.9/site-packages/Bio/PDB/PDBParser.py:395: PDBConstructionWarning: Ignoring unrecognized record 'END' at line 19604\n",
      "  warnings.warn(\n",
      " 63%|████████████████████████████████████████████████████████████████████████████████████████▋                                                   | 95/150 [06:44<03:18,  3.61s/it]"
     ]
    },
    {
     "name": "stdout",
     "output_type": "stream",
     "text": [
      "Node features size :torch.Size([1153, 1024])\n",
      "mat size :(1153, 1153)\n"
     ]
    },
    {
     "name": "stderr",
     "output_type": "stream",
     "text": [
      "/Users/souviksinha/miniconda3/envs/py39_2/lib/python3.9/site-packages/Bio/PDB/PDBParser.py:395: PDBConstructionWarning: Ignoring unrecognized record 'END' at line 19604\n",
      "  warnings.warn(\n",
      " 64%|█████████████████████████████████████████████████████████████████████████████████████████▌                                                  | 96/150 [06:47<03:14,  3.60s/it]"
     ]
    },
    {
     "name": "stdout",
     "output_type": "stream",
     "text": [
      "Node features size :torch.Size([1153, 1024])\n",
      "mat size :(1153, 1153)\n"
     ]
    },
    {
     "name": "stderr",
     "output_type": "stream",
     "text": [
      "/Users/souviksinha/miniconda3/envs/py39_2/lib/python3.9/site-packages/Bio/PDB/PDBParser.py:395: PDBConstructionWarning: Ignoring unrecognized record 'END' at line 19604\n",
      "  warnings.warn(\n",
      " 65%|██████████████████████████████████████████████████████████████████████████████████████████▌                                                 | 97/150 [06:51<03:10,  3.60s/it]"
     ]
    },
    {
     "name": "stdout",
     "output_type": "stream",
     "text": [
      "Node features size :torch.Size([1153, 1024])\n",
      "mat size :(1153, 1153)\n"
     ]
    },
    {
     "name": "stderr",
     "output_type": "stream",
     "text": [
      "/Users/souviksinha/miniconda3/envs/py39_2/lib/python3.9/site-packages/Bio/PDB/PDBParser.py:395: PDBConstructionWarning: Ignoring unrecognized record 'END' at line 19604\n",
      "  warnings.warn(\n",
      " 65%|███████████████████████████████████████████████████████████████████████████████████████████▍                                                | 98/150 [06:55<03:08,  3.62s/it]"
     ]
    },
    {
     "name": "stdout",
     "output_type": "stream",
     "text": [
      "Node features size :torch.Size([1153, 1024])\n",
      "mat size :(1153, 1153)\n"
     ]
    },
    {
     "name": "stderr",
     "output_type": "stream",
     "text": [
      "/Users/souviksinha/miniconda3/envs/py39_2/lib/python3.9/site-packages/Bio/PDB/PDBParser.py:395: PDBConstructionWarning: Ignoring unrecognized record 'END' at line 19604\n",
      "  warnings.warn(\n",
      " 66%|████████████████████████████████████████████████████████████████████████████████████████████▍                                               | 99/150 [06:58<03:05,  3.65s/it]"
     ]
    },
    {
     "name": "stdout",
     "output_type": "stream",
     "text": [
      "Node features size :torch.Size([1153, 1024])\n",
      "mat size :(1153, 1153)\n"
     ]
    },
    {
     "name": "stderr",
     "output_type": "stream",
     "text": [
      "/Users/souviksinha/miniconda3/envs/py39_2/lib/python3.9/site-packages/Bio/PDB/PDBParser.py:395: PDBConstructionWarning: Ignoring unrecognized record 'END' at line 19604\n",
      "  warnings.warn(\n",
      " 67%|████████████████████████████████████████████████████████████████████████████████████████████▋                                              | 100/150 [07:02<02:56,  3.53s/it]"
     ]
    },
    {
     "name": "stdout",
     "output_type": "stream",
     "text": [
      "Node features size :torch.Size([1153, 1024])\n",
      "mat size :(1153, 1153)\n"
     ]
    },
    {
     "name": "stderr",
     "output_type": "stream",
     "text": [
      "/Users/souviksinha/miniconda3/envs/py39_2/lib/python3.9/site-packages/Bio/PDB/PDBParser.py:395: PDBConstructionWarning: Ignoring unrecognized record 'END' at line 19604\n",
      "  warnings.warn(\n",
      " 67%|█████████████████████████████████████████████████████████████████████████████████████████████▌                                             | 101/150 [07:05<02:55,  3.58s/it]"
     ]
    },
    {
     "name": "stdout",
     "output_type": "stream",
     "text": [
      "Node features size :torch.Size([1153, 1024])\n",
      "mat size :(1153, 1153)\n"
     ]
    },
    {
     "name": "stderr",
     "output_type": "stream",
     "text": [
      "/Users/souviksinha/miniconda3/envs/py39_2/lib/python3.9/site-packages/Bio/PDB/PDBParser.py:395: PDBConstructionWarning: Ignoring unrecognized record 'END' at line 19604\n",
      "  warnings.warn(\n",
      " 68%|██████████████████████████████████████████████████████████████████████████████████████████████▌                                            | 102/150 [07:09<02:53,  3.61s/it]"
     ]
    },
    {
     "name": "stdout",
     "output_type": "stream",
     "text": [
      "Node features size :torch.Size([1153, 1024])\n",
      "mat size :(1153, 1153)\n"
     ]
    },
    {
     "name": "stderr",
     "output_type": "stream",
     "text": [
      "/Users/souviksinha/miniconda3/envs/py39_2/lib/python3.9/site-packages/Bio/PDB/PDBParser.py:395: PDBConstructionWarning: Ignoring unrecognized record 'END' at line 19604\n",
      "  warnings.warn(\n",
      " 69%|███████████████████████████████████████████████████████████████████████████████████████████████▍                                           | 103/150 [07:13<02:50,  3.63s/it]"
     ]
    },
    {
     "name": "stdout",
     "output_type": "stream",
     "text": [
      "Node features size :torch.Size([1153, 1024])\n",
      "mat size :(1153, 1153)\n"
     ]
    },
    {
     "name": "stderr",
     "output_type": "stream",
     "text": [
      "/Users/souviksinha/miniconda3/envs/py39_2/lib/python3.9/site-packages/Bio/PDB/PDBParser.py:395: PDBConstructionWarning: Ignoring unrecognized record 'END' at line 19604\n",
      "  warnings.warn(\n",
      " 69%|████████████████████████████████████████████████████████████████████████████████████████████████▎                                          | 104/150 [07:16<02:47,  3.65s/it]"
     ]
    },
    {
     "name": "stdout",
     "output_type": "stream",
     "text": [
      "Node features size :torch.Size([1153, 1024])\n",
      "mat size :(1153, 1153)\n"
     ]
    },
    {
     "name": "stderr",
     "output_type": "stream",
     "text": [
      "/Users/souviksinha/miniconda3/envs/py39_2/lib/python3.9/site-packages/Bio/PDB/PDBParser.py:395: PDBConstructionWarning: Ignoring unrecognized record 'END' at line 19604\n",
      "  warnings.warn(\n",
      " 70%|█████████████████████████████████████████████████████████████████████████████████████████████████▎                                         | 105/150 [07:20<02:46,  3.70s/it]"
     ]
    },
    {
     "name": "stdout",
     "output_type": "stream",
     "text": [
      "Node features size :torch.Size([1153, 1024])\n",
      "mat size :(1153, 1153)\n"
     ]
    },
    {
     "name": "stderr",
     "output_type": "stream",
     "text": [
      "/Users/souviksinha/miniconda3/envs/py39_2/lib/python3.9/site-packages/Bio/PDB/PDBParser.py:395: PDBConstructionWarning: Ignoring unrecognized record 'END' at line 19604\n",
      "  warnings.warn(\n",
      " 71%|██████████████████████████████████████████████████████████████████████████████████████████████████▏                                        | 106/150 [07:24<02:43,  3.72s/it]"
     ]
    },
    {
     "name": "stdout",
     "output_type": "stream",
     "text": [
      "Node features size :torch.Size([1153, 1024])\n",
      "mat size :(1153, 1153)\n"
     ]
    },
    {
     "name": "stderr",
     "output_type": "stream",
     "text": [
      "/Users/souviksinha/miniconda3/envs/py39_2/lib/python3.9/site-packages/Bio/PDB/PDBParser.py:395: PDBConstructionWarning: Ignoring unrecognized record 'END' at line 19604\n",
      "  warnings.warn(\n",
      " 71%|███████████████████████████████████████████████████████████████████████████████████████████████████▏                                       | 107/150 [07:28<02:38,  3.68s/it]"
     ]
    },
    {
     "name": "stdout",
     "output_type": "stream",
     "text": [
      "Node features size :torch.Size([1153, 1024])\n",
      "mat size :(1153, 1153)\n"
     ]
    },
    {
     "name": "stderr",
     "output_type": "stream",
     "text": [
      "/Users/souviksinha/miniconda3/envs/py39_2/lib/python3.9/site-packages/Bio/PDB/PDBParser.py:395: PDBConstructionWarning: Ignoring unrecognized record 'END' at line 19604\n",
      "  warnings.warn(\n",
      " 72%|████████████████████████████████████████████████████████████████████████████████████████████████████                                       | 108/150 [07:31<02:27,  3.50s/it]"
     ]
    },
    {
     "name": "stdout",
     "output_type": "stream",
     "text": [
      "Node features size :torch.Size([1153, 1024])\n",
      "mat size :(1153, 1153)\n"
     ]
    },
    {
     "name": "stderr",
     "output_type": "stream",
     "text": [
      "/Users/souviksinha/miniconda3/envs/py39_2/lib/python3.9/site-packages/Bio/PDB/PDBParser.py:395: PDBConstructionWarning: Ignoring unrecognized record 'END' at line 19604\n",
      "  warnings.warn(\n",
      " 73%|█████████████████████████████████████████████████████████████████████████████████████████████████████                                      | 109/150 [07:34<02:25,  3.56s/it]"
     ]
    },
    {
     "name": "stdout",
     "output_type": "stream",
     "text": [
      "Node features size :torch.Size([1153, 1024])\n",
      "mat size :(1153, 1153)\n"
     ]
    },
    {
     "name": "stderr",
     "output_type": "stream",
     "text": [
      "/Users/souviksinha/miniconda3/envs/py39_2/lib/python3.9/site-packages/Bio/PDB/PDBParser.py:395: PDBConstructionWarning: Ignoring unrecognized record 'END' at line 19604\n",
      "  warnings.warn(\n",
      " 73%|█████████████████████████████████████████████████████████████████████████████████████████████████████▉                                     | 110/150 [07:38<02:23,  3.58s/it]"
     ]
    },
    {
     "name": "stdout",
     "output_type": "stream",
     "text": [
      "Node features size :torch.Size([1153, 1024])\n",
      "mat size :(1153, 1153)\n"
     ]
    },
    {
     "name": "stderr",
     "output_type": "stream",
     "text": [
      "/Users/souviksinha/miniconda3/envs/py39_2/lib/python3.9/site-packages/Bio/PDB/PDBParser.py:395: PDBConstructionWarning: Ignoring unrecognized record 'END' at line 19604\n",
      "  warnings.warn(\n",
      " 74%|██████████████████████████████████████████████████████████████████████████████████████████████████████▊                                    | 111/150 [07:42<02:19,  3.59s/it]"
     ]
    },
    {
     "name": "stdout",
     "output_type": "stream",
     "text": [
      "Node features size :torch.Size([1153, 1024])\n",
      "mat size :(1153, 1153)\n"
     ]
    },
    {
     "name": "stderr",
     "output_type": "stream",
     "text": [
      "/Users/souviksinha/miniconda3/envs/py39_2/lib/python3.9/site-packages/Bio/PDB/PDBParser.py:395: PDBConstructionWarning: Ignoring unrecognized record 'END' at line 19604\n",
      "  warnings.warn(\n",
      " 75%|███████████████████████████████████████████████████████████████████████████████████████████████████████▊                                   | 112/150 [07:45<02:17,  3.61s/it]"
     ]
    },
    {
     "name": "stdout",
     "output_type": "stream",
     "text": [
      "Node features size :torch.Size([1153, 1024])\n",
      "mat size :(1153, 1153)\n"
     ]
    },
    {
     "name": "stderr",
     "output_type": "stream",
     "text": [
      "/Users/souviksinha/miniconda3/envs/py39_2/lib/python3.9/site-packages/Bio/PDB/PDBParser.py:395: PDBConstructionWarning: Ignoring unrecognized record 'END' at line 19604\n",
      "  warnings.warn(\n",
      " 75%|████████████████████████████████████████████████████████████████████████████████████████████████████████▋                                  | 113/150 [07:49<02:14,  3.63s/it]"
     ]
    },
    {
     "name": "stdout",
     "output_type": "stream",
     "text": [
      "Node features size :torch.Size([1153, 1024])\n",
      "mat size :(1153, 1153)\n"
     ]
    },
    {
     "name": "stderr",
     "output_type": "stream",
     "text": [
      "/Users/souviksinha/miniconda3/envs/py39_2/lib/python3.9/site-packages/Bio/PDB/PDBParser.py:395: PDBConstructionWarning: Ignoring unrecognized record 'END' at line 19604\n",
      "  warnings.warn(\n",
      " 76%|█████████████████████████████████████████████████████████████████████████████████████████████████████████▋                                 | 114/150 [07:53<02:11,  3.65s/it]"
     ]
    },
    {
     "name": "stdout",
     "output_type": "stream",
     "text": [
      "Node features size :torch.Size([1153, 1024])\n",
      "mat size :(1153, 1153)\n"
     ]
    },
    {
     "name": "stderr",
     "output_type": "stream",
     "text": [
      "/Users/souviksinha/miniconda3/envs/py39_2/lib/python3.9/site-packages/Bio/PDB/PDBParser.py:395: PDBConstructionWarning: Ignoring unrecognized record 'END' at line 19604\n",
      "  warnings.warn(\n",
      " 77%|██████████████████████████████████████████████████████████████████████████████████████████████████████████▌                                | 115/150 [07:56<02:07,  3.66s/it]"
     ]
    },
    {
     "name": "stdout",
     "output_type": "stream",
     "text": [
      "Node features size :torch.Size([1153, 1024])\n",
      "mat size :(1153, 1153)\n"
     ]
    },
    {
     "name": "stderr",
     "output_type": "stream",
     "text": [
      "/Users/souviksinha/miniconda3/envs/py39_2/lib/python3.9/site-packages/Bio/PDB/PDBParser.py:395: PDBConstructionWarning: Ignoring unrecognized record 'END' at line 19604\n",
      "  warnings.warn(\n",
      " 77%|███████████████████████████████████████████████████████████████████████████████████████████████████████████▍                               | 116/150 [08:00<02:07,  3.74s/it]"
     ]
    },
    {
     "name": "stdout",
     "output_type": "stream",
     "text": [
      "Node features size :torch.Size([1153, 1024])\n",
      "mat size :(1153, 1153)\n"
     ]
    },
    {
     "name": "stderr",
     "output_type": "stream",
     "text": [
      "/Users/souviksinha/miniconda3/envs/py39_2/lib/python3.9/site-packages/Bio/PDB/PDBParser.py:395: PDBConstructionWarning: Ignoring unrecognized record 'END' at line 19604\n",
      "  warnings.warn(\n",
      " 78%|████████████████████████████████████████████████████████████████████████████████████████████████████████████▍                              | 117/150 [08:04<01:58,  3.60s/it]"
     ]
    },
    {
     "name": "stdout",
     "output_type": "stream",
     "text": [
      "Node features size :torch.Size([1153, 1024])\n",
      "mat size :(1153, 1153)\n"
     ]
    },
    {
     "name": "stderr",
     "output_type": "stream",
     "text": [
      "/Users/souviksinha/miniconda3/envs/py39_2/lib/python3.9/site-packages/Bio/PDB/PDBParser.py:395: PDBConstructionWarning: Ignoring unrecognized record 'END' at line 19604\n",
      "  warnings.warn(\n",
      " 79%|█████████████████████████████████████████████████████████████████████████████████████████████████████████████▎                             | 118/150 [08:07<01:56,  3.63s/it]"
     ]
    },
    {
     "name": "stdout",
     "output_type": "stream",
     "text": [
      "Node features size :torch.Size([1153, 1024])\n",
      "mat size :(1153, 1153)\n"
     ]
    },
    {
     "name": "stderr",
     "output_type": "stream",
     "text": [
      "/Users/souviksinha/miniconda3/envs/py39_2/lib/python3.9/site-packages/Bio/PDB/PDBParser.py:395: PDBConstructionWarning: Ignoring unrecognized record 'END' at line 19604\n",
      "  warnings.warn(\n",
      " 79%|██████████████████████████████████████████████████████████████████████████████████████████████████████████████▎                            | 119/150 [08:11<01:52,  3.64s/it]"
     ]
    },
    {
     "name": "stdout",
     "output_type": "stream",
     "text": [
      "Node features size :torch.Size([1153, 1024])\n",
      "mat size :(1153, 1153)\n"
     ]
    },
    {
     "name": "stderr",
     "output_type": "stream",
     "text": [
      "/Users/souviksinha/miniconda3/envs/py39_2/lib/python3.9/site-packages/Bio/PDB/PDBParser.py:395: PDBConstructionWarning: Ignoring unrecognized record 'END' at line 19604\n",
      "  warnings.warn(\n",
      " 80%|███████████████████████████████████████████████████████████████████████████████████████████████████████████████▏                           | 120/150 [08:15<01:50,  3.68s/it]"
     ]
    },
    {
     "name": "stdout",
     "output_type": "stream",
     "text": [
      "Node features size :torch.Size([1153, 1024])\n",
      "mat size :(1153, 1153)\n"
     ]
    },
    {
     "name": "stderr",
     "output_type": "stream",
     "text": [
      "/Users/souviksinha/miniconda3/envs/py39_2/lib/python3.9/site-packages/Bio/PDB/PDBParser.py:395: PDBConstructionWarning: Ignoring unrecognized record 'END' at line 19604\n",
      "  warnings.warn(\n",
      " 81%|████████████████████████████████████████████████████████████████████████████████████████████████████████████████▏                          | 121/150 [08:19<01:48,  3.74s/it]"
     ]
    },
    {
     "name": "stdout",
     "output_type": "stream",
     "text": [
      "Node features size :torch.Size([1153, 1024])\n",
      "mat size :(1153, 1153)\n"
     ]
    },
    {
     "name": "stderr",
     "output_type": "stream",
     "text": [
      "/Users/souviksinha/miniconda3/envs/py39_2/lib/python3.9/site-packages/Bio/PDB/PDBParser.py:395: PDBConstructionWarning: Ignoring unrecognized record 'END' at line 19604\n",
      "  warnings.warn(\n",
      " 81%|█████████████████████████████████████████████████████████████████████████████████████████████████████████████████                          | 122/150 [08:22<01:45,  3.76s/it]"
     ]
    },
    {
     "name": "stdout",
     "output_type": "stream",
     "text": [
      "Node features size :torch.Size([1153, 1024])\n",
      "mat size :(1153, 1153)\n"
     ]
    },
    {
     "name": "stderr",
     "output_type": "stream",
     "text": [
      "/Users/souviksinha/miniconda3/envs/py39_2/lib/python3.9/site-packages/Bio/PDB/PDBParser.py:395: PDBConstructionWarning: Ignoring unrecognized record 'END' at line 19604\n",
      "  warnings.warn(\n",
      " 82%|█████████████████████████████████████████████████████████████████████████████████████████████████████████████████▉                         | 123/150 [08:26<01:41,  3.77s/it]"
     ]
    },
    {
     "name": "stdout",
     "output_type": "stream",
     "text": [
      "Node features size :torch.Size([1153, 1024])\n",
      "mat size :(1153, 1153)\n"
     ]
    },
    {
     "name": "stderr",
     "output_type": "stream",
     "text": [
      "/Users/souviksinha/miniconda3/envs/py39_2/lib/python3.9/site-packages/Bio/PDB/PDBParser.py:395: PDBConstructionWarning: Ignoring unrecognized record 'END' at line 19604\n",
      "  warnings.warn(\n",
      " 83%|██████████████████████████████████████████████████████████████████████████████████████████████████████████████████▉                        | 124/150 [08:30<01:40,  3.88s/it]"
     ]
    },
    {
     "name": "stdout",
     "output_type": "stream",
     "text": [
      "Node features size :torch.Size([1153, 1024])\n",
      "mat size :(1153, 1153)\n"
     ]
    },
    {
     "name": "stderr",
     "output_type": "stream",
     "text": [
      "/Users/souviksinha/miniconda3/envs/py39_2/lib/python3.9/site-packages/Bio/PDB/PDBParser.py:395: PDBConstructionWarning: Ignoring unrecognized record 'END' at line 19604\n",
      "  warnings.warn(\n",
      " 83%|███████████████████████████████████████████████████████████████████████████████████████████████████████████████████▊                       | 125/150 [08:35<01:45,  4.22s/it]"
     ]
    },
    {
     "name": "stdout",
     "output_type": "stream",
     "text": [
      "Node features size :torch.Size([1153, 1024])\n",
      "mat size :(1153, 1153)\n"
     ]
    },
    {
     "name": "stderr",
     "output_type": "stream",
     "text": [
      "/Users/souviksinha/miniconda3/envs/py39_2/lib/python3.9/site-packages/Bio/PDB/PDBParser.py:395: PDBConstructionWarning: Ignoring unrecognized record 'END' at line 19604\n",
      "  warnings.warn(\n",
      " 84%|████████████████████████████████████████████████████████████████████████████████████████████████████████████████████▊                      | 126/150 [08:40<01:45,  4.39s/it]"
     ]
    },
    {
     "name": "stdout",
     "output_type": "stream",
     "text": [
      "Node features size :torch.Size([1153, 1024])\n",
      "mat size :(1153, 1153)\n"
     ]
    },
    {
     "name": "stderr",
     "output_type": "stream",
     "text": [
      "/Users/souviksinha/miniconda3/envs/py39_2/lib/python3.9/site-packages/Bio/PDB/PDBParser.py:395: PDBConstructionWarning: Ignoring unrecognized record 'END' at line 19604\n",
      "  warnings.warn(\n",
      " 85%|█████████████████████████████████████████████████████████████████████████████████████████████████████████████████████▋                     | 127/150 [08:45<01:48,  4.70s/it]"
     ]
    },
    {
     "name": "stdout",
     "output_type": "stream",
     "text": [
      "Node features size :torch.Size([1153, 1024])\n",
      "mat size :(1153, 1153)\n"
     ]
    },
    {
     "name": "stderr",
     "output_type": "stream",
     "text": [
      "/Users/souviksinha/miniconda3/envs/py39_2/lib/python3.9/site-packages/Bio/PDB/PDBParser.py:395: PDBConstructionWarning: Ignoring unrecognized record 'END' at line 19604\n",
      "  warnings.warn(\n",
      " 85%|██████████████████████████████████████████████████████████████████████████████████████████████████████████████████████▌                    | 128/150 [08:51<01:45,  4.82s/it]"
     ]
    },
    {
     "name": "stdout",
     "output_type": "stream",
     "text": [
      "Node features size :torch.Size([1153, 1024])\n",
      "mat size :(1153, 1153)\n"
     ]
    },
    {
     "name": "stderr",
     "output_type": "stream",
     "text": [
      "/Users/souviksinha/miniconda3/envs/py39_2/lib/python3.9/site-packages/Bio/PDB/PDBParser.py:395: PDBConstructionWarning: Ignoring unrecognized record 'END' at line 19604\n",
      "  warnings.warn(\n",
      " 86%|███████████████████████████████████████████████████████████████████████████████████████████████████████████████████████▌                   | 129/150 [08:55<01:36,  4.61s/it]"
     ]
    },
    {
     "name": "stdout",
     "output_type": "stream",
     "text": [
      "Node features size :torch.Size([1153, 1024])\n",
      "mat size :(1153, 1153)\n"
     ]
    },
    {
     "name": "stderr",
     "output_type": "stream",
     "text": [
      "/Users/souviksinha/miniconda3/envs/py39_2/lib/python3.9/site-packages/Bio/PDB/PDBParser.py:395: PDBConstructionWarning: Ignoring unrecognized record 'END' at line 19604\n",
      "  warnings.warn(\n",
      " 87%|████████████████████████████████████████████████████████████████████████████████████████████████████████████████████████▍                  | 130/150 [08:59<01:32,  4.65s/it]"
     ]
    },
    {
     "name": "stdout",
     "output_type": "stream",
     "text": [
      "Node features size :torch.Size([1153, 1024])\n",
      "mat size :(1153, 1153)\n"
     ]
    },
    {
     "name": "stderr",
     "output_type": "stream",
     "text": [
      "/Users/souviksinha/miniconda3/envs/py39_2/lib/python3.9/site-packages/Bio/PDB/PDBParser.py:395: PDBConstructionWarning: Ignoring unrecognized record 'END' at line 19604\n",
      "  warnings.warn(\n",
      " 87%|█████████████████████████████████████████████████████████████████████████████████████████████████████████████████████████▍                 | 131/150 [09:05<01:31,  4.83s/it]"
     ]
    },
    {
     "name": "stdout",
     "output_type": "stream",
     "text": [
      "Node features size :torch.Size([1153, 1024])\n",
      "mat size :(1153, 1153)\n"
     ]
    },
    {
     "name": "stderr",
     "output_type": "stream",
     "text": [
      "/Users/souviksinha/miniconda3/envs/py39_2/lib/python3.9/site-packages/Bio/PDB/PDBParser.py:395: PDBConstructionWarning: Ignoring unrecognized record 'END' at line 19604\n",
      "  warnings.warn(\n",
      " 88%|██████████████████████████████████████████████████████████████████████████████████████████████████████████████████████████▎                | 132/150 [09:09<01:21,  4.53s/it]"
     ]
    },
    {
     "name": "stdout",
     "output_type": "stream",
     "text": [
      "Node features size :torch.Size([1153, 1024])\n",
      "mat size :(1153, 1153)\n"
     ]
    },
    {
     "name": "stderr",
     "output_type": "stream",
     "text": [
      "/Users/souviksinha/miniconda3/envs/py39_2/lib/python3.9/site-packages/Bio/PDB/PDBParser.py:395: PDBConstructionWarning: Ignoring unrecognized record 'END' at line 19604\n",
      "  warnings.warn(\n",
      " 89%|███████████████████████████████████████████████████████████████████████████████████████████████████████████████████████████▏               | 133/150 [09:12<01:11,  4.20s/it]"
     ]
    },
    {
     "name": "stdout",
     "output_type": "stream",
     "text": [
      "Node features size :torch.Size([1153, 1024])\n",
      "mat size :(1153, 1153)\n"
     ]
    },
    {
     "name": "stderr",
     "output_type": "stream",
     "text": [
      "/Users/souviksinha/miniconda3/envs/py39_2/lib/python3.9/site-packages/Bio/PDB/PDBParser.py:395: PDBConstructionWarning: Ignoring unrecognized record 'END' at line 19604\n",
      "  warnings.warn(\n",
      " 89%|████████████████████████████████████████████████████████████████████████████████████████████████████████████████████████████▏              | 134/150 [09:17<01:10,  4.38s/it]"
     ]
    },
    {
     "name": "stdout",
     "output_type": "stream",
     "text": [
      "Node features size :torch.Size([1153, 1024])\n",
      "mat size :(1153, 1153)\n"
     ]
    },
    {
     "name": "stderr",
     "output_type": "stream",
     "text": [
      "/Users/souviksinha/miniconda3/envs/py39_2/lib/python3.9/site-packages/Bio/PDB/PDBParser.py:395: PDBConstructionWarning: Ignoring unrecognized record 'END' at line 19604\n",
      "  warnings.warn(\n",
      " 90%|█████████████████████████████████████████████████████████████████████████████████████████████████████████████████████████████              | 135/150 [09:22<01:08,  4.55s/it]"
     ]
    },
    {
     "name": "stdout",
     "output_type": "stream",
     "text": [
      "Node features size :torch.Size([1153, 1024])\n",
      "mat size :(1153, 1153)\n"
     ]
    },
    {
     "name": "stderr",
     "output_type": "stream",
     "text": [
      "/Users/souviksinha/miniconda3/envs/py39_2/lib/python3.9/site-packages/Bio/PDB/PDBParser.py:395: PDBConstructionWarning: Ignoring unrecognized record 'END' at line 19604\n",
      "  warnings.warn(\n",
      " 91%|██████████████████████████████████████████████████████████████████████████████████████████████████████████████████████████████             | 136/150 [09:27<01:05,  4.65s/it]"
     ]
    },
    {
     "name": "stdout",
     "output_type": "stream",
     "text": [
      "Node features size :torch.Size([1153, 1024])\n",
      "mat size :(1153, 1153)\n"
     ]
    },
    {
     "name": "stderr",
     "output_type": "stream",
     "text": [
      "/Users/souviksinha/miniconda3/envs/py39_2/lib/python3.9/site-packages/Bio/PDB/PDBParser.py:395: PDBConstructionWarning: Ignoring unrecognized record 'END' at line 19604\n",
      "  warnings.warn(\n",
      " 91%|██████████████████████████████████████████████████████████████████████████████████████████████████████████████████████████████▉            | 137/150 [09:31<00:58,  4.48s/it]"
     ]
    },
    {
     "name": "stdout",
     "output_type": "stream",
     "text": [
      "Node features size :torch.Size([1153, 1024])\n",
      "mat size :(1153, 1153)\n"
     ]
    },
    {
     "name": "stderr",
     "output_type": "stream",
     "text": [
      "/Users/souviksinha/miniconda3/envs/py39_2/lib/python3.9/site-packages/Bio/PDB/PDBParser.py:395: PDBConstructionWarning: Ignoring unrecognized record 'END' at line 19604\n",
      "  warnings.warn(\n",
      " 92%|███████████████████████████████████████████████████████████████████████████████████████████████████████████████████████████████▉           | 138/150 [09:34<00:51,  4.28s/it]"
     ]
    },
    {
     "name": "stdout",
     "output_type": "stream",
     "text": [
      "Node features size :torch.Size([1153, 1024])\n",
      "mat size :(1153, 1153)\n"
     ]
    },
    {
     "name": "stderr",
     "output_type": "stream",
     "text": [
      "/Users/souviksinha/miniconda3/envs/py39_2/lib/python3.9/site-packages/Bio/PDB/PDBParser.py:395: PDBConstructionWarning: Ignoring unrecognized record 'END' at line 19604\n",
      "  warnings.warn(\n",
      " 93%|████████████████████████████████████████████████████████████████████████████████████████████████████████████████████████████████▊          | 139/150 [09:38<00:45,  4.15s/it]"
     ]
    },
    {
     "name": "stdout",
     "output_type": "stream",
     "text": [
      "Node features size :torch.Size([1153, 1024])\n",
      "mat size :(1153, 1153)\n"
     ]
    },
    {
     "name": "stderr",
     "output_type": "stream",
     "text": [
      "/Users/souviksinha/miniconda3/envs/py39_2/lib/python3.9/site-packages/Bio/PDB/PDBParser.py:395: PDBConstructionWarning: Ignoring unrecognized record 'END' at line 19604\n",
      "  warnings.warn(\n",
      " 93%|█████████████████████████████████████████████████████████████████████████████████████████████████████████████████████████████████▋         | 140/150 [09:42<00:40,  4.05s/it]"
     ]
    },
    {
     "name": "stdout",
     "output_type": "stream",
     "text": [
      "Node features size :torch.Size([1153, 1024])\n",
      "mat size :(1153, 1153)\n"
     ]
    },
    {
     "name": "stderr",
     "output_type": "stream",
     "text": [
      "/Users/souviksinha/miniconda3/envs/py39_2/lib/python3.9/site-packages/Bio/PDB/PDBParser.py:395: PDBConstructionWarning: Ignoring unrecognized record 'END' at line 19604\n",
      "  warnings.warn(\n",
      " 94%|██████████████████████████████████████████████████████████████████████████████████████████████████████████████████████████████████▋        | 141/150 [09:46<00:35,  3.99s/it]"
     ]
    },
    {
     "name": "stdout",
     "output_type": "stream",
     "text": [
      "Node features size :torch.Size([1153, 1024])\n",
      "mat size :(1153, 1153)\n"
     ]
    },
    {
     "name": "stderr",
     "output_type": "stream",
     "text": [
      "/Users/souviksinha/miniconda3/envs/py39_2/lib/python3.9/site-packages/Bio/PDB/PDBParser.py:395: PDBConstructionWarning: Ignoring unrecognized record 'END' at line 19604\n",
      "  warnings.warn(\n",
      " 95%|███████████████████████████████████████████████████████████████████████████████████████████████████████████████████████████████████▌       | 142/150 [09:49<00:30,  3.83s/it]"
     ]
    },
    {
     "name": "stdout",
     "output_type": "stream",
     "text": [
      "Node features size :torch.Size([1153, 1024])\n",
      "mat size :(1153, 1153)\n"
     ]
    },
    {
     "name": "stderr",
     "output_type": "stream",
     "text": [
      "/Users/souviksinha/miniconda3/envs/py39_2/lib/python3.9/site-packages/Bio/PDB/PDBParser.py:395: PDBConstructionWarning: Ignoring unrecognized record 'END' at line 19604\n",
      "  warnings.warn(\n",
      " 95%|████████████████████████████████████████████████████████████████████████████████████████████████████████████████████████████████████▌      | 143/150 [09:53<00:26,  3.85s/it]"
     ]
    },
    {
     "name": "stdout",
     "output_type": "stream",
     "text": [
      "Node features size :torch.Size([1153, 1024])\n",
      "mat size :(1153, 1153)\n"
     ]
    },
    {
     "name": "stderr",
     "output_type": "stream",
     "text": [
      "/Users/souviksinha/miniconda3/envs/py39_2/lib/python3.9/site-packages/Bio/PDB/PDBParser.py:395: PDBConstructionWarning: Ignoring unrecognized record 'END' at line 19604\n",
      "  warnings.warn(\n",
      " 96%|█████████████████████████████████████████████████████████████████████████████████████████████████████████████████████████████████████▍     | 144/150 [09:58<00:23,  3.97s/it]"
     ]
    },
    {
     "name": "stdout",
     "output_type": "stream",
     "text": [
      "Node features size :torch.Size([1153, 1024])\n",
      "mat size :(1153, 1153)\n"
     ]
    },
    {
     "name": "stderr",
     "output_type": "stream",
     "text": [
      "/Users/souviksinha/miniconda3/envs/py39_2/lib/python3.9/site-packages/Bio/PDB/PDBParser.py:395: PDBConstructionWarning: Ignoring unrecognized record 'END' at line 19604\n",
      "  warnings.warn(\n",
      " 97%|██████████████████████████████████████████████████████████████████████████████████████████████████████████████████████████████████████▎    | 145/150 [10:01<00:19,  3.92s/it]"
     ]
    },
    {
     "name": "stdout",
     "output_type": "stream",
     "text": [
      "Node features size :torch.Size([1153, 1024])\n",
      "mat size :(1153, 1153)\n"
     ]
    },
    {
     "name": "stderr",
     "output_type": "stream",
     "text": [
      "/Users/souviksinha/miniconda3/envs/py39_2/lib/python3.9/site-packages/Bio/PDB/PDBParser.py:395: PDBConstructionWarning: Ignoring unrecognized record 'END' at line 19604\n",
      "  warnings.warn(\n",
      " 97%|███████████████████████████████████████████████████████████████████████████████████████████████████████████████████████████████████████▎   | 146/150 [10:06<00:15,  3.99s/it]"
     ]
    },
    {
     "name": "stdout",
     "output_type": "stream",
     "text": [
      "Node features size :torch.Size([1153, 1024])\n",
      "mat size :(1153, 1153)\n"
     ]
    },
    {
     "name": "stderr",
     "output_type": "stream",
     "text": [
      "/Users/souviksinha/miniconda3/envs/py39_2/lib/python3.9/site-packages/Bio/PDB/PDBParser.py:395: PDBConstructionWarning: Ignoring unrecognized record 'END' at line 19604\n",
      "  warnings.warn(\n",
      " 98%|████████████████████████████████████████████████████████████████████████████████████████████████████████████████████████████████████████▏  | 147/150 [10:09<00:11,  3.91s/it]"
     ]
    },
    {
     "name": "stdout",
     "output_type": "stream",
     "text": [
      "Node features size :torch.Size([1153, 1024])\n",
      "mat size :(1153, 1153)\n"
     ]
    },
    {
     "name": "stderr",
     "output_type": "stream",
     "text": [
      "/Users/souviksinha/miniconda3/envs/py39_2/lib/python3.9/site-packages/Bio/PDB/PDBParser.py:395: PDBConstructionWarning: Ignoring unrecognized record 'END' at line 19604\n",
      "  warnings.warn(\n",
      " 99%|█████████████████████████████████████████████████████████████████████████████████████████████████████████████████████████████████████████▏ | 148/150 [10:13<00:07,  3.82s/it]"
     ]
    },
    {
     "name": "stdout",
     "output_type": "stream",
     "text": [
      "Node features size :torch.Size([1153, 1024])\n",
      "mat size :(1153, 1153)\n"
     ]
    },
    {
     "name": "stderr",
     "output_type": "stream",
     "text": [
      "/Users/souviksinha/miniconda3/envs/py39_2/lib/python3.9/site-packages/Bio/PDB/PDBParser.py:395: PDBConstructionWarning: Ignoring unrecognized record 'END' at line 19604\n",
      "  warnings.warn(\n",
      " 99%|██████████████████████████████████████████████████████████████████████████████████████████████████████████████████████████████████████████ | 149/150 [10:16<00:03,  3.74s/it]"
     ]
    },
    {
     "name": "stdout",
     "output_type": "stream",
     "text": [
      "Node features size :torch.Size([1153, 1024])\n",
      "mat size :(1153, 1153)\n"
     ]
    },
    {
     "name": "stderr",
     "output_type": "stream",
     "text": [
      "/Users/souviksinha/miniconda3/envs/py39_2/lib/python3.9/site-packages/Bio/PDB/PDBParser.py:395: PDBConstructionWarning: Ignoring unrecognized record 'END' at line 19604\n",
      "  warnings.warn(\n",
      "100%|███████████████████████████████████████████████████████████████████████████████████████████████████████████████████████████████████████████| 150/150 [10:20<00:00,  4.13s/it]"
     ]
    },
    {
     "name": "stdout",
     "output_type": "stream",
     "text": [
      "Node features size :torch.Size([1153, 1024])\n",
      "mat size :(1153, 1153)\n",
      "150\n",
      "['tgRNA_frames/raw/tgRNA_frames/raw/frame_122.pdb', 'tgRNA_frames/raw/tgRNA_frames/raw/frame_136.pdb', 'tgRNA_frames/raw/tgRNA_frames/raw/frame_30.pdb', 'tgRNA_frames/raw/tgRNA_frames/raw/frame_24.pdb', 'tgRNA_frames/raw/tgRNA_frames/raw/frame_18.pdb', 'tgRNA_frames/raw/tgRNA_frames/raw/frame_19.pdb', 'tgRNA_frames/raw/tgRNA_frames/raw/frame_25.pdb', 'tgRNA_frames/raw/tgRNA_frames/raw/frame_31.pdb', 'tgRNA_frames/raw/tgRNA_frames/raw/frame_137.pdb', 'tgRNA_frames/raw/tgRNA_frames/raw/frame_123.pdb', 'tgRNA_frames/raw/tgRNA_frames/raw/frame_109.pdb', 'tgRNA_frames/raw/tgRNA_frames/raw/frame_135.pdb', 'tgRNA_frames/raw/tgRNA_frames/raw/frame_121.pdb', 'tgRNA_frames/raw/tgRNA_frames/raw/frame_27.pdb', 'tgRNA_frames/raw/tgRNA_frames/raw/frame_33.pdb', 'tgRNA_frames/raw/tgRNA_frames/raw/frame_32.pdb', 'tgRNA_frames/raw/tgRNA_frames/raw/frame_26.pdb', 'tgRNA_frames/raw/tgRNA_frames/raw/frame_120.pdb', 'tgRNA_frames/raw/tgRNA_frames/raw/frame_134.pdb', 'tgRNA_frames/raw/tgRNA_frames/raw/frame_108.pdb', 'tgRNA_frames/raw/tgRNA_frames/raw/frame_130.pdb', 'tgRNA_frames/raw/tgRNA_frames/raw/frame_124.pdb', 'tgRNA_frames/raw/tgRNA_frames/raw/frame_118.pdb', 'tgRNA_frames/raw/tgRNA_frames/raw/frame_22.pdb', 'tgRNA_frames/raw/tgRNA_frames/raw/frame_36.pdb', 'tgRNA_frames/raw/tgRNA_frames/raw/frame_37.pdb', 'tgRNA_frames/raw/tgRNA_frames/raw/frame_23.pdb', 'tgRNA_frames/raw/tgRNA_frames/raw/frame_119.pdb', 'tgRNA_frames/raw/tgRNA_frames/raw/frame_125.pdb', 'tgRNA_frames/raw/tgRNA_frames/raw/frame_131.pdb', 'tgRNA_frames/raw/tgRNA_frames/raw/frame_9.pdb', 'tgRNA_frames/raw/tgRNA_frames/raw/frame_127.pdb', 'tgRNA_frames/raw/tgRNA_frames/raw/frame_133.pdb', 'tgRNA_frames/raw/tgRNA_frames/raw/frame_35.pdb', 'tgRNA_frames/raw/tgRNA_frames/raw/frame_21.pdb', 'tgRNA_frames/raw/tgRNA_frames/raw/frame_20.pdb', 'tgRNA_frames/raw/tgRNA_frames/raw/frame_34.pdb', 'tgRNA_frames/raw/tgRNA_frames/raw/frame_132.pdb', 'tgRNA_frames/raw/tgRNA_frames/raw/frame_126.pdb', 'tgRNA_frames/raw/tgRNA_frames/raw/frame_8.pdb', 'tgRNA_frames/raw/tgRNA_frames/raw/frame_141.pdb', 'tgRNA_frames/raw/tgRNA_frames/raw/frame_90.pdb', 'tgRNA_frames/raw/tgRNA_frames/raw/frame_84.pdb', 'tgRNA_frames/raw/tgRNA_frames/raw/frame_53.pdb', 'tgRNA_frames/raw/tgRNA_frames/raw/frame_47.pdb', 'tgRNA_frames/raw/tgRNA_frames/raw/frame_46.pdb', 'tgRNA_frames/raw/tgRNA_frames/raw/frame_52.pdb', 'tgRNA_frames/raw/tgRNA_frames/raw/frame_85.pdb', 'tgRNA_frames/raw/tgRNA_frames/raw/frame_91.pdb', 'tgRNA_frames/raw/tgRNA_frames/raw/frame_140.pdb', 'tgRNA_frames/raw/tgRNA_frames/raw/frame_142.pdb', 'tgRNA_frames/raw/tgRNA_frames/raw/frame_87.pdb', 'tgRNA_frames/raw/tgRNA_frames/raw/frame_93.pdb', 'tgRNA_frames/raw/tgRNA_frames/raw/frame_44.pdb', 'tgRNA_frames/raw/tgRNA_frames/raw/frame_50.pdb', 'tgRNA_frames/raw/tgRNA_frames/raw/frame_78.pdb', 'tgRNA_frames/raw/tgRNA_frames/raw/frame_79.pdb', 'tgRNA_frames/raw/tgRNA_frames/raw/frame_51.pdb', 'tgRNA_frames/raw/tgRNA_frames/raw/frame_45.pdb', 'tgRNA_frames/raw/tgRNA_frames/raw/frame_92.pdb', 'tgRNA_frames/raw/tgRNA_frames/raw/frame_86.pdb', 'tgRNA_frames/raw/tgRNA_frames/raw/frame_143.pdb', 'tgRNA_frames/raw/tgRNA_frames/raw/frame_147.pdb', 'tgRNA_frames/raw/tgRNA_frames/raw/frame_82.pdb', 'tgRNA_frames/raw/tgRNA_frames/raw/frame_96.pdb', 'tgRNA_frames/raw/tgRNA_frames/raw/frame_69.pdb', 'tgRNA_frames/raw/tgRNA_frames/raw/frame_41.pdb', 'tgRNA_frames/raw/tgRNA_frames/raw/frame_55.pdb', 'tgRNA_frames/raw/tgRNA_frames/raw/frame_54.pdb', 'tgRNA_frames/raw/tgRNA_frames/raw/frame_40.pdb', 'tgRNA_frames/raw/tgRNA_frames/raw/frame_68.pdb', 'tgRNA_frames/raw/tgRNA_frames/raw/frame_97.pdb', 'tgRNA_frames/raw/tgRNA_frames/raw/frame_83.pdb', 'tgRNA_frames/raw/tgRNA_frames/raw/frame_146.pdb', 'tgRNA_frames/raw/tgRNA_frames/raw/frame_144.pdb', 'tgRNA_frames/raw/tgRNA_frames/raw/frame_95.pdb', 'tgRNA_frames/raw/tgRNA_frames/raw/frame_81.pdb', 'tgRNA_frames/raw/tgRNA_frames/raw/frame_56.pdb', 'tgRNA_frames/raw/tgRNA_frames/raw/frame_42.pdb', 'tgRNA_frames/raw/tgRNA_frames/raw/frame_43.pdb', 'tgRNA_frames/raw/tgRNA_frames/raw/frame_57.pdb', 'tgRNA_frames/raw/tgRNA_frames/raw/frame_80.pdb', 'tgRNA_frames/raw/tgRNA_frames/raw/frame_94.pdb', 'tgRNA_frames/raw/tgRNA_frames/raw/frame_145.pdb', 'tgRNA_frames/raw/tgRNA_frames/raw/frame_148.pdb', 'tgRNA_frames/raw/tgRNA_frames/raw/frame_99.pdb', 'tgRNA_frames/raw/tgRNA_frames/raw/frame_72.pdb', 'tgRNA_frames/raw/tgRNA_frames/raw/frame_66.pdb', 'tgRNA_frames/raw/tgRNA_frames/raw/frame_67.pdb', 'tgRNA_frames/raw/tgRNA_frames/raw/frame_73.pdb', 'tgRNA_frames/raw/tgRNA_frames/raw/frame_98.pdb', 'tgRNA_frames/raw/tgRNA_frames/raw/frame_149.pdb', 'tgRNA_frames/raw/tgRNA_frames/raw/frame_65.pdb', 'tgRNA_frames/raw/tgRNA_frames/raw/frame_71.pdb', 'tgRNA_frames/raw/tgRNA_frames/raw/frame_59.pdb', 'tgRNA_frames/raw/tgRNA_frames/raw/frame_58.pdb', 'tgRNA_frames/raw/tgRNA_frames/raw/frame_70.pdb', 'tgRNA_frames/raw/tgRNA_frames/raw/frame_64.pdb', 'tgRNA_frames/raw/tgRNA_frames/raw/frame_48.pdb', 'tgRNA_frames/raw/tgRNA_frames/raw/frame_60.pdb', 'tgRNA_frames/raw/tgRNA_frames/raw/frame_74.pdb', 'tgRNA_frames/raw/tgRNA_frames/raw/frame_75.pdb', 'tgRNA_frames/raw/tgRNA_frames/raw/frame_61.pdb', 'tgRNA_frames/raw/tgRNA_frames/raw/frame_49.pdb', 'tgRNA_frames/raw/tgRNA_frames/raw/frame_88.pdb', 'tgRNA_frames/raw/tgRNA_frames/raw/frame_77.pdb', 'tgRNA_frames/raw/tgRNA_frames/raw/frame_63.pdb', 'tgRNA_frames/raw/tgRNA_frames/raw/frame_62.pdb', 'tgRNA_frames/raw/tgRNA_frames/raw/frame_76.pdb', 'tgRNA_frames/raw/tgRNA_frames/raw/frame_89.pdb', 'tgRNA_frames/raw/tgRNA_frames/raw/frame_5.pdb', 'tgRNA_frames/raw/tgRNA_frames/raw/frame_103.pdb', 'tgRNA_frames/raw/tgRNA_frames/raw/frame_117.pdb', 'tgRNA_frames/raw/tgRNA_frames/raw/frame_11.pdb', 'tgRNA_frames/raw/tgRNA_frames/raw/frame_39.pdb', 'tgRNA_frames/raw/tgRNA_frames/raw/frame_38.pdb', 'tgRNA_frames/raw/tgRNA_frames/raw/frame_10.pdb', 'tgRNA_frames/raw/tgRNA_frames/raw/frame_116.pdb', 'tgRNA_frames/raw/tgRNA_frames/raw/frame_102.pdb', 'tgRNA_frames/raw/tgRNA_frames/raw/frame_4.pdb', 'tgRNA_frames/raw/tgRNA_frames/raw/frame_6.pdb', 'tgRNA_frames/raw/tgRNA_frames/raw/frame_128.pdb', 'tgRNA_frames/raw/tgRNA_frames/raw/frame_114.pdb', 'tgRNA_frames/raw/tgRNA_frames/raw/frame_100.pdb', 'tgRNA_frames/raw/tgRNA_frames/raw/frame_12.pdb', 'tgRNA_frames/raw/tgRNA_frames/raw/frame_13.pdb', 'tgRNA_frames/raw/tgRNA_frames/raw/frame_101.pdb', 'tgRNA_frames/raw/tgRNA_frames/raw/frame_115.pdb', 'tgRNA_frames/raw/tgRNA_frames/raw/frame_129.pdb', 'tgRNA_frames/raw/tgRNA_frames/raw/frame_7.pdb', 'tgRNA_frames/raw/tgRNA_frames/raw/frame_3.pdb', 'tgRNA_frames/raw/tgRNA_frames/raw/frame_111.pdb', 'tgRNA_frames/raw/tgRNA_frames/raw/frame_105.pdb', 'tgRNA_frames/raw/tgRNA_frames/raw/frame_139.pdb', 'tgRNA_frames/raw/tgRNA_frames/raw/frame_17.pdb', 'tgRNA_frames/raw/tgRNA_frames/raw/frame_16.pdb', 'tgRNA_frames/raw/tgRNA_frames/raw/frame_138.pdb', 'tgRNA_frames/raw/tgRNA_frames/raw/frame_104.pdb', 'tgRNA_frames/raw/tgRNA_frames/raw/frame_110.pdb', 'tgRNA_frames/raw/tgRNA_frames/raw/frame_2.pdb', 'tgRNA_frames/raw/tgRNA_frames/raw/frame_0.pdb', 'tgRNA_frames/raw/tgRNA_frames/raw/frame_106.pdb', 'tgRNA_frames/raw/tgRNA_frames/raw/frame_112.pdb', 'tgRNA_frames/raw/tgRNA_frames/raw/frame_28.pdb', 'tgRNA_frames/raw/tgRNA_frames/raw/frame_14.pdb', 'tgRNA_frames/raw/tgRNA_frames/raw/frame_15.pdb', 'tgRNA_frames/raw/tgRNA_frames/raw/frame_29.pdb', 'tgRNA_frames/raw/tgRNA_frames/raw/frame_113.pdb', 'tgRNA_frames/raw/tgRNA_frames/raw/frame_107.pdb', 'tgRNA_frames/raw/tgRNA_frames/raw/frame_1.pdb']\n"
     ]
    },
    {
     "name": "stderr",
     "output_type": "stream",
     "text": [
      "\n"
     ]
    }
   ],
   "source": [
    "# prot_graphs = ProteinDataset(root=\"crRNA_frames/\")\n",
    "prot_graphs = ProteinDataset(root=\"tgRNA_frames/\")"
   ]
  },
  {
   "cell_type": "code",
   "execution_count": 84,
   "metadata": {},
   "outputs": [
    {
     "name": "stdout",
     "output_type": "stream",
     "text": [
      "(22217, 7)\n"
     ]
    }
   ],
   "source": [
    "npy_ar = np.load('../human_features/npy_file_new(human_dataset).npy')\n",
    "print(npy_ar.shape)"
   ]
  },
  {
   "cell_type": "code",
   "execution_count": 87,
   "metadata": {},
   "outputs": [
    {
     "name": "stdout",
     "output_type": "stream",
     "text": [
      "['1D0G' '1KSG' '1RV1' '2K45' '2WH0' '2DO4' '1KHU' '6F3T' '1MX3' '2DMQ'] ['1F2H' '1X3S' '1NB8' '1M2Z' '2KY5' '1E3G' '1ABN' '2AGH' '2GPO' '1DEV'] ['1' '1' '1' '1' '1' '1' '1' '1' '1' '1']\n"
     ]
    }
   ],
   "source": [
    "print(npy_ar[100:110, 2], npy_ar[100:110, 5], npy_ar[100:110, 6])"
   ]
  },
  {
   "cell_type": "code",
   "execution_count": 128,
   "metadata": {},
   "outputs": [],
   "source": [
    "# print(trainset.indices)\n",
    "# trainloader = DataLoader(dataset=trainset, batch_size=64, num_workers=0)\n",
    "# print(trainloader.batch_size)\n",
    "# for batch in trainloader:\n",
    "# #     print('a')\n",
    "#     data, labels = batch\n",
    "#     print(labels)"
   ]
  },
  {
   "cell_type": "code",
   "execution_count": 5,
   "metadata": {},
   "outputs": [
    {
     "name": "stdout",
     "output_type": "stream",
     "text": [
      "Size is: 301\n",
      "240 61\n"
     ]
    },
    {
     "name": "stderr",
     "output_type": "stream",
     "text": [
      "/Users/souviksinha/miniconda3/envs/py39_2/lib/python3.9/site-packages/torch_geometric/deprecation.py:26: UserWarning: 'data.DataLoader' is deprecated, use 'loader.DataLoader' instead\n",
      "  warnings.warn(out)\n"
     ]
    },
    {
     "name": "stdout",
     "output_type": "stream",
     "text": [
      "Step 1:\n",
      "=======\n",
      "Number of graphs in the current batch: 32\n",
      "Node feature shape: torch.Size([36896, 1024])\n",
      "Edge index shape: torch.Size([2, 465452])\n",
      "Batch tensor: tensor([ 0,  0,  0,  ..., 31, 31, 31])\n",
      "Label tensor: tensor([0., 1., 1., 1., 1., 0., 1., 0., 1., 1., 0., 1., 1., 1., 0., 1., 1., 1.,\n",
      "        0., 0., 1., 0., 0., 1., 1., 0., 1., 0., 0., 0., 1., 0.])\n",
      "DataBatch(x=[36896, 1024], edge_index=[2, 465452], y=[32], batch=[36896], ptr=[33])\n",
      "\n"
     ]
    }
   ],
   "source": [
    "import os\n",
    "import glob\n",
    "import torch\n",
    "from torch.utils.data import Dataset\n",
    "from torch_geometric.data import DataLoader, Data\n",
    "\n",
    "class ManuallyLabelledDataset(Dataset):\n",
    "    def __init__(self, label0_dir, label1_dir):\n",
    "        self.label0_files = glob.glob(os.path.join(label0_dir, \"*.pt\"))\n",
    "        self.label1_files = glob.glob(os.path.join(label1_dir, \"*.pt\"))\n",
    "\n",
    "        self.files = self.label0_files + self.label1_files\n",
    "        self.labels = [0] * len(self.label0_files) + [1] * len(self.label1_files)\n",
    "\n",
    "    def __len__(self):\n",
    "        return len(self.files)\n",
    "\n",
    "    def __getitem__(self, idx):\n",
    "        file_path = self.files[idx]\n",
    "        label = self.labels[idx]\n",
    "        \n",
    "        data = torch.load(file_path)\n",
    "        data.y = torch.tensor([label], dtype=torch.float32)\n",
    "        \n",
    "        return data\n",
    "\n",
    "# Define paths to the directories\n",
    "label0_dir = \"crRNA_frames/processed\"\n",
    "label1_dir = \"tgRNA_frames/processed\"\n",
    "\n",
    "# Create dataset instance\n",
    "dataset = ManuallyLabelledDataset(label0_dir=label0_dir, label1_dir=label1_dir)\n",
    "\n",
    "# Split into training and testing sets\n",
    "print(\"Size is:\", len(dataset))\n",
    "\n",
    "train_size = int(0.8 * len(dataset))\n",
    "test_size = len(dataset) - train_size\n",
    "print(train_size, test_size)\n",
    "\n",
    "trainset, testset = torch.utils.data.random_split(dataset, [train_size, test_size])\n",
    "\n",
    "# Create DataLoader\n",
    "trainloader = DataLoader(dataset=trainset, batch_size=32, shuffle=True)\n",
    "testloader = DataLoader(dataset=testset, batch_size=32, shuffle=False)\n",
    "\n",
    "# Verify the batched data\n",
    "for step, batch in enumerate(trainloader):\n",
    "    print(f'Step {step + 1}:')\n",
    "    print('=======')\n",
    "    print(f'Number of graphs in the current batch: {batch.num_graphs}')\n",
    "    print(f'Node feature shape: {batch.x.shape}')\n",
    "    print(f'Edge index shape: {batch.edge_index.shape}')\n",
    "    print(f'Batch tensor: {batch.batch}') \n",
    "    print(f'Label tensor: {batch.y}')\n",
    "    print(batch)\n",
    "    print()\n",
    "    break  # Remove this if you want to see all batches\n"
   ]
  },
  {
   "cell_type": "markdown",
   "metadata": {},
   "source": [
    "1. Node feature shape: torch.Size([11530, 1024])\n",
    "The node features for all nodes in the batch (10*1153), with each node having 1024 features. The first dimension (11530) represents the total number of nodes across all graphs in the batch.\n",
    "2. Batch tensor: tensor([0, 0, 0,  ..., 9, 9, 9])\n",
    "The batch tensor is a 1-dimensional tensor where each element indicates the graph index for the corresponding node.\n",
    "3. Edge index shape: torch.Size([2, 145596])\n",
    "The edge indices for all edges in the batch. The first dimension (2) is because edges are represented as pairs of node indices (source and target). The second dimension (145734) is the total number of edges in the batch."
   ]
  },
  {
   "cell_type": "code",
   "execution_count": 6,
   "metadata": {},
   "outputs": [
    {
     "name": "stdout",
     "output_type": "stream",
     "text": [
      "301\n",
      "8\n",
      "2\n",
      "iteration:61\n"
     ]
    }
   ],
   "source": [
    "print(len(dataset))\n",
    "print(len(trainloader))\n",
    "print(len(testloader))\n",
    "\n",
    "total_samples = len(dataset)\n",
    "n_iterations = math.ceil(total_samples/5)\n",
    "print(f'iteration:{n_iterations}')"
   ]
  },
  {
   "cell_type": "code",
   "execution_count": 7,
   "metadata": {},
   "outputs": [
    {
     "name": "stdout",
     "output_type": "stream",
     "text": [
      "GCN(\n",
      "  (conv1): GCNConv(1024, 1024)\n",
      "  (conv2): GCNConv(1024, 256)\n",
      "  (fc1): Linear(in_features=256, out_features=128, bias=True)\n",
      "  (fc2): Linear(in_features=128, out_features=64, bias=True)\n",
      "  (out): Linear(in_features=64, out_features=2, bias=True)\n",
      "  (relu): LeakyReLU(negative_slope=0.01)\n",
      "  (dropout): Dropout(p=0.2, inplace=False)\n",
      ")\n"
     ]
    }
   ],
   "source": [
    "from torch.nn import Linear\n",
    "import torch.nn.functional as F\n",
    "from torch_geometric.nn import GCNConv\n",
    "from torch_geometric.nn import global_mean_pool\n",
    "\n",
    "\n",
    "class GCN(torch.nn.Module):\n",
    "    def __init__(self, num_features_pro, hidden_channels, num_classes):\n",
    "        super(GCN, self).__init__()\n",
    "#         torch.manual_seed(12345)\n",
    "#         self.conv1 = GCNConv(num_features_pro, hidden_channels)\n",
    "        self.conv1 = GCNConv(num_features_pro, num_features_pro)\n",
    "#         self.conv2 = GCNConv(hidden_channels, hidden_channels)\n",
    "        self.conv2 = GCNConv(num_features_pro, hidden_channels)\n",
    "        self.fc1 = Linear(hidden_channels, 128)\n",
    "        \n",
    "        self.fc2 = Linear(128, 64)\n",
    "        self.out = Linear(64, num_classes)\n",
    "        self.relu = torch.nn.LeakyReLU()\n",
    "        self.dropout = torch.nn.Dropout(0.2)\n",
    "\n",
    "    def forward(self, x, edge_index, batch):\n",
    "        # 1. Obtain node embeddings \n",
    "        x = self.conv1(x, edge_index)\n",
    "        x = x.relu()\n",
    "        x = self.conv2(x, edge_index)\n",
    "        x = x.relu()\n",
    "#         x = self.conv3(x, edge_index)\n",
    "\n",
    "        # 2. Readout layer\n",
    "        x = global_mean_pool(x, batch)  # [batch_size, hidden_channels]\n",
    "\n",
    "        # flatten\n",
    "        x = self.relu(self.fc1(x))\n",
    "        x = self.dropout(x)\n",
    "        \n",
    "        # add some dense layers\n",
    "        x = self.fc2(x)\n",
    "        x = self.relu(x)\n",
    "        x = self.dropout(x)\n",
    "        \n",
    "        x = self.out(x)\n",
    "\n",
    "        # 3. Apply a final classifier\n",
    "#         x = F.dropout(x, p=0.5, training=self.training)\n",
    "#         x = self.lin(x)\n",
    "        \n",
    "        return x\n",
    "\n",
    "model = GCN(num_features_pro=1024, hidden_channels=256, num_classes=2)\n",
    "print(model)\n",
    "\n"
   ]
  },
  {
   "cell_type": "code",
   "execution_count": 8,
   "metadata": {},
   "outputs": [
    {
     "data": {
      "text/plain": [
       "<All keys matched successfully>"
      ]
     },
     "execution_count": 8,
     "metadata": {},
     "output_type": "execute_result"
    }
   ],
   "source": [
    "model.load_state_dict(torch.load('best_model.pt'))"
   ]
  },
  {
   "cell_type": "code",
   "execution_count": 62,
   "metadata": {},
   "outputs": [
    {
     "name": "stdout",
     "output_type": "stream",
     "text": [
      "Epoch 1  [==============================] - train_loss : 0.7156450152397156\n",
      "Epoch: 001, Train Acc: 0.5125, Test Acc: 0.4426\n",
      "Epoch 2  [==============================] - train_loss : 0.6989957094192505\n",
      "Epoch: 002, Train Acc: 0.5125, Test Acc: 0.4426\n",
      "Epoch 3  [==============================] - train_loss : 0.6917089819908142\n",
      "Epoch: 003, Train Acc: 0.5125, Test Acc: 0.4426\n",
      "Epoch 4  [==============================] - train_loss : 0.34015515446662903\n",
      "Epoch: 004, Train Acc: 0.7750, Test Acc: 0.7377\n",
      "Epoch 5  [==============================] - train_loss : 0.1958349049091339\n",
      "Epoch: 005, Train Acc: 0.9875, Test Acc: 0.9672\n",
      "Epoch 6  [==============================] - train_loss : 0.017548970878124237\n",
      "Epoch: 006, Train Acc: 0.9583, Test Acc: 0.9508\n",
      "Epoch 7  [==============================] - train_loss : 0.004489968065172434\n",
      "Epoch: 007, Train Acc: 1.0000, Test Acc: 1.0000\n",
      "Epoch 8  [==============================] - train_loss : 0.006075399927794933\n",
      "Epoch: 008, Train Acc: 1.0000, Test Acc: 1.0000\n",
      "Epoch 9  [==============================] - train_loss : 0.001650988357141614\n",
      "Epoch: 009, Train Acc: 1.0000, Test Acc: 0.9672\n"
     ]
    }
   ],
   "source": [
    "optimizer =  torch.optim.Adam(model.parameters(), lr= 0.01)\n",
    "criterion = torch.nn.CrossEntropyLoss()\n",
    "\n",
    "def train(epoch):\n",
    "    model.train()\n",
    "    scheduler = MultiStepLR(optimizer, milestones=[5,8], gamma=0.5)\n",
    "\n",
    "    for data in trainloader:  # Iterate in batches over the training dataset.\n",
    "        out = model(data.x, data.edge_index, data.batch)  # Perform a single forward pass.\n",
    "#         print(out)\n",
    "        label = data.y.long().to(device)\n",
    "        loss = criterion(out, label)  # Compute the loss.\n",
    "        loss.backward()  # Derive gradients.\n",
    "        optimizer.step()  # Update parameters based on gradients.\n",
    "        optimizer.zero_grad()  # Clear gradients.\n",
    "    scheduler.step()\n",
    "    print(f'Epoch {epoch}  [==============================] - train_loss : {loss}')\n",
    "        \n",
    "            \n",
    "def test(loader):\n",
    "        model.eval()\n",
    "\n",
    "        correct = 0\n",
    "        for data in loader:  # Iterate in batches over the training/test dataset.\n",
    "            out = model(data.x, data.edge_index, data.batch)  \n",
    "            pred = out.argmax(dim=1)  # Use the class with highest probability.\n",
    "            correct += int((pred == data.y).sum())  # Check against ground-truth labels.\n",
    "        return correct / len(loader.dataset)  # Derive ratio of correct predictions.\n",
    "\n",
    "\n",
    "for epoch in range(1, 10):\n",
    "    train(epoch)\n",
    "    train_acc = test(trainloader)\n",
    "    test_acc = test(testloader)\n",
    "    print(f'Epoch: {epoch:03d}, Train Acc: {train_acc:.4f}, Test Acc: {test_acc:.4f}')"
   ]
  },
  {
   "cell_type": "code",
   "execution_count": 64,
   "metadata": {},
   "outputs": [
    {
     "name": "stdout",
     "output_type": "stream",
     "text": [
      "Epoch 1  [==============================] - train_loss : 0.4758\n",
      "Epoch: 001, Train Acc: 0.8792, Test Acc: 0.8361\n",
      "Precision: Train: 0.8092, Test: 0.7297\n",
      "Recall: Train: 1.0000, Test: 1.0000\n",
      "F1-Score: Train: 0.8945, Test: 0.8437\n",
      "ROC-AUC: Train: 0.8761, Test: 0.8529\n",
      "Epoch 2  [==============================] - train_loss : 0.3249\n",
      "Epoch: 002, Train Acc: 0.9833, Test Acc: 1.0000\n",
      "Precision: Train: 1.0000, Test: 1.0000\n",
      "Recall: Train: 0.9675, Test: 1.0000\n",
      "F1-Score: Train: 0.9835, Test: 1.0000\n",
      "ROC-AUC: Train: 0.9837, Test: 1.0000\n",
      "Epoch 3  [==============================] - train_loss : 0.0787\n",
      "Epoch: 003, Train Acc: 1.0000, Test Acc: 0.9836\n",
      "Precision: Train: 1.0000, Test: 0.9643\n",
      "Recall: Train: 1.0000, Test: 1.0000\n",
      "F1-Score: Train: 1.0000, Test: 0.9818\n",
      "ROC-AUC: Train: 1.0000, Test: 0.9853\n",
      "Epoch 4  [==============================] - train_loss : 0.0642\n",
      "Epoch: 004, Train Acc: 0.9875, Test Acc: 0.9672\n",
      "Precision: Train: 0.9762, Test: 0.9310\n",
      "Recall: Train: 1.0000, Test: 1.0000\n",
      "F1-Score: Train: 0.9880, Test: 0.9643\n",
      "ROC-AUC: Train: 0.9872, Test: 0.9706\n",
      "Epoch 5  [==============================] - train_loss : 0.0068\n",
      "Epoch: 005, Train Acc: 1.0000, Test Acc: 1.0000\n",
      "Precision: Train: 1.0000, Test: 1.0000\n",
      "Recall: Train: 1.0000, Test: 1.0000\n",
      "F1-Score: Train: 1.0000, Test: 1.0000\n",
      "ROC-AUC: Train: 1.0000, Test: 1.0000\n",
      "Epoch 6  [==============================] - train_loss : 0.0087\n",
      "Epoch: 006, Train Acc: 1.0000, Test Acc: 1.0000\n",
      "Precision: Train: 1.0000, Test: 1.0000\n",
      "Recall: Train: 1.0000, Test: 1.0000\n",
      "F1-Score: Train: 1.0000, Test: 1.0000\n",
      "ROC-AUC: Train: 1.0000, Test: 1.0000\n",
      "Early stopping!\n"
     ]
    }
   ],
   "source": [
    "import torch\n",
    "from torch.optim.lr_scheduler import MultiStepLR\n",
    "from torch_geometric.data import DataLoader\n",
    "from sklearn.metrics import accuracy_score, precision_score, recall_score, f1_score, roc_auc_score\n",
    "\n",
    "# Define optimizer and loss function\n",
    "optimizer = torch.optim.Adam(model.parameters(), lr=0.01)\n",
    "criterion = torch.nn.CrossEntropyLoss()\n",
    "\n",
    "# Early stopping parameters\n",
    "patience = 4\n",
    "best_test_acc = 0\n",
    "epochs_no_improve = 0\n",
    "early_stop = False\n",
    "\n",
    "def train(epoch):\n",
    "    model.train()\n",
    "    scheduler = MultiStepLR(optimizer, milestones=[6, 9], gamma=0.5)\n",
    "\n",
    "    total_loss = 0\n",
    "    for data in trainloader:  # Iterate in batches over the training dataset.\n",
    "        data = data.to(device)\n",
    "        out = model(data.x, data.edge_index, data.batch)  # Perform a single forward pass.\n",
    "        \n",
    "        # Assuming the model output is of shape [batch_size, 2]\n",
    "        label = data.y.long().to(device)  # Ensure labels are of type long\n",
    "        loss = criterion(out, label)  # Compute the loss.\n",
    "        loss.backward()  # Derive gradients.\n",
    "        optimizer.step()  # Update parameters based on gradients.\n",
    "        optimizer.zero_grad()  # Clear gradients.\n",
    "        total_loss += loss.item()\n",
    "    scheduler.step()\n",
    "    avg_loss = total_loss / len(trainloader)\n",
    "    print(f'Epoch {epoch}  [==============================] - train_loss : {avg_loss:.4f}')\n",
    "\n",
    "def evaluate(loader):\n",
    "    model.eval()\n",
    "    y_true = []\n",
    "    y_pred = []\n",
    "    \n",
    "    with torch.no_grad():\n",
    "        for data in loader:  # Iterate in batches over the dataset.\n",
    "            data = data.to(device)\n",
    "            out = model(data.x, data.edge_index, data.batch)  \n",
    "            \n",
    "            # Use softmax to get probabilities\n",
    "            prob = torch.softmax(out, dim=1)\n",
    "            pred = prob.argmax(dim=1)  # Use the class with highest probability\n",
    "            \n",
    "            y_true.extend(data.y.cpu().numpy())\n",
    "            y_pred.extend(pred.cpu().numpy())\n",
    "    \n",
    "    accuracy = accuracy_score(y_true, y_pred)\n",
    "    precision = precision_score(y_true, y_pred)\n",
    "    recall = recall_score(y_true, y_pred)\n",
    "    f1 = f1_score(y_true, y_pred)\n",
    "    roc_auc = roc_auc_score(y_true, y_pred)\n",
    "    \n",
    "    return accuracy, precision, recall, f1, roc_auc\n",
    "\n",
    "for epoch in range(1, 11):\n",
    "    train(epoch)\n",
    "    train_acc, train_prec, train_recall, train_f1, train_roc_auc = evaluate(trainloader)\n",
    "    test_acc, test_prec, test_recall, test_f1, test_roc_auc = evaluate(testloader)\n",
    "    \n",
    "    print(f'Epoch: {epoch:03d}, Train Acc: {train_acc:.4f}, Test Acc: {test_acc:.4f}')\n",
    "    print(f'Precision: Train: {train_prec:.4f}, Test: {test_prec:.4f}')\n",
    "    print(f'Recall: Train: {train_recall:.4f}, Test: {test_recall:.4f}')\n",
    "    print(f'F1-Score: Train: {train_f1:.4f}, Test: {test_f1:.4f}')\n",
    "    print(f'ROC-AUC: Train: {train_roc_auc:.4f}, Test: {test_roc_auc:.4f}')\n",
    "    \n",
    "    # Early stopping logic\n",
    "    if test_acc > best_test_acc:\n",
    "        best_test_acc = test_acc\n",
    "        epochs_no_improve = 0\n",
    "        torch.save(model.state_dict(), 'best_model.pt')\n",
    "    else:\n",
    "        epochs_no_improve += 1\n",
    "        if epochs_no_improve >= patience:\n",
    "            print('Early stopping!')\n",
    "            early_stop = True\n",
    "            break\n",
    "\n",
    "# Load the best model if early stopping was triggered\n",
    "if early_stop:\n",
    "    model.load_state_dict(torch.load('best_model.pt'))\n"
   ]
  },
  {
   "cell_type": "code",
   "execution_count": 9,
   "metadata": {},
   "outputs": [
    {
     "name": "stdout",
     "output_type": "stream",
     "text": [
      "Edge mask: tensor([0.5622, 0.0000, 0.0000,  ..., 0.0000, 0.0000, 0.0000])\n",
      "Node mask: tensor([[0.2877, 0.1582, 0.2057,  ..., 0.2790, 0.5072, 0.5791],\n",
      "        [0.2774, 0.1326, 0.3810,  ..., 0.2867, 0.6468, 0.2665],\n",
      "        [0.1237, 0.1719, 0.2666,  ..., 0.2111, 0.4880, 0.2504],\n",
      "        ...,\n",
      "        [0.0000, 0.0000, 0.0000,  ..., 0.0000, 0.0000, 0.0000],\n",
      "        [0.0000, 0.0000, 0.0000,  ..., 0.0000, 0.0000, 0.0000],\n",
      "        [0.0000, 0.0000, 0.0000,  ..., 0.0000, 0.0000, 0.0000]])\n"
     ]
    }
   ],
   "source": [
    "from torch_geometric.explain import Explainer, GNNExplainer\n",
    "\n",
    "# Define the explainer\n",
    "explainer_pyg = Explainer(\n",
    "    model=model,\n",
    "    algorithm=GNNExplainer(epochs=200),\n",
    "    explanation_type='model',\n",
    "    node_mask_type='attributes',\n",
    "    edge_mask_type='object',\n",
    "    model_config=dict(\n",
    "        mode='binary_classification',\n",
    "        task_level='graph',\n",
    "        return_type='raw',\n",
    "    ),\n",
    ")\n",
    "\n",
    "# Select a sample from the testset\n",
    "data = testset[0].to(device)\n",
    "\n",
    "# Explain the prediction for this graph\n",
    "explanation = explainer_pyg(data.x, data.edge_index, batch=data.batch)\n",
    "\n",
    "# Print edge mask and node mask\n",
    "print(\"Edge mask:\", explanation.edge_mask)\n",
    "print(\"Node mask:\", explanation.node_mask)\n",
    "\n"
   ]
  },
  {
   "cell_type": "code",
   "execution_count": 10,
   "metadata": {},
   "outputs": [
    {
     "name": "stdout",
     "output_type": "stream",
     "text": [
      "torch.Size([1153, 1024])\n",
      "torch.Size([14476])\n",
      "[tensor(0.7157), tensor(0.7124), tensor(0.7100), tensor(0.7066), tensor(0.7031), tensor(0.7030), tensor(0.7027), tensor(0.7024), tensor(0.6974), tensor(0.6960)]\n"
     ]
    }
   ],
   "source": [
    "print(explanation.node_mask.shape)\n",
    "print(explanation.edge_mask.shape)\n",
    "print(sorted(explanation.edge_mask, reverse=True)[:10])"
   ]
  },
  {
   "cell_type": "markdown",
   "metadata": {
    "jp-MarkdownHeadingCollapsed": true
   },
   "source": [
    "# Running explaination on multiple-graphs and average"
   ]
  },
  {
   "cell_type": "code",
   "execution_count": 145,
   "metadata": {
    "scrolled": true
   },
   "outputs": [
    {
     "ename": "ValueError",
     "evalue": "setting an array element with a sequence. The requested array has an inhomogeneous shape after 1 dimensions. The detected shape was (61,) + inhomogeneous part.",
     "output_type": "error",
     "traceback": [
      "\u001b[0;31m---------------------------------------------------------------------------\u001b[0m",
      "\u001b[0;31mValueError\u001b[0m                                Traceback (most recent call last)",
      "Cell \u001b[0;32mIn[145], line 14\u001b[0m\n\u001b[1;32m     11\u001b[0m     edge_masks\u001b[38;5;241m.\u001b[39mappend(edge_mask\u001b[38;5;241m.\u001b[39mcpu()\u001b[38;5;241m.\u001b[39mdetach()\u001b[38;5;241m.\u001b[39mnumpy())\n\u001b[1;32m     13\u001b[0m \u001b[38;5;66;03m# Compute the average edge mask\u001b[39;00m\n\u001b[0;32m---> 14\u001b[0m average_edge_mask \u001b[38;5;241m=\u001b[39m \u001b[43mnp\u001b[49m\u001b[38;5;241;43m.\u001b[39;49m\u001b[43mmean\u001b[49m\u001b[43m(\u001b[49m\u001b[43medge_masks\u001b[49m\u001b[43m,\u001b[49m\u001b[43m \u001b[49m\u001b[43maxis\u001b[49m\u001b[38;5;241;43m=\u001b[39;49m\u001b[38;5;241;43m0\u001b[39;49m\u001b[43m)\u001b[49m\n",
      "File \u001b[0;32m~/miniconda3/envs/py39_2/lib/python3.9/site-packages/numpy/core/fromnumeric.py:3504\u001b[0m, in \u001b[0;36mmean\u001b[0;34m(a, axis, dtype, out, keepdims, where)\u001b[0m\n\u001b[1;32m   3501\u001b[0m     \u001b[38;5;28;01melse\u001b[39;00m:\n\u001b[1;32m   3502\u001b[0m         \u001b[38;5;28;01mreturn\u001b[39;00m mean(axis\u001b[38;5;241m=\u001b[39maxis, dtype\u001b[38;5;241m=\u001b[39mdtype, out\u001b[38;5;241m=\u001b[39mout, \u001b[38;5;241m*\u001b[39m\u001b[38;5;241m*\u001b[39mkwargs)\n\u001b[0;32m-> 3504\u001b[0m \u001b[38;5;28;01mreturn\u001b[39;00m \u001b[43m_methods\u001b[49m\u001b[38;5;241;43m.\u001b[39;49m\u001b[43m_mean\u001b[49m\u001b[43m(\u001b[49m\u001b[43ma\u001b[49m\u001b[43m,\u001b[49m\u001b[43m \u001b[49m\u001b[43maxis\u001b[49m\u001b[38;5;241;43m=\u001b[39;49m\u001b[43maxis\u001b[49m\u001b[43m,\u001b[49m\u001b[43m \u001b[49m\u001b[43mdtype\u001b[49m\u001b[38;5;241;43m=\u001b[39;49m\u001b[43mdtype\u001b[49m\u001b[43m,\u001b[49m\n\u001b[1;32m   3505\u001b[0m \u001b[43m                      \u001b[49m\u001b[43mout\u001b[49m\u001b[38;5;241;43m=\u001b[39;49m\u001b[43mout\u001b[49m\u001b[43m,\u001b[49m\u001b[43m \u001b[49m\u001b[38;5;241;43m*\u001b[39;49m\u001b[38;5;241;43m*\u001b[39;49m\u001b[43mkwargs\u001b[49m\u001b[43m)\u001b[49m\n",
      "File \u001b[0;32m~/miniconda3/envs/py39_2/lib/python3.9/site-packages/numpy/core/_methods.py:102\u001b[0m, in \u001b[0;36m_mean\u001b[0;34m(a, axis, dtype, out, keepdims, where)\u001b[0m\n\u001b[1;32m    101\u001b[0m \u001b[38;5;28;01mdef\u001b[39;00m \u001b[38;5;21m_mean\u001b[39m(a, axis\u001b[38;5;241m=\u001b[39m\u001b[38;5;28;01mNone\u001b[39;00m, dtype\u001b[38;5;241m=\u001b[39m\u001b[38;5;28;01mNone\u001b[39;00m, out\u001b[38;5;241m=\u001b[39m\u001b[38;5;28;01mNone\u001b[39;00m, keepdims\u001b[38;5;241m=\u001b[39m\u001b[38;5;28;01mFalse\u001b[39;00m, \u001b[38;5;241m*\u001b[39m, where\u001b[38;5;241m=\u001b[39m\u001b[38;5;28;01mTrue\u001b[39;00m):\n\u001b[0;32m--> 102\u001b[0m     arr \u001b[38;5;241m=\u001b[39m \u001b[43masanyarray\u001b[49m\u001b[43m(\u001b[49m\u001b[43ma\u001b[49m\u001b[43m)\u001b[49m\n\u001b[1;32m    104\u001b[0m     is_float16_result \u001b[38;5;241m=\u001b[39m \u001b[38;5;28;01mFalse\u001b[39;00m\n\u001b[1;32m    106\u001b[0m     rcount \u001b[38;5;241m=\u001b[39m _count_reduce_items(arr, axis, keepdims\u001b[38;5;241m=\u001b[39mkeepdims, where\u001b[38;5;241m=\u001b[39mwhere)\n",
      "\u001b[0;31mValueError\u001b[0m: setting an array element with a sequence. The requested array has an inhomogeneous shape after 1 dimensions. The detected shape was (61,) + inhomogeneous part."
     ]
    }
   ],
   "source": [
    "# Function to explain a single graph\n",
    "def explain_graph(data):\n",
    "    explanation = explainer_pyg(data.x, data.edge_index, batch=data.batch)\n",
    "    return explanation.edge_mask\n",
    "\n",
    "# Collect explanations for multiple graphs\n",
    "edge_masks = []\n",
    "for data in testset:\n",
    "    data = data.to(device)\n",
    "    edge_mask = explain_graph(data)\n",
    "    edge_masks.append(edge_mask.cpu().detach().numpy())\n",
    "\n",
    "# Compute the average edge mask\n",
    "average_edge_mask = np.mean(edge_masks, axis=0)"
   ]
  },
  {
   "cell_type": "code",
   "execution_count": 158,
   "metadata": {},
   "outputs": [
    {
     "name": "stdout",
     "output_type": "stream",
     "text": [
      "14684\n",
      "(14576,)\n",
      "(14526,)\n",
      "(14566,)\n",
      "(14432,)\n",
      "(14660,)\n",
      "(14484,)\n",
      "(14512,)\n",
      "(14634,)\n",
      "(14572,)\n",
      "(14578,)\n",
      "(14450,)\n",
      "(14470,)\n",
      "(14588,)\n",
      "(14376,)\n",
      "(14652,)\n",
      "(14582,)\n",
      "(14500,)\n",
      "(14580,)\n",
      "(14440,)\n",
      "(14668,)\n",
      "(14614,)\n",
      "(14588,)\n",
      "(14536,)\n",
      "(14506,)\n",
      "(14624,)\n",
      "(14460,)\n",
      "(14458,)\n",
      "(14380,)\n",
      "(14456,)\n",
      "(14592,)\n",
      "(14662,)\n",
      "(14652,)\n",
      "(14552,)\n",
      "(14456,)\n",
      "(14526,)\n",
      "(14524,)\n",
      "(14434,)\n",
      "(14426,)\n",
      "(14530,)\n",
      "(14398,)\n",
      "(14564,)\n",
      "(14598,)\n",
      "(14536,)\n",
      "(14716,)\n",
      "(14542,)\n",
      "(14624,)\n",
      "(14542,)\n",
      "(14614,)\n",
      "(14552,)\n",
      "(14524,)\n",
      "(14618,)\n",
      "(14650,)\n",
      "(14636,)\n",
      "(14596,)\n",
      "(14544,)\n",
      "(14430,)\n",
      "(14566,)\n",
      "(14408,)\n",
      "(14470,)\n",
      "(14528,)\n",
      "(14684,)\n"
     ]
    }
   ],
   "source": [
    "print(len(edge_masks[60]))\n",
    "# print(edge_masks)\n",
    "for i, count in enumerate(edge_masks):\n",
    "    print(count.shape)\n",
    "# combined_array = np.stack(edge_masks)\n",
    "\n",
    "# # Sum over the first axis\n",
    "# sum_array = np.sum(combined_array, axis=0)\n",
    "# print(sum_array.shape)"
   ]
  },
  {
   "cell_type": "markdown",
   "metadata": {},
   "source": [
    "# Visualize explaination (top 20 edges)"
   ]
  },
  {
   "cell_type": "code",
   "execution_count": 22,
   "metadata": {
    "scrolled": true
   },
   "outputs": [
    {
     "data": {
      "image/png": "[encoded data removed]",
      "text/plain": [
       "<Figure size 640x480 with 1 Axes>"
      ]
     },
     "metadata": {},
     "output_type": "display_data"
    }
   ],
   "source": [
    "import matplotlib.pyplot as plt\n",
    "import networkx as nx\n",
    "from torch_geometric.utils import to_networkx\n",
    "\n",
    "def visualize_top_subgraphs(data, output, edge_mask, top_n=10):\n",
    "    # Convert data to networkx graph\n",
    "    G = to_networkx(data, to_undirected=True)\n",
    "    \n",
    "    # Set edge weights from edge mask\n",
    "    for i, (u, v) in enumerate(G.edges()):\n",
    "        G[u][v]['weight'] = edge_mask[i].item()\n",
    "    \n",
    "    # Get top-N edges based on weight\n",
    "    top_edges = sorted(G.edges(data=True), key=lambda x: x[2]['weight'], reverse=True)[:top_n]\n",
    "    top_edges = [(u, v) for u, v, w in top_edges]\n",
    "\n",
    "    # Create a subgraph containing the top-N edges\n",
    "    subgraph = G.edge_subgraph(top_edges)\n",
    "    \n",
    "    # Plot the subgraph\n",
    "    pos = nx.spring_layout(subgraph)\n",
    "#     pos = nx.shell_layout(subgraph)\n",
    "    edge_weights = [subgraph[u][v]['weight'] for u, v in subgraph.edges()]\n",
    "    nx.draw(subgraph, pos, with_labels=True, edge_color=edge_weights, edge_cmap=plt.cm.Reds, node_color='lightblue')\n",
    "    \n",
    "   # Add edge labels (weights) on top of the edges\n",
    "#     edge_labels = {(u, v): f'{w:.4f}' for u, v, w in subgraph.edges(data='weight')}\n",
    "#     nx.draw_networkx_edge_labels(subgraph, pos, edge_labels=edge_labels)\n",
    "#     nx.draw_networkx_edge_labels(subgraph, pos, edge_labels={(u, v): f'{w:.2f}' for u, v, w in subgraph.edges(data='weight')})\n",
    "    plt.savefig(output, format=\"PNG\")\n",
    "    plt.show()\n",
    "\n",
    "# Example usage (assuming 'data' and 'edge_mask' are defined)\n",
    "visualize_top_subgraphs(data, \"test1_top30.png\", explanation.edge_mask, top_n=30)\n",
    "# visualize_top_subgraphs(data, average_edge_mask, top_n=20)\n"
   ]
  },
  {
   "cell_type": "code",
   "execution_count": 18,
   "metadata": {},
   "outputs": [
    {
     "data": {
      "application/vnd.plotly.v1+json": {
       "config": {
        "plotlyServerURL": "https://plot.ly"
       },
       "data": [
        {
         "hoverinfo": "none",
         "line": {
          "color": "#888",
          "width": 5
         },
         "mode": "lines",
         "type": "scatter",
         "x": [
          0.22393874290263405,
          0.08728011875275447,
          null,
          0.08728011875275447,
          -0.170882933219703,
          null,
          0.08728011875275447,
          -0.12000436423626748,
          null,
          0.08728011875275447,
          -0.0684630117772584,
          null,
          0.08728011875275447,
          -0.222551670993896,
          null,
          0.08728011875275447,
          0.45306992122713086,
          null,
          -0.170882933219703,
          -0.222551670993896,
          null,
          -0.170882933219703,
          -0.10247535250678991,
          null,
          -0.170882933219703,
          -0.09538973782824661,
          null,
          -0.170882933219703,
          -0.08473403164744486,
          null,
          -0.170882933219703,
          -0.2574075618495845,
          null,
          -0.12000436423626748,
          0.0271851633944175,
          null,
          -0.12000436423626748,
          -0.09538973782824661,
          null,
          -0.12000436423626748,
          -0.08473403164744486,
          null,
          -0.12000436423626748,
          -0.2873646352608959,
          null,
          -0.0684630117772584,
          -0.222551670993896,
          null,
          -0.0684630117772584,
          -0.12123053910882803,
          null,
          -0.0684630117772584,
          -0.03861847567191392,
          null,
          -0.0684630117772584,
          -0.10247535250678991,
          null,
          -0.0684630117772584,
          -0.09538973782824661,
          null,
          -0.222551670993896,
          -0.12123053910882803,
          null,
          -0.222551670993896,
          -0.03861847567191392,
          null,
          -0.222551670993896,
          -0.10247535250678991,
          null,
          -0.222551670993896,
          -0.2574075618495845,
          null,
          -0.222551670993896,
          -0.5927302704983711,
          null,
          -0.12123053910882803,
          -0.03861847567191392,
          null,
          -0.12123053910882803,
          -0.10247535250678991,
          null,
          -0.12123053910882803,
          0.015144105297791713,
          null,
          -0.12123053910882803,
          -0.16057583568231432,
          null,
          -0.12123053910882803,
          -0.2574075618495845,
          null,
          -0.03861847567191392,
          -0.10247535250678991,
          null,
          -0.03861847567191392,
          0.0271851633944175,
          null,
          -0.03861847567191392,
          -0.024227501904066785,
          null,
          -0.03861847567191392,
          0.015144105297791713,
          null,
          -0.03861847567191392,
          0.08795705297313279,
          null,
          -0.03861847567191392,
          -0.003846086922990893,
          null,
          -0.10247535250678991,
          -0.09538973782824661,
          null,
          -0.10247535250678991,
          -0.08473403164744486,
          null,
          -0.10247535250678991,
          -0.024227501904066785,
          null,
          -0.10247535250678991,
          0.015144105297791713,
          null,
          -0.10247535250678991,
          0.08795705297313279,
          null,
          -0.10247535250678991,
          -0.16057583568231432,
          null,
          -0.10247535250678991,
          -0.2574075618495845,
          null,
          0.0271851633944175,
          -0.09538973782824661,
          null,
          0.0271851633944175,
          0.03504967986019324,
          null,
          0.0271851633944175,
          0.0013511812809200564,
          null,
          0.0271851633944175,
          -0.08473403164744486,
          null,
          0.0271851633944175,
          -0.024227501904066785,
          null,
          0.0271851633944175,
          0.015144105297791713,
          null,
          0.0271851633944175,
          0.08795705297313279,
          null,
          -0.09538973782824661,
          0.03504967986019324,
          null,
          -0.09538973782824661,
          -0.059623425226165525,
          null,
          -0.09538973782824661,
          -0.035411396704775784,
          null,
          -0.09538973782824661,
          0.0013511812809200564,
          null,
          -0.09538973782824661,
          -0.08473403164744486,
          null,
          -0.09538973782824661,
          -0.024227501904066785,
          null,
          -0.09538973782824661,
          -0.2873646352608959,
          null,
          -0.09538973782824661,
          -0.22117349861478347,
          null,
          -0.09538973782824661,
          -0.11631422069417557,
          null,
          0.03504967986019324,
          -0.059623425226165525,
          null,
          0.03504967986019324,
          -0.14801398713446037,
          null,
          0.03504967986019324,
          0.1633694655245157,
          null,
          0.03504967986019324,
          -0.035411396704775784,
          null,
          0.03504967986019324,
          0.0013511812809200564,
          null,
          0.03504967986019324,
          -0.08473403164744486,
          null,
          0.03504967986019324,
          -0.024227501904066785,
          null,
          0.03504967986019324,
          0.28226354244382745,
          null,
          0.03504967986019324,
          -0.11631422069417557,
          null,
          0.03504967986019324,
          0.0955488127564109,
          null,
          -0.059623425226165525,
          -0.14801398713446037,
          null,
          -0.059623425226165525,
          -0.08908265712030448,
          null,
          -0.059623425226165525,
          0.1633694655245157,
          null,
          -0.059623425226165525,
          -0.035411396704775784,
          null,
          -0.059623425226165525,
          0.0013511812809200564,
          null,
          -0.059623425226165525,
          -0.22117349861478347,
          null,
          -0.059623425226165525,
          0.015102097712344883,
          null,
          -0.059623425226165525,
          -0.18572198758064318,
          null,
          -0.059623425226165525,
          0.117785262576278,
          null,
          -0.059623425226165525,
          -0.2662407810219317,
          null,
          -0.059623425226165525,
          -0.11631422069417557,
          null,
          -0.059623425226165525,
          0.0955488127564109,
          null,
          0.4541161075639119,
          0.22401239570673476,
          null,
          0.9990133976280808,
          0.7430728758922776,
          null,
          0.6352339322287317,
          0.9402384412625319,
          null,
          0.6352339322287317,
          0.45306992122713086,
          null,
          0.6352339322287317,
          0.22401239570673476,
          null,
          0.45306992122713086,
          0.7430728758922776,
          null,
          0.22401239570673476,
          0.7430728758922776,
          null,
          0.22401239570673476,
          -0.4568482974055077,
          null,
          0.22401239570673476,
          -0.2095698460947979,
          null,
          0.22401239570673476,
          0.5039659444365937,
          null,
          0.7430728758922776,
          1,
          null,
          0.7430728758922776,
          0.9774452192215918,
          null,
          -0.4568482974055077,
          -0.5927302704983711,
          null,
          -0.4568482974055077,
          -0.7388735565983175,
          null,
          -0.4568482974055077,
          -0.7773858184036123,
          null,
          -0.4568482974055077,
          -0.7478162765128651,
          null,
          -0.4568482974055077,
          -0.7322415774030331,
          null,
          -0.4568482974055077,
          -0.2095698460947979,
          null,
          -0.5927302704983711,
          -0.9473241250188601,
          null
         ],
         "y": [
          -0.615970501584069,
          -0.31729067615119716,
          null,
          -0.31729067615119716,
          -0.14620475691185053,
          null,
          -0.31729067615119716,
          -0.02590513093190494,
          null,
          -0.31729067615119716,
          -0.16946299957513114,
          null,
          -0.31729067615119716,
          -0.3294404600155678,
          null,
          -0.31729067615119716,
          -0.3032581009659881,
          null,
          -0.14620475691185053,
          -0.3294404600155678,
          null,
          -0.14620475691185053,
          -0.21629271997177857,
          null,
          -0.14620475691185053,
          0.16677948574130966,
          null,
          -0.14620475691185053,
          0.04728267359037898,
          null,
          -0.14620475691185053,
          -0.4089784027502572,
          null,
          -0.02590513093190494,
          0.007947205576241652,
          null,
          -0.02590513093190494,
          0.16677948574130966,
          null,
          -0.02590513093190494,
          0.04728267359037898,
          null,
          -0.02590513093190494,
          0.1446406214461053,
          null,
          -0.16946299957513114,
          -0.3294404600155678,
          null,
          -0.16946299957513114,
          -0.40465996893438855,
          null,
          -0.16946299957513114,
          -0.2910289297622719,
          null,
          -0.16946299957513114,
          -0.21629271997177857,
          null,
          -0.16946299957513114,
          0.16677948574130966,
          null,
          -0.3294404600155678,
          -0.40465996893438855,
          null,
          -0.3294404600155678,
          -0.2910289297622719,
          null,
          -0.3294404600155678,
          -0.21629271997177857,
          null,
          -0.3294404600155678,
          -0.4089784027502572,
          null,
          -0.3294404600155678,
          -0.3650206417699161,
          null,
          -0.40465996893438855,
          -0.2910289297622719,
          null,
          -0.40465996893438855,
          -0.21629271997177857,
          null,
          -0.40465996893438855,
          -0.3199983336680111,
          null,
          -0.40465996893438855,
          -0.5571078116226791,
          null,
          -0.40465996893438855,
          -0.4089784027502572,
          null,
          -0.2910289297622719,
          -0.21629271997177857,
          null,
          -0.2910289297622719,
          0.007947205576241652,
          null,
          -0.2910289297622719,
          -0.01830980047081109,
          null,
          -0.2910289297622719,
          -0.3199983336680111,
          null,
          -0.2910289297622719,
          -0.20976584038025778,
          null,
          -0.2910289297622719,
          -0.6789290678792179,
          null,
          -0.21629271997177857,
          0.16677948574130966,
          null,
          -0.21629271997177857,
          0.04728267359037898,
          null,
          -0.21629271997177857,
          -0.01830980047081109,
          null,
          -0.21629271997177857,
          -0.3199983336680111,
          null,
          -0.21629271997177857,
          -0.20976584038025778,
          null,
          -0.21629271997177857,
          -0.5571078116226791,
          null,
          -0.21629271997177857,
          -0.4089784027502572,
          null,
          0.007947205576241652,
          0.16677948574130966,
          null,
          0.007947205576241652,
          0.3516434382100623,
          null,
          0.007947205576241652,
          0.2832444941267896,
          null,
          0.007947205576241652,
          0.04728267359037898,
          null,
          0.007947205576241652,
          -0.01830980047081109,
          null,
          0.007947205576241652,
          -0.3199983336680111,
          null,
          0.007947205576241652,
          -0.20976584038025778,
          null,
          0.16677948574130966,
          0.3516434382100623,
          null,
          0.16677948574130966,
          0.6349267906393525,
          null,
          0.16677948574130966,
          0.4422875960504439,
          null,
          0.16677948574130966,
          0.2832444941267896,
          null,
          0.16677948574130966,
          0.04728267359037898,
          null,
          0.16677948574130966,
          -0.01830980047081109,
          null,
          0.16677948574130966,
          0.1446406214461053,
          null,
          0.16677948574130966,
          0.437633062545393,
          null,
          0.16677948574130966,
          0.41004713194420905,
          null,
          0.3516434382100623,
          0.6349267906393525,
          null,
          0.3516434382100623,
          0.6420365808886161,
          null,
          0.3516434382100623,
          0.6299335103654825,
          null,
          0.3516434382100623,
          0.4422875960504439,
          null,
          0.3516434382100623,
          0.2832444941267896,
          null,
          0.3516434382100623,
          0.04728267359037898,
          null,
          0.3516434382100623,
          -0.01830980047081109,
          null,
          0.3516434382100623,
          0.48206018457822974,
          null,
          0.3516434382100623,
          0.41004713194420905,
          null,
          0.3516434382100623,
          0.5745809302592412,
          null,
          0.6349267906393525,
          0.6420365808886161,
          null,
          0.6349267906393525,
          0.9762444202924236,
          null,
          0.6349267906393525,
          0.6299335103654825,
          null,
          0.6349267906393525,
          0.4422875960504439,
          null,
          0.6349267906393525,
          0.2832444941267896,
          null,
          0.6349267906393525,
          0.437633062545393,
          null,
          0.6349267906393525,
          0.9054965321390096,
          null,
          0.6349267906393525,
          0.8702759348871681,
          null,
          0.6349267906393525,
          0.985325794228125,
          null,
          0.6349267906393525,
          0.9548145347209289,
          null,
          0.6349267906393525,
          0.41004713194420905,
          null,
          0.6349267906393525,
          0.5745809302592412,
          null,
          -0.4773701691482463,
          -0.2538351619291631,
          null,
          -0.18915978768241906,
          -0.27420367792160594,
          null,
          -0.10008306533953552,
          0.0644450638145084,
          null,
          -0.10008306533953552,
          -0.3032581009659881,
          null,
          -0.10008306533953552,
          -0.2538351619291631,
          null,
          -0.3032581009659881,
          -0.27420367792160594,
          null,
          -0.2538351619291631,
          -0.27420367792160594,
          null,
          -0.2538351619291631,
          -0.3213376451144898,
          null,
          -0.2538351619291631,
          -0.2515193486776207,
          null,
          -0.2538351619291631,
          -0.17321356341305005,
          null,
          -0.27420367792160594,
          -0.30042479248490966,
          null,
          -0.27420367792160594,
          -0.4164347344939418,
          null,
          -0.3213376451144898,
          -0.3650206417699161,
          null,
          -0.3213376451144898,
          -0.20845355679195762,
          null,
          -0.3213376451144898,
          -0.3311842129301432,
          null,
          -0.3213376451144898,
          -0.44822827197109394,
          null,
          -0.3213376451144898,
          -0.5712812357232117,
          null,
          -0.3213376451144898,
          -0.2515193486776207,
          null,
          -0.3650206417699161,
          -0.31729261907733314,
          null
         ]
        },
        {
         "hoverinfo": "text",
         "marker": {
          "color": [
           1,
           6,
           6,
           5,
           6,
           8,
           7,
           9,
           12,
           9,
           14,
           12,
           14,
           2,
           1,
           1,
           2,
           3,
           4,
           6,
           5,
           4,
           2,
           1,
           2,
           1,
           1,
           3,
           2,
           1,
           1,
           4,
           3,
           1,
           3,
           6,
           5,
           7,
           3,
           1,
           1,
           1,
           1,
           1,
           1,
           2,
           1,
           1,
           1,
           1,
           3,
           2
          ],
          "colorbar": {
           "thickness": 15,
           "title": {
            "side": "right",
            "text": "Node Connections"
           },
           "xanchor": "left"
          },
          "colorscale": [
           [
            0,
            "rgb(255,255,217)"
           ],
           [
            0.125,
            "rgb(237,248,177)"
           ],
           [
            0.25,
            "rgb(199,233,180)"
           ],
           [
            0.375,
            "rgb(127,205,187)"
           ],
           [
            0.5,
            "rgb(65,182,196)"
           ],
           [
            0.625,
            "rgb(29,145,192)"
           ],
           [
            0.75,
            "rgb(34,94,168)"
           ],
           [
            0.875,
            "rgb(37,52,148)"
           ],
           [
            1,
            "rgb(8,29,88)"
           ]
          ],
          "line": {
           "width": 2
          },
          "showscale": true,
          "size": 30
         },
         "mode": "markers+text",
         "text": [
          "0",
          "1",
          "2",
          "3",
          "4",
          "5",
          "6",
          "7",
          "8",
          "9",
          "10",
          "11",
          "12",
          "13",
          "137",
          "14",
          "16",
          "17",
          "18",
          "19",
          "20",
          "21",
          "150",
          "23",
          "147",
          "152",
          "25",
          "22",
          "28",
          "151",
          "133",
          "32",
          "34",
          "35",
          "36",
          "37",
          "38",
          "39",
          "40",
          "41",
          "42",
          "43",
          "44",
          "136",
          "70",
          "72",
          "73",
          "82",
          "360",
          "361",
          "362",
          "363"
         ],
         "textposition": "top center",
         "type": "scatter",
         "x": [
          0.22393874290263405,
          0.08728011875275447,
          -0.170882933219703,
          -0.12000436423626748,
          -0.0684630117772584,
          -0.222551670993896,
          -0.12123053910882803,
          -0.03861847567191392,
          -0.10247535250678991,
          0.0271851633944175,
          -0.09538973782824661,
          0.03504967986019324,
          -0.059623425226165525,
          -0.14801398713446037,
          0.4541161075639119,
          -0.08908265712030448,
          0.1633694655245157,
          -0.035411396704775784,
          0.0013511812809200564,
          -0.08473403164744486,
          -0.024227501904066785,
          0.015144105297791713,
          -0.22117349861478347,
          -0.003846086922990893,
          -0.2873646352608959,
          -0.18572198758064318,
          0.28226354244382745,
          0.08795705297313279,
          -0.16057583568231432,
          0.015102097712344883,
          0.9990133976280808,
          -0.2574075618495845,
          0.6352339322287317,
          0.9402384412625319,
          0.45306992122713086,
          0.22401239570673476,
          0.7430728758922776,
          -0.4568482974055077,
          -0.5927302704983711,
          -0.7388735565983175,
          -0.9473241250188601,
          -0.7773858184036123,
          -0.7478162765128651,
          0.9774452192215918,
          -0.7322415774030331,
          -0.2095698460947979,
          0.5039659444365937,
          1,
          0.117785262576278,
          -0.2662407810219317,
          -0.11631422069417557,
          0.0955488127564109
         ],
         "y": [
          -0.615970501584069,
          -0.31729067615119716,
          -0.14620475691185053,
          -0.02590513093190494,
          -0.16946299957513114,
          -0.3294404600155678,
          -0.40465996893438855,
          -0.2910289297622719,
          -0.21629271997177857,
          0.007947205576241652,
          0.16677948574130966,
          0.3516434382100623,
          0.6349267906393525,
          0.6420365808886161,
          -0.4773701691482463,
          0.9762444202924236,
          0.6299335103654825,
          0.4422875960504439,
          0.2832444941267896,
          0.04728267359037898,
          -0.01830980047081109,
          -0.3199983336680111,
          0.437633062545393,
          -0.6789290678792179,
          0.1446406214461053,
          0.8702759348871681,
          0.48206018457822974,
          -0.20976584038025778,
          -0.5571078116226791,
          0.9054965321390096,
          -0.18915978768241906,
          -0.4089784027502572,
          -0.10008306533953552,
          0.0644450638145084,
          -0.3032581009659881,
          -0.2538351619291631,
          -0.27420367792160594,
          -0.3213376451144898,
          -0.3650206417699161,
          -0.20845355679195762,
          -0.31729261907733314,
          -0.3311842129301432,
          -0.44822827197109394,
          -0.4164347344939418,
          -0.5712812357232117,
          -0.2515193486776207,
          -0.17321356341305005,
          -0.30042479248490966,
          0.985325794228125,
          0.9548145347209289,
          0.41004713194420905,
          0.5745809302592412
         ]
        }
       ],
       "layout": {
        "annotations": [
         {
          "showarrow": false,
          "text": "Top 100 subgraphs",
          "x": 0.005,
          "xref": "paper",
          "y": -0.002,
          "yref": "paper"
         }
        ],
        "dragmode": "pan",
        "height": 800,
        "hovermode": "closest",
        "margin": {
         "b": 20,
         "l": 5,
         "r": 5,
         "t": 40
        },
        "plot_bgcolor": "white",
        "showlegend": false,
        "template": {
         "data": {
          "bar": [
           {
            "error_x": {
             "color": "#2a3f5f"
            },
            "error_y": {
             "color": "#2a3f5f"
            },
            "marker": {
             "line": {
              "color": "#E5ECF6",
              "width": 0.5
             },
             "pattern": {
              "fillmode": "overlay",
              "size": 10,
              "solidity": 0.2
             }
            },
            "type": "bar"
           }
          ],
          "barpolar": [
           {
            "marker": {
             "line": {
              "color": "#E5ECF6",
              "width": 0.5
             },
             "pattern": {
              "fillmode": "overlay",
              "size": 10,
              "solidity": 0.2
             }
            },
            "type": "barpolar"
           }
          ],
          "carpet": [
           {
            "aaxis": {
             "endlinecolor": "#2a3f5f",
             "gridcolor": "white",
             "linecolor": "white",
             "minorgridcolor": "white",
             "startlinecolor": "#2a3f5f"
            },
            "baxis": {
             "endlinecolor": "#2a3f5f",
             "gridcolor": "white",
             "linecolor": "white",
             "minorgridcolor": "white",
             "startlinecolor": "#2a3f5f"
            },
            "type": "carpet"
           }
          ],
          "choropleth": [
           {
            "colorbar": {
             "outlinewidth": 0,
             "ticks": ""
            },
            "type": "choropleth"
           }
          ],
          "contour": [
           {
            "colorbar": {
             "outlinewidth": 0,
             "ticks": ""
            },
            "colorscale": [
             [
              0,
              "#0d0887"
             ],
             [
              0.1111111111111111,
              "#46039f"
             ],
             [
              0.2222222222222222,
              "#7201a8"
             ],
             [
              0.3333333333333333,
              "#9c179e"
             ],
             [
              0.4444444444444444,
              "#bd3786"
             ],
             [
              0.5555555555555556,
              "#d8576b"
             ],
             [
              0.6666666666666666,
              "#ed7953"
             ],
             [
              0.7777777777777778,
              "#fb9f3a"
             ],
             [
              0.8888888888888888,
              "#fdca26"
             ],
             [
              1,
              "#f0f921"
             ]
            ],
            "type": "contour"
           }
          ],
          "contourcarpet": [
           {
            "colorbar": {
             "outlinewidth": 0,
             "ticks": ""
            },
            "type": "contourcarpet"
           }
          ],
          "heatmap": [
           {
            "colorbar": {
             "outlinewidth": 0,
             "ticks": ""
            },
            "colorscale": [
             [
              0,
              "#0d0887"
             ],
             [
              0.1111111111111111,
              "#46039f"
             ],
             [
              0.2222222222222222,
              "#7201a8"
             ],
             [
              0.3333333333333333,
              "#9c179e"
             ],
             [
              0.4444444444444444,
              "#bd3786"
             ],
             [
              0.5555555555555556,
              "#d8576b"
             ],
             [
              0.6666666666666666,
              "#ed7953"
             ],
             [
              0.7777777777777778,
              "#fb9f3a"
             ],
             [
              0.8888888888888888,
              "#fdca26"
             ],
             [
              1,
              "#f0f921"
             ]
            ],
            "type": "heatmap"
           }
          ],
          "heatmapgl": [
           {
            "colorbar": {
             "outlinewidth": 0,
             "ticks": ""
            },
            "colorscale": [
             [
              0,
              "#0d0887"
             ],
             [
              0.1111111111111111,
              "#46039f"
             ],
             [
              0.2222222222222222,
              "#7201a8"
             ],
             [
              0.3333333333333333,
              "#9c179e"
             ],
             [
              0.4444444444444444,
              "#bd3786"
             ],
             [
              0.5555555555555556,
              "#d8576b"
             ],
             [
              0.6666666666666666,
              "#ed7953"
             ],
             [
              0.7777777777777778,
              "#fb9f3a"
             ],
             [
              0.8888888888888888,
              "#fdca26"
             ],
             [
              1,
              "#f0f921"
             ]
            ],
            "type": "heatmapgl"
           }
          ],
          "histogram": [
           {
            "marker": {
             "pattern": {
              "fillmode": "overlay",
              "size": 10,
              "solidity": 0.2
             }
            },
            "type": "histogram"
           }
          ],
          "histogram2d": [
           {
            "colorbar": {
             "outlinewidth": 0,
             "ticks": ""
            },
            "colorscale": [
             [
              0,
              "#0d0887"
             ],
             [
              0.1111111111111111,
              "#46039f"
             ],
             [
              0.2222222222222222,
              "#7201a8"
             ],
             [
              0.3333333333333333,
              "#9c179e"
             ],
             [
              0.4444444444444444,
              "#bd3786"
             ],
             [
              0.5555555555555556,
              "#d8576b"
             ],
             [
              0.6666666666666666,
              "#ed7953"
             ],
             [
              0.7777777777777778,
              "#fb9f3a"
             ],
             [
              0.8888888888888888,
              "#fdca26"
             ],
             [
              1,
              "#f0f921"
             ]
            ],
            "type": "histogram2d"
           }
          ],
          "histogram2dcontour": [
           {
            "colorbar": {
             "outlinewidth": 0,
             "ticks": ""
            },
            "colorscale": [
             [
              0,
              "#0d0887"
             ],
             [
              0.1111111111111111,
              "#46039f"
             ],
             [
              0.2222222222222222,
              "#7201a8"
             ],
             [
              0.3333333333333333,
              "#9c179e"
             ],
             [
              0.4444444444444444,
              "#bd3786"
             ],
             [
              0.5555555555555556,
              "#d8576b"
             ],
             [
              0.6666666666666666,
              "#ed7953"
             ],
             [
              0.7777777777777778,
              "#fb9f3a"
             ],
             [
              0.8888888888888888,
              "#fdca26"
             ],
             [
              1,
              "#f0f921"
             ]
            ],
            "type": "histogram2dcontour"
           }
          ],
          "mesh3d": [
           {
            "colorbar": {
             "outlinewidth": 0,
             "ticks": ""
            },
            "type": "mesh3d"
           }
          ],
          "parcoords": [
           {
            "line": {
             "colorbar": {
              "outlinewidth": 0,
              "ticks": ""
             }
            },
            "type": "parcoords"
           }
          ],
          "pie": [
           {
            "automargin": true,
            "type": "pie"
           }
          ],
          "scatter": [
           {
            "fillpattern": {
             "fillmode": "overlay",
             "size": 10,
             "solidity": 0.2
            },
            "type": "scatter"
           }
          ],
          "scatter3d": [
           {
            "line": {
             "colorbar": {
              "outlinewidth": 0,
              "ticks": ""
             }
            },
            "marker": {
             "colorbar": {
              "outlinewidth": 0,
              "ticks": ""
             }
            },
            "type": "scatter3d"
           }
          ],
          "scattercarpet": [
           {
            "marker": {
             "colorbar": {
              "outlinewidth": 0,
              "ticks": ""
             }
            },
            "type": "scattercarpet"
           }
          ],
          "scattergeo": [
           {
            "marker": {
             "colorbar": {
              "outlinewidth": 0,
              "ticks": ""
             }
            },
            "type": "scattergeo"
           }
          ],
          "scattergl": [
           {
            "marker": {
             "colorbar": {
              "outlinewidth": 0,
              "ticks": ""
             }
            },
            "type": "scattergl"
           }
          ],
          "scattermapbox": [
           {
            "marker": {
             "colorbar": {
              "outlinewidth": 0,
              "ticks": ""
             }
            },
            "type": "scattermapbox"
           }
          ],
          "scatterpolar": [
           {
            "marker": {
             "colorbar": {
              "outlinewidth": 0,
              "ticks": ""
             }
            },
            "type": "scatterpolar"
           }
          ],
          "scatterpolargl": [
           {
            "marker": {
             "colorbar": {
              "outlinewidth": 0,
              "ticks": ""
             }
            },
            "type": "scatterpolargl"
           }
          ],
          "scatterternary": [
           {
            "marker": {
             "colorbar": {
              "outlinewidth": 0,
              "ticks": ""
             }
            },
            "type": "scatterternary"
           }
          ],
          "surface": [
           {
            "colorbar": {
             "outlinewidth": 0,
             "ticks": ""
            },
            "colorscale": [
             [
              0,
              "#0d0887"
             ],
             [
              0.1111111111111111,
              "#46039f"
             ],
             [
              0.2222222222222222,
              "#7201a8"
             ],
             [
              0.3333333333333333,
              "#9c179e"
             ],
             [
              0.4444444444444444,
              "#bd3786"
             ],
             [
              0.5555555555555556,
              "#d8576b"
             ],
             [
              0.6666666666666666,
              "#ed7953"
             ],
             [
              0.7777777777777778,
              "#fb9f3a"
             ],
             [
              0.8888888888888888,
              "#fdca26"
             ],
             [
              1,
              "#f0f921"
             ]
            ],
            "type": "surface"
           }
          ],
          "table": [
           {
            "cells": {
             "fill": {
              "color": "#EBF0F8"
             },
             "line": {
              "color": "white"
             }
            },
            "header": {
             "fill": {
              "color": "#C8D4E3"
             },
             "line": {
              "color": "white"
             }
            },
            "type": "table"
           }
          ]
         },
         "layout": {
          "annotationdefaults": {
           "arrowcolor": "#2a3f5f",
           "arrowhead": 0,
           "arrowwidth": 1
          },
          "autotypenumbers": "strict",
          "coloraxis": {
           "colorbar": {
            "outlinewidth": 0,
            "ticks": ""
           }
          },
          "colorscale": {
           "diverging": [
            [
             0,
             "#8e0152"
            ],
            [
             0.1,
             "#c51b7d"
            ],
            [
             0.2,
             "#de77ae"
            ],
            [
             0.3,
             "#f1b6da"
            ],
            [
             0.4,
             "#fde0ef"
            ],
            [
             0.5,
             "#f7f7f7"
            ],
            [
             0.6,
             "#e6f5d0"
            ],
            [
             0.7,
             "#b8e186"
            ],
            [
             0.8,
             "#7fbc41"
            ],
            [
             0.9,
             "#4d9221"
            ],
            [
             1,
             "#276419"
            ]
           ],
           "sequential": [
            [
             0,
             "#0d0887"
            ],
            [
             0.1111111111111111,
             "#46039f"
            ],
            [
             0.2222222222222222,
             "#7201a8"
            ],
            [
             0.3333333333333333,
             "#9c179e"
            ],
            [
             0.4444444444444444,
             "#bd3786"
            ],
            [
             0.5555555555555556,
             "#d8576b"
            ],
            [
             0.6666666666666666,
             "#ed7953"
            ],
            [
             0.7777777777777778,
             "#fb9f3a"
            ],
            [
             0.8888888888888888,
             "#fdca26"
            ],
            [
             1,
             "#f0f921"
            ]
           ],
           "sequentialminus": [
            [
             0,
             "#0d0887"
            ],
            [
             0.1111111111111111,
             "#46039f"
            ],
            [
             0.2222222222222222,
             "#7201a8"
            ],
            [
             0.3333333333333333,
             "#9c179e"
            ],
            [
             0.4444444444444444,
             "#bd3786"
            ],
            [
             0.5555555555555556,
             "#d8576b"
            ],
            [
             0.6666666666666666,
             "#ed7953"
            ],
            [
             0.7777777777777778,
             "#fb9f3a"
            ],
            [
             0.8888888888888888,
             "#fdca26"
            ],
            [
             1,
             "#f0f921"
            ]
           ]
          },
          "colorway": [
           "#636efa",
           "#EF553B",
           "#00cc96",
           "#ab63fa",
           "#FFA15A",
           "#19d3f3",
           "#FF6692",
           "#B6E880",
           "#FF97FF",
           "#FECB52"
          ],
          "font": {
           "color": "#2a3f5f"
          },
          "geo": {
           "bgcolor": "white",
           "lakecolor": "white",
           "landcolor": "#E5ECF6",
           "showlakes": true,
           "showland": true,
           "subunitcolor": "white"
          },
          "hoverlabel": {
           "align": "left"
          },
          "hovermode": "closest",
          "mapbox": {
           "style": "light"
          },
          "paper_bgcolor": "white",
          "plot_bgcolor": "#E5ECF6",
          "polar": {
           "angularaxis": {
            "gridcolor": "white",
            "linecolor": "white",
            "ticks": ""
           },
           "bgcolor": "#E5ECF6",
           "radialaxis": {
            "gridcolor": "white",
            "linecolor": "white",
            "ticks": ""
           }
          },
          "scene": {
           "xaxis": {
            "backgroundcolor": "#E5ECF6",
            "gridcolor": "white",
            "gridwidth": 2,
            "linecolor": "white",
            "showbackground": true,
            "ticks": "",
            "zerolinecolor": "white"
           },
           "yaxis": {
            "backgroundcolor": "#E5ECF6",
            "gridcolor": "white",
            "gridwidth": 2,
            "linecolor": "white",
            "showbackground": true,
            "ticks": "",
            "zerolinecolor": "white"
           },
           "zaxis": {
            "backgroundcolor": "#E5ECF6",
            "gridcolor": "white",
            "gridwidth": 2,
            "linecolor": "white",
            "showbackground": true,
            "ticks": "",
            "zerolinecolor": "white"
           }
          },
          "shapedefaults": {
           "line": {
            "color": "#2a3f5f"
           }
          },
          "ternary": {
           "aaxis": {
            "gridcolor": "white",
            "linecolor": "white",
            "ticks": ""
           },
           "baxis": {
            "gridcolor": "white",
            "linecolor": "white",
            "ticks": ""
           },
           "bgcolor": "#E5ECF6",
           "caxis": {
            "gridcolor": "white",
            "linecolor": "white",
            "ticks": ""
           }
          },
          "title": {
           "x": 0.05
          },
          "xaxis": {
           "automargin": true,
           "gridcolor": "white",
           "linecolor": "white",
           "ticks": "",
           "title": {
            "standoff": 15
           },
           "zerolinecolor": "white",
           "zerolinewidth": 2
          },
          "yaxis": {
           "automargin": true,
           "gridcolor": "white",
           "linecolor": "white",
           "ticks": "",
           "title": {
            "standoff": 15
           },
           "zerolinecolor": "white",
           "zerolinewidth": 2
          }
         }
        },
        "title": {
         "font": {
          "size": 20
         }
        },
        "width": 1000,
        "xaxis": {
         "autorange": false,
         "range": [
          -1.0531928233745191,
          1.052652499371335
         ],
         "showgrid": false,
         "type": "linear",
         "zeroline": false
        },
        "yaxis": {
         "autorange": false,
         "range": [
          -0.9661307705541409,
          0.15822241863246445
         ],
         "showgrid": false,
         "type": "linear",
         "zeroline": false
        }
       }
      },
      "image/png": "[encoded data removed]",
      "text/html": [
       "<div>                            <div id=\"7f426c94-932e-46d5-8024-9eb737d9aac8\" class=\"plotly-graph-div\" style=\"height:800px; width:1000px;\"></div>            <script type=\"text/javascript\">                require([\"plotly\"], function(Plotly) {                    window.PLOTLYENV=window.PLOTLYENV || {};                                    if (document.getElementById(\"7f426c94-932e-46d5-8024-9eb737d9aac8\")) {                    Plotly.newPlot(                        \"7f426c94-932e-46d5-8024-9eb737d9aac8\",                        [{\"hoverinfo\":\"none\",\"line\":{\"color\":\"#888\",\"width\":5},\"mode\":\"lines\",\"x\":[0.22393874290263405,0.08728011875275447,null,0.08728011875275447,-0.170882933219703,null,0.08728011875275447,-0.12000436423626748,null,0.08728011875275447,-0.0684630117772584,null,0.08728011875275447,-0.222551670993896,null,0.08728011875275447,0.45306992122713086,null,-0.170882933219703,-0.222551670993896,null,-0.170882933219703,-0.10247535250678991,null,-0.170882933219703,-0.09538973782824661,null,-0.170882933219703,-0.08473403164744486,null,-0.170882933219703,-0.2574075618495845,null,-0.12000436423626748,0.0271851633944175,null,-0.12000436423626748,-0.09538973782824661,null,-0.12000436423626748,-0.08473403164744486,null,-0.12000436423626748,-0.2873646352608959,null,-0.0684630117772584,-0.222551670993896,null,-0.0684630117772584,-0.12123053910882803,null,-0.0684630117772584,-0.03861847567191392,null,-0.0684630117772584,-0.10247535250678991,null,-0.0684630117772584,-0.09538973782824661,null,-0.222551670993896,-0.12123053910882803,null,-0.222551670993896,-0.03861847567191392,null,-0.222551670993896,-0.10247535250678991,null,-0.222551670993896,-0.2574075618495845,null,-0.222551670993896,-0.5927302704983711,null,-0.12123053910882803,-0.03861847567191392,null,-0.12123053910882803,-0.10247535250678991,null,-0.12123053910882803,0.015144105297791713,null,-0.12123053910882803,-0.16057583568231432,null,-0.12123053910882803,-0.2574075618495845,null,-0.03861847567191392,-0.10247535250678991,null,-0.03861847567191392,0.0271851633944175,null,-0.03861847567191392,-0.024227501904066785,null,-0.03861847567191392,0.015144105297791713,null,-0.03861847567191392,0.08795705297313279,null,-0.03861847567191392,-0.003846086922990893,null,-0.10247535250678991,-0.09538973782824661,null,-0.10247535250678991,-0.08473403164744486,null,-0.10247535250678991,-0.024227501904066785,null,-0.10247535250678991,0.015144105297791713,null,-0.10247535250678991,0.08795705297313279,null,-0.10247535250678991,-0.16057583568231432,null,-0.10247535250678991,-0.2574075618495845,null,0.0271851633944175,-0.09538973782824661,null,0.0271851633944175,0.03504967986019324,null,0.0271851633944175,0.0013511812809200564,null,0.0271851633944175,-0.08473403164744486,null,0.0271851633944175,-0.024227501904066785,null,0.0271851633944175,0.015144105297791713,null,0.0271851633944175,0.08795705297313279,null,-0.09538973782824661,0.03504967986019324,null,-0.09538973782824661,-0.059623425226165525,null,-0.09538973782824661,-0.035411396704775784,null,-0.09538973782824661,0.0013511812809200564,null,-0.09538973782824661,-0.08473403164744486,null,-0.09538973782824661,-0.024227501904066785,null,-0.09538973782824661,-0.2873646352608959,null,-0.09538973782824661,-0.22117349861478347,null,-0.09538973782824661,-0.11631422069417557,null,0.03504967986019324,-0.059623425226165525,null,0.03504967986019324,-0.14801398713446037,null,0.03504967986019324,0.1633694655245157,null,0.03504967986019324,-0.035411396704775784,null,0.03504967986019324,0.0013511812809200564,null,0.03504967986019324,-0.08473403164744486,null,0.03504967986019324,-0.024227501904066785,null,0.03504967986019324,0.28226354244382745,null,0.03504967986019324,-0.11631422069417557,null,0.03504967986019324,0.0955488127564109,null,-0.059623425226165525,-0.14801398713446037,null,-0.059623425226165525,-0.08908265712030448,null,-0.059623425226165525,0.1633694655245157,null,-0.059623425226165525,-0.035411396704775784,null,-0.059623425226165525,0.0013511812809200564,null,-0.059623425226165525,-0.22117349861478347,null,-0.059623425226165525,0.015102097712344883,null,-0.059623425226165525,-0.18572198758064318,null,-0.059623425226165525,0.117785262576278,null,-0.059623425226165525,-0.2662407810219317,null,-0.059623425226165525,-0.11631422069417557,null,-0.059623425226165525,0.0955488127564109,null,0.4541161075639119,0.22401239570673476,null,0.9990133976280808,0.7430728758922776,null,0.6352339322287317,0.9402384412625319,null,0.6352339322287317,0.45306992122713086,null,0.6352339322287317,0.22401239570673476,null,0.45306992122713086,0.7430728758922776,null,0.22401239570673476,0.7430728758922776,null,0.22401239570673476,-0.4568482974055077,null,0.22401239570673476,-0.2095698460947979,null,0.22401239570673476,0.5039659444365937,null,0.7430728758922776,1.0,null,0.7430728758922776,0.9774452192215918,null,-0.4568482974055077,-0.5927302704983711,null,-0.4568482974055077,-0.7388735565983175,null,-0.4568482974055077,-0.7773858184036123,null,-0.4568482974055077,-0.7478162765128651,null,-0.4568482974055077,-0.7322415774030331,null,-0.4568482974055077,-0.2095698460947979,null,-0.5927302704983711,-0.9473241250188601,null],\"y\":[-0.615970501584069,-0.31729067615119716,null,-0.31729067615119716,-0.14620475691185053,null,-0.31729067615119716,-0.02590513093190494,null,-0.31729067615119716,-0.16946299957513114,null,-0.31729067615119716,-0.3294404600155678,null,-0.31729067615119716,-0.3032581009659881,null,-0.14620475691185053,-0.3294404600155678,null,-0.14620475691185053,-0.21629271997177857,null,-0.14620475691185053,0.16677948574130966,null,-0.14620475691185053,0.04728267359037898,null,-0.14620475691185053,-0.4089784027502572,null,-0.02590513093190494,0.007947205576241652,null,-0.02590513093190494,0.16677948574130966,null,-0.02590513093190494,0.04728267359037898,null,-0.02590513093190494,0.1446406214461053,null,-0.16946299957513114,-0.3294404600155678,null,-0.16946299957513114,-0.40465996893438855,null,-0.16946299957513114,-0.2910289297622719,null,-0.16946299957513114,-0.21629271997177857,null,-0.16946299957513114,0.16677948574130966,null,-0.3294404600155678,-0.40465996893438855,null,-0.3294404600155678,-0.2910289297622719,null,-0.3294404600155678,-0.21629271997177857,null,-0.3294404600155678,-0.4089784027502572,null,-0.3294404600155678,-0.3650206417699161,null,-0.40465996893438855,-0.2910289297622719,null,-0.40465996893438855,-0.21629271997177857,null,-0.40465996893438855,-0.3199983336680111,null,-0.40465996893438855,-0.5571078116226791,null,-0.40465996893438855,-0.4089784027502572,null,-0.2910289297622719,-0.21629271997177857,null,-0.2910289297622719,0.007947205576241652,null,-0.2910289297622719,-0.01830980047081109,null,-0.2910289297622719,-0.3199983336680111,null,-0.2910289297622719,-0.20976584038025778,null,-0.2910289297622719,-0.6789290678792179,null,-0.21629271997177857,0.16677948574130966,null,-0.21629271997177857,0.04728267359037898,null,-0.21629271997177857,-0.01830980047081109,null,-0.21629271997177857,-0.3199983336680111,null,-0.21629271997177857,-0.20976584038025778,null,-0.21629271997177857,-0.5571078116226791,null,-0.21629271997177857,-0.4089784027502572,null,0.007947205576241652,0.16677948574130966,null,0.007947205576241652,0.3516434382100623,null,0.007947205576241652,0.2832444941267896,null,0.007947205576241652,0.04728267359037898,null,0.007947205576241652,-0.01830980047081109,null,0.007947205576241652,-0.3199983336680111,null,0.007947205576241652,-0.20976584038025778,null,0.16677948574130966,0.3516434382100623,null,0.16677948574130966,0.6349267906393525,null,0.16677948574130966,0.4422875960504439,null,0.16677948574130966,0.2832444941267896,null,0.16677948574130966,0.04728267359037898,null,0.16677948574130966,-0.01830980047081109,null,0.16677948574130966,0.1446406214461053,null,0.16677948574130966,0.437633062545393,null,0.16677948574130966,0.41004713194420905,null,0.3516434382100623,0.6349267906393525,null,0.3516434382100623,0.6420365808886161,null,0.3516434382100623,0.6299335103654825,null,0.3516434382100623,0.4422875960504439,null,0.3516434382100623,0.2832444941267896,null,0.3516434382100623,0.04728267359037898,null,0.3516434382100623,-0.01830980047081109,null,0.3516434382100623,0.48206018457822974,null,0.3516434382100623,0.41004713194420905,null,0.3516434382100623,0.5745809302592412,null,0.6349267906393525,0.6420365808886161,null,0.6349267906393525,0.9762444202924236,null,0.6349267906393525,0.6299335103654825,null,0.6349267906393525,0.4422875960504439,null,0.6349267906393525,0.2832444941267896,null,0.6349267906393525,0.437633062545393,null,0.6349267906393525,0.9054965321390096,null,0.6349267906393525,0.8702759348871681,null,0.6349267906393525,0.985325794228125,null,0.6349267906393525,0.9548145347209289,null,0.6349267906393525,0.41004713194420905,null,0.6349267906393525,0.5745809302592412,null,-0.4773701691482463,-0.2538351619291631,null,-0.18915978768241906,-0.27420367792160594,null,-0.10008306533953552,0.0644450638145084,null,-0.10008306533953552,-0.3032581009659881,null,-0.10008306533953552,-0.2538351619291631,null,-0.3032581009659881,-0.27420367792160594,null,-0.2538351619291631,-0.27420367792160594,null,-0.2538351619291631,-0.3213376451144898,null,-0.2538351619291631,-0.2515193486776207,null,-0.2538351619291631,-0.17321356341305005,null,-0.27420367792160594,-0.30042479248490966,null,-0.27420367792160594,-0.4164347344939418,null,-0.3213376451144898,-0.3650206417699161,null,-0.3213376451144898,-0.20845355679195762,null,-0.3213376451144898,-0.3311842129301432,null,-0.3213376451144898,-0.44822827197109394,null,-0.3213376451144898,-0.5712812357232117,null,-0.3213376451144898,-0.2515193486776207,null,-0.3650206417699161,-0.31729261907733314,null],\"type\":\"scatter\"},{\"hoverinfo\":\"text\",\"marker\":{\"color\":[1,6,6,5,6,8,7,9,12,9,14,12,14,2,1,1,2,3,4,6,5,4,2,1,2,1,1,3,2,1,1,4,3,1,3,6,5,7,3,1,1,1,1,1,1,2,1,1,1,1,3,2],\"colorbar\":{\"thickness\":15,\"title\":{\"side\":\"right\",\"text\":\"Node Connections\"},\"xanchor\":\"left\"},\"colorscale\":[[0.0,\"rgb(255,255,217)\"],[0.125,\"rgb(237,248,177)\"],[0.25,\"rgb(199,233,180)\"],[0.375,\"rgb(127,205,187)\"],[0.5,\"rgb(65,182,196)\"],[0.625,\"rgb(29,145,192)\"],[0.75,\"rgb(34,94,168)\"],[0.875,\"rgb(37,52,148)\"],[1.0,\"rgb(8,29,88)\"]],\"line\":{\"width\":2},\"showscale\":true,\"size\":30},\"mode\":\"markers+text\",\"text\":[\"0\",\"1\",\"2\",\"3\",\"4\",\"5\",\"6\",\"7\",\"8\",\"9\",\"10\",\"11\",\"12\",\"13\",\"137\",\"14\",\"16\",\"17\",\"18\",\"19\",\"20\",\"21\",\"150\",\"23\",\"147\",\"152\",\"25\",\"22\",\"28\",\"151\",\"133\",\"32\",\"34\",\"35\",\"36\",\"37\",\"38\",\"39\",\"40\",\"41\",\"42\",\"43\",\"44\",\"136\",\"70\",\"72\",\"73\",\"82\",\"360\",\"361\",\"362\",\"363\"],\"textposition\":\"top center\",\"x\":[0.22393874290263405,0.08728011875275447,-0.170882933219703,-0.12000436423626748,-0.0684630117772584,-0.222551670993896,-0.12123053910882803,-0.03861847567191392,-0.10247535250678991,0.0271851633944175,-0.09538973782824661,0.03504967986019324,-0.059623425226165525,-0.14801398713446037,0.4541161075639119,-0.08908265712030448,0.1633694655245157,-0.035411396704775784,0.0013511812809200564,-0.08473403164744486,-0.024227501904066785,0.015144105297791713,-0.22117349861478347,-0.003846086922990893,-0.2873646352608959,-0.18572198758064318,0.28226354244382745,0.08795705297313279,-0.16057583568231432,0.015102097712344883,0.9990133976280808,-0.2574075618495845,0.6352339322287317,0.9402384412625319,0.45306992122713086,0.22401239570673476,0.7430728758922776,-0.4568482974055077,-0.5927302704983711,-0.7388735565983175,-0.9473241250188601,-0.7773858184036123,-0.7478162765128651,0.9774452192215918,-0.7322415774030331,-0.2095698460947979,0.5039659444365937,1.0,0.117785262576278,-0.2662407810219317,-0.11631422069417557,0.0955488127564109],\"y\":[-0.615970501584069,-0.31729067615119716,-0.14620475691185053,-0.02590513093190494,-0.16946299957513114,-0.3294404600155678,-0.40465996893438855,-0.2910289297622719,-0.21629271997177857,0.007947205576241652,0.16677948574130966,0.3516434382100623,0.6349267906393525,0.6420365808886161,-0.4773701691482463,0.9762444202924236,0.6299335103654825,0.4422875960504439,0.2832444941267896,0.04728267359037898,-0.01830980047081109,-0.3199983336680111,0.437633062545393,-0.6789290678792179,0.1446406214461053,0.8702759348871681,0.48206018457822974,-0.20976584038025778,-0.5571078116226791,0.9054965321390096,-0.18915978768241906,-0.4089784027502572,-0.10008306533953552,0.0644450638145084,-0.3032581009659881,-0.2538351619291631,-0.27420367792160594,-0.3213376451144898,-0.3650206417699161,-0.20845355679195762,-0.31729261907733314,-0.3311842129301432,-0.44822827197109394,-0.4164347344939418,-0.5712812357232117,-0.2515193486776207,-0.17321356341305005,-0.30042479248490966,0.985325794228125,0.9548145347209289,0.41004713194420905,0.5745809302592412],\"type\":\"scatter\"}],                        {\"annotations\":[{\"showarrow\":false,\"text\":\"Top 100 subgraphs\",\"x\":0.005,\"xref\":\"paper\",\"y\":-0.002,\"yref\":\"paper\"}],\"height\":800,\"hovermode\":\"closest\",\"margin\":{\"b\":20,\"l\":5,\"r\":5,\"t\":40},\"plot_bgcolor\":\"white\",\"showlegend\":false,\"title\":{\"font\":{\"size\":20}},\"width\":1000,\"xaxis\":{\"showgrid\":false,\"zeroline\":false},\"yaxis\":{\"showgrid\":false,\"zeroline\":false},\"template\":{\"data\":{\"histogram2dcontour\":[{\"type\":\"histogram2dcontour\",\"colorbar\":{\"outlinewidth\":0,\"ticks\":\"\"},\"colorscale\":[[0.0,\"#0d0887\"],[0.1111111111111111,\"#46039f\"],[0.2222222222222222,\"#7201a8\"],[0.3333333333333333,\"#9c179e\"],[0.4444444444444444,\"#bd3786\"],[0.5555555555555556,\"#d8576b\"],[0.6666666666666666,\"#ed7953\"],[0.7777777777777778,\"#fb9f3a\"],[0.8888888888888888,\"#fdca26\"],[1.0,\"#f0f921\"]]}],\"choropleth\":[{\"type\":\"choropleth\",\"colorbar\":{\"outlinewidth\":0,\"ticks\":\"\"}}],\"histogram2d\":[{\"type\":\"histogram2d\",\"colorbar\":{\"outlinewidth\":0,\"ticks\":\"\"},\"colorscale\":[[0.0,\"#0d0887\"],[0.1111111111111111,\"#46039f\"],[0.2222222222222222,\"#7201a8\"],[0.3333333333333333,\"#9c179e\"],[0.4444444444444444,\"#bd3786\"],[0.5555555555555556,\"#d8576b\"],[0.6666666666666666,\"#ed7953\"],[0.7777777777777778,\"#fb9f3a\"],[0.8888888888888888,\"#fdca26\"],[1.0,\"#f0f921\"]]}],\"heatmap\":[{\"type\":\"heatmap\",\"colorbar\":{\"outlinewidth\":0,\"ticks\":\"\"},\"colorscale\":[[0.0,\"#0d0887\"],[0.1111111111111111,\"#46039f\"],[0.2222222222222222,\"#7201a8\"],[0.3333333333333333,\"#9c179e\"],[0.4444444444444444,\"#bd3786\"],[0.5555555555555556,\"#d8576b\"],[0.6666666666666666,\"#ed7953\"],[0.7777777777777778,\"#fb9f3a\"],[0.8888888888888888,\"#fdca26\"],[1.0,\"#f0f921\"]]}],\"heatmapgl\":[{\"type\":\"heatmapgl\",\"colorbar\":{\"outlinewidth\":0,\"ticks\":\"\"},\"colorscale\":[[0.0,\"#0d0887\"],[0.1111111111111111,\"#46039f\"],[0.2222222222222222,\"#7201a8\"],[0.3333333333333333,\"#9c179e\"],[0.4444444444444444,\"#bd3786\"],[0.5555555555555556,\"#d8576b\"],[0.6666666666666666,\"#ed7953\"],[0.7777777777777778,\"#fb9f3a\"],[0.8888888888888888,\"#fdca26\"],[1.0,\"#f0f921\"]]}],\"contourcarpet\":[{\"type\":\"contourcarpet\",\"colorbar\":{\"outlinewidth\":0,\"ticks\":\"\"}}],\"contour\":[{\"type\":\"contour\",\"colorbar\":{\"outlinewidth\":0,\"ticks\":\"\"},\"colorscale\":[[0.0,\"#0d0887\"],[0.1111111111111111,\"#46039f\"],[0.2222222222222222,\"#7201a8\"],[0.3333333333333333,\"#9c179e\"],[0.4444444444444444,\"#bd3786\"],[0.5555555555555556,\"#d8576b\"],[0.6666666666666666,\"#ed7953\"],[0.7777777777777778,\"#fb9f3a\"],[0.8888888888888888,\"#fdca26\"],[1.0,\"#f0f921\"]]}],\"surface\":[{\"type\":\"surface\",\"colorbar\":{\"outlinewidth\":0,\"ticks\":\"\"},\"colorscale\":[[0.0,\"#0d0887\"],[0.1111111111111111,\"#46039f\"],[0.2222222222222222,\"#7201a8\"],[0.3333333333333333,\"#9c179e\"],[0.4444444444444444,\"#bd3786\"],[0.5555555555555556,\"#d8576b\"],[0.6666666666666666,\"#ed7953\"],[0.7777777777777778,\"#fb9f3a\"],[0.8888888888888888,\"#fdca26\"],[1.0,\"#f0f921\"]]}],\"mesh3d\":[{\"type\":\"mesh3d\",\"colorbar\":{\"outlinewidth\":0,\"ticks\":\"\"}}],\"scatter\":[{\"fillpattern\":{\"fillmode\":\"overlay\",\"size\":10,\"solidity\":0.2},\"type\":\"scatter\"}],\"parcoords\":[{\"type\":\"parcoords\",\"line\":{\"colorbar\":{\"outlinewidth\":0,\"ticks\":\"\"}}}],\"scatterpolargl\":[{\"type\":\"scatterpolargl\",\"marker\":{\"colorbar\":{\"outlinewidth\":0,\"ticks\":\"\"}}}],\"bar\":[{\"error_x\":{\"color\":\"#2a3f5f\"},\"error_y\":{\"color\":\"#2a3f5f\"},\"marker\":{\"line\":{\"color\":\"#E5ECF6\",\"width\":0.5},\"pattern\":{\"fillmode\":\"overlay\",\"size\":10,\"solidity\":0.2}},\"type\":\"bar\"}],\"scattergeo\":[{\"type\":\"scattergeo\",\"marker\":{\"colorbar\":{\"outlinewidth\":0,\"ticks\":\"\"}}}],\"scatterpolar\":[{\"type\":\"scatterpolar\",\"marker\":{\"colorbar\":{\"outlinewidth\":0,\"ticks\":\"\"}}}],\"histogram\":[{\"marker\":{\"pattern\":{\"fillmode\":\"overlay\",\"size\":10,\"solidity\":0.2}},\"type\":\"histogram\"}],\"scattergl\":[{\"type\":\"scattergl\",\"marker\":{\"colorbar\":{\"outlinewidth\":0,\"ticks\":\"\"}}}],\"scatter3d\":[{\"type\":\"scatter3d\",\"line\":{\"colorbar\":{\"outlinewidth\":0,\"ticks\":\"\"}},\"marker\":{\"colorbar\":{\"outlinewidth\":0,\"ticks\":\"\"}}}],\"scattermapbox\":[{\"type\":\"scattermapbox\",\"marker\":{\"colorbar\":{\"outlinewidth\":0,\"ticks\":\"\"}}}],\"scatterternary\":[{\"type\":\"scatterternary\",\"marker\":{\"colorbar\":{\"outlinewidth\":0,\"ticks\":\"\"}}}],\"scattercarpet\":[{\"type\":\"scattercarpet\",\"marker\":{\"colorbar\":{\"outlinewidth\":0,\"ticks\":\"\"}}}],\"carpet\":[{\"aaxis\":{\"endlinecolor\":\"#2a3f5f\",\"gridcolor\":\"white\",\"linecolor\":\"white\",\"minorgridcolor\":\"white\",\"startlinecolor\":\"#2a3f5f\"},\"baxis\":{\"endlinecolor\":\"#2a3f5f\",\"gridcolor\":\"white\",\"linecolor\":\"white\",\"minorgridcolor\":\"white\",\"startlinecolor\":\"#2a3f5f\"},\"type\":\"carpet\"}],\"table\":[{\"cells\":{\"fill\":{\"color\":\"#EBF0F8\"},\"line\":{\"color\":\"white\"}},\"header\":{\"fill\":{\"color\":\"#C8D4E3\"},\"line\":{\"color\":\"white\"}},\"type\":\"table\"}],\"barpolar\":[{\"marker\":{\"line\":{\"color\":\"#E5ECF6\",\"width\":0.5},\"pattern\":{\"fillmode\":\"overlay\",\"size\":10,\"solidity\":0.2}},\"type\":\"barpolar\"}],\"pie\":[{\"automargin\":true,\"type\":\"pie\"}]},\"layout\":{\"autotypenumbers\":\"strict\",\"colorway\":[\"#636efa\",\"#EF553B\",\"#00cc96\",\"#ab63fa\",\"#FFA15A\",\"#19d3f3\",\"#FF6692\",\"#B6E880\",\"#FF97FF\",\"#FECB52\"],\"font\":{\"color\":\"#2a3f5f\"},\"hovermode\":\"closest\",\"hoverlabel\":{\"align\":\"left\"},\"paper_bgcolor\":\"white\",\"plot_bgcolor\":\"#E5ECF6\",\"polar\":{\"bgcolor\":\"#E5ECF6\",\"angularaxis\":{\"gridcolor\":\"white\",\"linecolor\":\"white\",\"ticks\":\"\"},\"radialaxis\":{\"gridcolor\":\"white\",\"linecolor\":\"white\",\"ticks\":\"\"}},\"ternary\":{\"bgcolor\":\"#E5ECF6\",\"aaxis\":{\"gridcolor\":\"white\",\"linecolor\":\"white\",\"ticks\":\"\"},\"baxis\":{\"gridcolor\":\"white\",\"linecolor\":\"white\",\"ticks\":\"\"},\"caxis\":{\"gridcolor\":\"white\",\"linecolor\":\"white\",\"ticks\":\"\"}},\"coloraxis\":{\"colorbar\":{\"outlinewidth\":0,\"ticks\":\"\"}},\"colorscale\":{\"sequential\":[[0.0,\"#0d0887\"],[0.1111111111111111,\"#46039f\"],[0.2222222222222222,\"#7201a8\"],[0.3333333333333333,\"#9c179e\"],[0.4444444444444444,\"#bd3786\"],[0.5555555555555556,\"#d8576b\"],[0.6666666666666666,\"#ed7953\"],[0.7777777777777778,\"#fb9f3a\"],[0.8888888888888888,\"#fdca26\"],[1.0,\"#f0f921\"]],\"sequentialminus\":[[0.0,\"#0d0887\"],[0.1111111111111111,\"#46039f\"],[0.2222222222222222,\"#7201a8\"],[0.3333333333333333,\"#9c179e\"],[0.4444444444444444,\"#bd3786\"],[0.5555555555555556,\"#d8576b\"],[0.6666666666666666,\"#ed7953\"],[0.7777777777777778,\"#fb9f3a\"],[0.8888888888888888,\"#fdca26\"],[1.0,\"#f0f921\"]],\"diverging\":[[0,\"#8e0152\"],[0.1,\"#c51b7d\"],[0.2,\"#de77ae\"],[0.3,\"#f1b6da\"],[0.4,\"#fde0ef\"],[0.5,\"#f7f7f7\"],[0.6,\"#e6f5d0\"],[0.7,\"#b8e186\"],[0.8,\"#7fbc41\"],[0.9,\"#4d9221\"],[1,\"#276419\"]]},\"xaxis\":{\"gridcolor\":\"white\",\"linecolor\":\"white\",\"ticks\":\"\",\"title\":{\"standoff\":15},\"zerolinecolor\":\"white\",\"automargin\":true,\"zerolinewidth\":2},\"yaxis\":{\"gridcolor\":\"white\",\"linecolor\":\"white\",\"ticks\":\"\",\"title\":{\"standoff\":15},\"zerolinecolor\":\"white\",\"automargin\":true,\"zerolinewidth\":2},\"scene\":{\"xaxis\":{\"backgroundcolor\":\"#E5ECF6\",\"gridcolor\":\"white\",\"linecolor\":\"white\",\"showbackground\":true,\"ticks\":\"\",\"zerolinecolor\":\"white\",\"gridwidth\":2},\"yaxis\":{\"backgroundcolor\":\"#E5ECF6\",\"gridcolor\":\"white\",\"linecolor\":\"white\",\"showbackground\":true,\"ticks\":\"\",\"zerolinecolor\":\"white\",\"gridwidth\":2},\"zaxis\":{\"backgroundcolor\":\"#E5ECF6\",\"gridcolor\":\"white\",\"linecolor\":\"white\",\"showbackground\":true,\"ticks\":\"\",\"zerolinecolor\":\"white\",\"gridwidth\":2}},\"shapedefaults\":{\"line\":{\"color\":\"#2a3f5f\"}},\"annotationdefaults\":{\"arrowcolor\":\"#2a3f5f\",\"arrowhead\":0,\"arrowwidth\":1},\"geo\":{\"bgcolor\":\"white\",\"landcolor\":\"#E5ECF6\",\"subunitcolor\":\"white\",\"showland\":true,\"showlakes\":true,\"lakecolor\":\"white\"},\"title\":{\"x\":0.05},\"mapbox\":{\"style\":\"light\"}}}},                        {\"responsive\": true}                    ).then(function(){\n",
       "                            \n",
       "var gd = document.getElementById('7f426c94-932e-46d5-8024-9eb737d9aac8');\n",
       "var x = new MutationObserver(function (mutations, observer) {{\n",
       "        var display = window.getComputedStyle(gd).display;\n",
       "        if (!display || display === 'none') {{\n",
       "            console.log([gd, 'removed!']);\n",
       "            Plotly.purge(gd);\n",
       "            observer.disconnect();\n",
       "        }}\n",
       "}});\n",
       "\n",
       "// Listen for the removal of the full notebook cells\n",
       "var notebookContainer = gd.closest('#notebook-container');\n",
       "if (notebookContainer) {{\n",
       "    x.observe(notebookContainer, {childList: true});\n",
       "}}\n",
       "\n",
       "// Listen for the clearing of the current output cell\n",
       "var outputEl = gd.closest('.output');\n",
       "if (outputEl) {{\n",
       "    x.observe(outputEl, {childList: true});\n",
       "}}\n",
       "\n",
       "                        })                };                });            </script>        </div>"
      ]
     },
     "metadata": {},
     "output_type": "display_data"
    }
   ],
   "source": [
    "import networkx as nx\n",
    "from torch_geometric.utils import to_networkx\n",
    "import plotly.graph_objects as go\n",
    "\n",
    "def visualize_top_subgraphs_plotly(data, edge_mask, top_n=10, save_path=None):\n",
    "    # Convert data to networkx graph\n",
    "    G = to_networkx(data, to_undirected=True)\n",
    "    \n",
    "    # Set edge weights from edge mask\n",
    "    for i, (u, v) in enumerate(G.edges()):\n",
    "        G[u][v]['weight'] = edge_mask[i].item()\n",
    "    \n",
    "    # Get top-N edges based on weight\n",
    "    top_edges = sorted(G.edges(data=True), key=lambda x: x[2]['weight'], reverse=True)[:top_n]\n",
    "    top_edges = [(u, v) for u, v, w in top_edges]\n",
    "\n",
    "    # Create a subgraph containing the top-N edges\n",
    "    subgraph = G.edge_subgraph(top_edges)\n",
    "\n",
    "    edge_weights = [subgraph[u][v]['weight'] for u, v in subgraph.edges()]\n",
    "    # edge_weights = [float(subgraph[u][v]['weight']) for u, v in subgraph.edges()]\n",
    "\n",
    "    # Get positions for all nodes in subgraph\n",
    "    pos = nx.spring_layout(subgraph)\n",
    "\n",
    "    edge_x = []\n",
    "    edge_y = []\n",
    "    for edge in subgraph.edges(data=True):\n",
    "        # x, y = [], []\n",
    "        x0, y0 = pos[edge[0]]\n",
    "        x1, y1 = pos[edge[1]]\n",
    "        # x.append(x0)\n",
    "        # x.append(x1)\n",
    "        # x.append(None)\n",
    "\n",
    "        # y.append(y0)\n",
    "        # y.append(y1)\n",
    "        # y.append(None)\n",
    "        \n",
    "        edge_x.append(x0)\n",
    "        edge_x.append(x1)\n",
    "        edge_x.append(None)\n",
    "        edge_y.append(y0)\n",
    "        edge_y.append(y1)\n",
    "        edge_y.append(None)\n",
    "    # print(edge_x)\n",
    "    \n",
    "    # Create Plotly edge traces\n",
    "    edge_trace = go.Scatter(\n",
    "        x=edge_x, y=edge_y,\n",
    "        line=dict(width=5, color='#888'),\n",
    "        hoverinfo='none',\n",
    "        mode='lines'\n",
    "    )\n",
    "\n",
    "    # edge_trace = []\n",
    "    # for i, e in enumerate(subgraph.edges):\n",
    "    #     trace_ = go.Scatter(\n",
    "    #         x=edge_x[i], y=edge_y[i],\n",
    "    #         mode=\"lines\",\n",
    "    #         line=dict(width=edge_weights[i]*5, color=\"#888\"),\n",
    "    #         hovertext=[str(edge_weights[i])],\n",
    "    #         hoverinfo='text')\n",
    "        \n",
    "    #     edge_trace.append(trace_)\n",
    "\n",
    "    node_x = []\n",
    "    node_y = []\n",
    "    node_text = []\n",
    "    \n",
    "    for node in subgraph.nodes():\n",
    "            x, y = pos[node]\n",
    "            node_x.append(x)\n",
    "            node_y.append(y)\n",
    "            node_text.append(str(node))\n",
    "        \n",
    "    # Create Plotly node traces\n",
    "    node_trace = go.Scatter(\n",
    "        x=node_x,\n",
    "        y=node_y,\n",
    "        text=node_text,\n",
    "        mode='markers+text',\n",
    "        textposition='top center',\n",
    "        hoverinfo='text',\n",
    "        marker=dict(\n",
    "            showscale=True,\n",
    "            colorscale='YlGnBu',\n",
    "            size=30,\n",
    "            colorbar=dict(\n",
    "                thickness=15,\n",
    "                title='Node Connections',\n",
    "                xanchor='left',\n",
    "                titleside='right'\n",
    "            ),\n",
    "            line_width=2)\n",
    "    )\n",
    "\n",
    "    node_adjacencies = []\n",
    "    node_text = []\n",
    "    for node, adjacencies in enumerate(subgraph.adjacency()):\n",
    "        node_adjacencies.append(len(adjacencies[1]))\n",
    "        node_text.append('# of connections: '+str(len(adjacencies[1])))\n",
    "    \n",
    "    node_trace.marker.color = node_adjacencies\n",
    "    # node_trace.text = node_text\n",
    "\n",
    "\n",
    "\n",
    "    # fig = go.Figure(data=[node_trace]+edge_trace[0:],\n",
    "    fig = go.Figure(data=[edge_trace, node_trace],\n",
    "                    layout=go.Layout(\n",
    "                        # title='<br>Network graph of top subgraph edges',\n",
    "                        # paper_bgcolor='white',\n",
    "                        plot_bgcolor='white',\n",
    "                        titlefont_size=20,\n",
    "                        showlegend=False,\n",
    "                        hovermode='closest',\n",
    "                        margin=dict(b=20, l=5, r=5, t=40),\n",
    "                        annotations=[dict(\n",
    "                            text=\"Top 100 subgraphs\",\n",
    "                            showarrow=False,\n",
    "                            xref=\"paper\", yref=\"paper\",\n",
    "                            x=0.005, y=-0.002)],\n",
    "                        xaxis=dict(showgrid=False, zeroline=False),\n",
    "                        yaxis=dict(showgrid=False, zeroline=False),\n",
    "                        width=1000,\n",
    "                        height=800)\n",
    "                    )\n",
    "\n",
    "    # for i in range(len(edge_weights)):\n",
    "    #     fig.add_trace(\n",
    "    #         go.Scatter(\n",
    "    #             x=edge_x[i*3:i*3+2], \n",
    "    #             y=edge_y[i*3:i*3+2],\n",
    "    #             mode='lines',\n",
    "    #             line=dict(width=edge_weights[i]*10, color='blue'),\n",
    "    #             hoverinfo='none',\n",
    "    #             showlegend=False\n",
    "    #         )\n",
    "    #     )\n",
    "\n",
    "    # Save the plot if save_path is provided\n",
    "    if save_path:\n",
    "        fig.write_image(save_path)\n",
    "    fig.show()\n",
    "\n",
    "# Example usage (assuming 'data' and 'edge_mask' are defined)\n",
    "visualize_top_subgraphs_plotly(data, explanation.edge_mask, top_n=100, save_path='top100_subgraph_plotly.png')\n"
   ]
  },
  {
   "cell_type": "code",
   "execution_count": null,
   "metadata": {},
   "outputs": [],
   "source": [
    "# 4 660 6 667 5 32 7 676 664 663 8 2 21 20 22 19 11 3 9 25 147 16 363 361 12 17 18 10 146 151\n",
    "# 30 48 63 31 96 35 33 "
   ]
  },
  {
   "cell_type": "code",
   "execution_count": 144,
   "metadata": {
    "scrolled": true
   },
   "outputs": [
    {
     "data": {
      "image/png": "[encoded data removed]",
      "text/plain": [
       "<Figure size 1000x600 with 1 Axes>"
      ]
     },
     "metadata": {},
     "output_type": "display_data"
    }
   ],
   "source": [
    "import torch\n",
    "import networkx as nx\n",
    "import matplotlib.pyplot as plt\n",
    "from torch_geometric.utils import to_networkx\n",
    "\n",
    "def visualize_top_nodes(data, node_mask, top_k=20):\n",
    "    # Sum the node mask across the features\n",
    "    node_scores = node_mask.sum(dim=1)  # Sum along the feature dimension\n",
    "    \n",
    "    # Get the top k node indices based on the summed node scores\n",
    "    top_k_values, top_k_indices = torch.topk(node_scores, top_k)\n",
    "    top_k_values = top_k_values.detach().cpu().numpy()\n",
    "    top_k_indices = top_k_indices.detach().cpu().numpy()\n",
    "    \n",
    "    # Ensure the indices are valid node indices in the graph\n",
    "#     G = to_networkx(data, to_undirected=True)\n",
    "    valid_indices = [idx for idx in top_k_indices if idx in G.nodes()]\n",
    "    valid_scores = [top_k_values[i] for i, idx in enumerate(top_k_indices) if idx in G.nodes()]\n",
    "    \n",
    "    # Bar plot\n",
    "    plt.figure(figsize=(10, 6))\n",
    "    plt.bar(range(len(valid_indices)), valid_scores, tick_label=valid_indices)\n",
    "    plt.xlabel('Node Indices')\n",
    "    plt.ylabel('Node Scores')\n",
    "    plt.title('Top 20 Node Scores')\n",
    "    plt.show()\n",
    "\n",
    "    # Create a subgraph with the valid indices\n",
    "#     subgraph = G.subgraph(valid_indices)\n",
    "    \n",
    "#     # Visualize the subgraph\n",
    "#     pos = nx.spring_layout(subgraph)\n",
    "#     nx.draw(subgraph, pos, with_labels=True, node_color='lightblue', edge_color='gray', node_size=500, font_size=10)\n",
    "#     nx.draw_networkx_edge_labels(subgraph, pos, edge_labels={(u, v): f'{G[u][v].get(\"weight\", 0):.2f}' for u, v in subgraph.edges()})\n",
    "#     plt.show()\n",
    "\n",
    "\n",
    "# Visualize the top node masks\n",
    "visualize_top_nodes(data, explanation.node_mask)\n"
   ]
  },
  {
   "cell_type": "markdown",
   "metadata": {},
   "source": [
    "1. torch.topk(node_mask, 10) : will return the top 10 values and their indices.\n",
    "2. .indices extracts the indices of these top 10 values.\n",
    "3. .detach() ensures no gradient information is stored.\n",
    "4. .cpu() moves the tensor to the CPU (necessary if it was on a GPU).\n",
    "5. .numpy() converts the result to a NumPy array."
   ]
  },
  {
   "cell_type": "code",
   "execution_count": 111,
   "metadata": {},
   "outputs": [
    {
     "name": "stdout",
     "output_type": "stream",
     "text": [
      "[0.14315937 0.14276347 0.14287207 ... 0.         0.         0.        ]\n",
      "[146.5952  146.18979 146.301   ...   0.        0.        0.     ]\n"
     ]
    }
   ],
   "source": [
    "x = explanation.node_mask.detach().cpu().numpy()\n",
    "print(np.sum(x, axis=1)/x.shape[1])\n",
    "print(np.sum(x, axis=1))"
   ]
  },
  {
   "cell_type": "code",
   "execution_count": 115,
   "metadata": {},
   "outputs": [
    {
     "name": "stdout",
     "output_type": "stream",
     "text": [
      "[[727  82 234 ... 536 626 474]\n",
      " [ 81 340 607 ... 136 814 284]\n",
      " [980 232 534 ... 900 217 880]\n",
      " ...\n",
      " [  5   9   2 ...   1   3   7]\n",
      " [  5   9   2 ...   1   3   7]\n",
      " [  5   9   2 ...   1   3   7]]\n",
      "(1153, 10)\n"
     ]
    }
   ],
   "source": [
    "# Get top-N important nodes\n",
    "top_nodes = torch.topk(explanation.node_mask, 10).indices.detach().cpu().numpy()\n",
    "print(top_nodes)\n",
    "print(top_nodes.shape)"
   ]
  },
  {
   "cell_type": "code",
   "execution_count": 138,
   "metadata": {},
   "outputs": [
    {
     "name": "stdout",
     "output_type": "stream",
     "text": [
      "[  11  644    6  641   32    0   33   36   19 1068]\n",
      "[11, 644, 6, 641, 32, 0, 33, 36, 19, 1068]\n",
      "torch.return_types.topk(\n",
      "values=tensor([146.7986, 146.7762, 146.7630, 146.7138, 146.5983, 146.5952, 146.5580,\n",
      "        146.5069, 146.4995, 146.4622, 146.4456, 146.4159, 146.4042, 146.3962,\n",
      "        146.3576, 146.3537, 146.3400, 146.3223, 146.3010, 146.2772, 146.2660,\n",
      "        146.2624, 146.2058, 146.1898, 146.1872, 146.1811, 146.1593, 146.0638,\n",
      "        146.0217, 145.9528, 145.9426, 145.8813, 145.8762, 145.7218,   0.0000,\n",
      "          0.0000,   0.0000,   0.0000,   0.0000,   0.0000,   0.0000,   0.0000,\n",
      "          0.0000,   0.0000,   0.0000,   0.0000,   0.0000,   0.0000,   0.0000,\n",
      "          0.0000]),\n",
      "indices=tensor([  11,  644,    6,  641,   32,    0,   33,   36,   19, 1068,   35, 1107,\n",
      "        1106,  363,   21,    8,   20,    7,    2,    5, 1104,   23,   24,    1,\n",
      "           4,   28,    9, 1105,    3,   26,   22,   10, 1108,   18,   34,   31,\n",
      "          30,   37,   38,   39,   40,   41,   42,   43,   44,   45,   46,   47,\n",
      "          48,   49]))\n"
     ]
    }
   ],
   "source": [
    "G = to_networkx(data, to_undirected=True)\n",
    "# print(G.nodes)\n",
    "# for i in G.nodes:\n",
    "#     print(i)\n",
    "# Get top-N important nodes\n",
    "node_scores = explanation.node_mask.sum(dim=1) \n",
    "top_nodes = torch.topk(node_scores, 10).indices.detach().cpu().numpy()\n",
    "\n",
    "print(top_nodes)\n",
    "# Ensure the indices are valid node indices in the graph\n",
    "valid_indices = [idx for idx in top_nodes if idx in G.nodes]\n",
    "print(valid_indices)\n",
    "print(torch.topk(node_scores, 50))"
   ]
  },
  {
   "cell_type": "markdown",
   "metadata": {},
   "source": [
    "# To-do\n",
    "\n",
    "1. create a validation set and run explainer on that.. check ICNNMD paper\n",
    "2. Check the model performance with 1 GCNConv layer\n",
    "3. Implement GAT\n",
    "4. Implement Graph-sage\n",
    "5. Check that whether explaination with different models gives different subgraphs or not..\n",
    "6. Check whether increase in training data impacts explaination or not\n",
    "7. Check whether node-level embedding changes the explaination\n",
    "\n",
    "I think this much is good enough for this work.."
   ]
  },
  {
   "cell_type": "code",
   "execution_count": null,
   "metadata": {},
   "outputs": [],
   "source": []
  }
 ],
 "metadata": {
  "colab": {
   "provenance": []
  },
  "kernelspec": {
   "display_name": "Python 3 (ipykernel)",
   "language": "python",
   "name": "python3"
  },
  "language_info": {
   "codemirror_mode": {
    "name": "ipython",
    "version": 3
   },
   "file_extension": ".py",
   "mimetype": "text/x-python",
   "name": "python",
   "nbconvert_exporter": "python",
   "pygments_lexer": "ipython3",
   "version": "3.9.18"
  }
 },
 "nbformat": 4,
 "nbformat_minor": 4
}
